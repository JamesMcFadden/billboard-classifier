{
  "nbformat": 4,
  "nbformat_minor": 0,
  "metadata": {
    "colab": {
      "name": "Augmented_Dataset.ipynb",
      "provenance": [],
      "collapsed_sections": [
        "WM9R4b9fSWkZ",
        "vq51QUK_LqGQ",
        "t6FgDSVILL6w",
        "aVeH1uK1iEL5",
        "w2XXuP-JiO3u"
      ],
      "toc_visible": true
    },
    "kernelspec": {
      "display_name": "Python 3",
      "language": "python",
      "name": "python3"
    },
    "language_info": {
      "codemirror_mode": {
        "name": "ipython",
        "version": 3
      },
      "file_extension": ".py",
      "mimetype": "text/x-python",
      "name": "python",
      "nbconvert_exporter": "python",
      "pygments_lexer": "ipython3",
      "version": "3.7.1"
    }
  },
  "cells": [
    {
      "cell_type": "markdown",
      "metadata": {
        "id": "WM9R4b9fSWkZ"
      },
      "source": [
        "# Loading Billboard Data"
      ]
    },
    {
      "cell_type": "code",
      "metadata": {
        "id": "c0jhmcqAKZP7"
      },
      "source": [
        "import numpy as np\n",
        "import pandas as pd\n",
        "import io"
      ],
      "execution_count": null,
      "outputs": []
    },
    {
      "cell_type": "code",
      "metadata": {
        "colab": {
          "base_uri": "https://localhost:8080/"
        },
        "id": "LhJji_60IkjM",
        "outputId": "45a875e8-0262-4c88-bd4f-b7bd695a3f9c"
      },
      "source": [
        "from google.colab import drive\n",
        "drive.mount('/content/drive')"
      ],
      "execution_count": null,
      "outputs": [
        {
          "output_type": "stream",
          "text": [
            "Mounted at /content/drive\n"
          ],
          "name": "stdout"
        }
      ]
    },
    {
      "cell_type": "code",
      "metadata": {
        "id": "E3TC5350JMiv"
      },
      "source": [
        "df = pd.read_csv('drive/MyDrive/billboardHot100_1999-2019.csv', index_col=False)"
      ],
      "execution_count": null,
      "outputs": []
    },
    {
      "cell_type": "code",
      "metadata": {
        "id": "T46dC3ZBuufy"
      },
      "source": [
        "df2 = df.copy()"
      ],
      "execution_count": null,
      "outputs": []
    },
    {
      "cell_type": "markdown",
      "metadata": {
        "id": "vq51QUK_LqGQ"
      },
      "source": [
        "#Billboard Cleaning and Exploration"
      ]
    },
    {
      "cell_type": "code",
      "metadata": {
        "colab": {
          "base_uri": "https://localhost:8080/"
        },
        "id": "xRMWnxf8Rb5i",
        "outputId": "ce4630ae-3981-4d41-859a-c6ba17f090f0"
      },
      "source": [
        "df2.head(1)"
      ],
      "execution_count": null,
      "outputs": [
        {
          "output_type": "execute_result",
          "data": {
            "text/html": [
              "<div>\n",
              "<style scoped>\n",
              "    .dataframe tbody tr th:only-of-type {\n",
              "        vertical-align: middle;\n",
              "    }\n",
              "\n",
              "    .dataframe tbody tr th {\n",
              "        vertical-align: top;\n",
              "    }\n",
              "\n",
              "    .dataframe thead th {\n",
              "        text-align: right;\n",
              "    }\n",
              "</style>\n",
              "<table border=\"1\" class=\"dataframe\">\n",
              "  <thead>\n",
              "    <tr style=\"text-align: right;\">\n",
              "      <th></th>\n",
              "      <th>Unnamed: 0</th>\n",
              "      <th>Artists</th>\n",
              "      <th>Name</th>\n",
              "      <th>Weekly.rank</th>\n",
              "      <th>Peak.position</th>\n",
              "      <th>Weeks.on.chart</th>\n",
              "      <th>Week</th>\n",
              "      <th>Date</th>\n",
              "      <th>Genre</th>\n",
              "      <th>Writing.Credits</th>\n",
              "      <th>Lyrics</th>\n",
              "      <th>Features</th>\n",
              "    </tr>\n",
              "  </thead>\n",
              "  <tbody>\n",
              "    <tr>\n",
              "      <th>0</th>\n",
              "      <td>1</td>\n",
              "      <td>Lil Nas,</td>\n",
              "      <td>Old Town Road</td>\n",
              "      <td>1</td>\n",
              "      <td>1.0</td>\n",
              "      <td>7.0</td>\n",
              "      <td>2019-07-06</td>\n",
              "      <td>April 5, 2019</td>\n",
              "      <td>Country,Atlanta,Alternative Country,Hip-Hop,Tr...</td>\n",
              "      <td>Jozzy, Atticus ross, Trent reznor, Billy ray c...</td>\n",
              "      <td>Old Town Road Remix \\nOh, oh-oh\\nOh\\nYeah, I'm...</td>\n",
              "      <td>Billy Ray Cyrus</td>\n",
              "    </tr>\n",
              "  </tbody>\n",
              "</table>\n",
              "</div>"
            ],
            "text/plain": [
              "   Unnamed: 0  ...         Features\n",
              "0           1  ...  Billy Ray Cyrus\n",
              "\n",
              "[1 rows x 12 columns]"
            ]
          },
          "metadata": {
            "tags": []
          },
          "execution_count": 5
        }
      ]
    },
    {
      "cell_type": "code",
      "metadata": {
        "colab": {
          "base_uri": "https://localhost:8080/"
        },
        "id": "eRTFoKKZFCyN",
        "outputId": "83defc15-b71e-48d9-c867-0762723731a7"
      },
      "source": [
        "df2.dtypes"
      ],
      "execution_count": null,
      "outputs": [
        {
          "output_type": "execute_result",
          "data": {
            "text/plain": [
              "Unnamed: 0           int64\n",
              "Artists             object\n",
              "Name                object\n",
              "Weekly.rank          int64\n",
              "Peak.position      float64\n",
              "Weeks.on.chart     float64\n",
              "Week                object\n",
              "Date                object\n",
              "Genre               object\n",
              "Writing.Credits     object\n",
              "Lyrics              object\n",
              "Features            object\n",
              "dtype: object"
            ]
          },
          "metadata": {
            "tags": []
          },
          "execution_count": 6
        }
      ]
    },
    {
      "cell_type": "code",
      "metadata": {
        "id": "7hn2UFcN0gxY"
      },
      "source": [
        "df2['Release_Date'] = df2['Date']\n",
        "df2 = df2.drop(['Date'], axis=1)"
      ],
      "execution_count": null,
      "outputs": []
    },
    {
      "cell_type": "code",
      "metadata": {
        "id": "dHrSalb9FCUn"
      },
      "source": [
        "# convert release date to datetime format\n",
        "df2['Release_Date'] = pd.to_datetime(df2['Release_Date'])\n",
        "df2['Week'] = pd.to_datetime(df2['Week'])"
      ],
      "execution_count": null,
      "outputs": []
    },
    {
      "cell_type": "code",
      "metadata": {
        "colab": {
          "base_uri": "https://localhost:8080/"
        },
        "id": "9FpHkK6PFzbR",
        "outputId": "cd8913aa-4fa9-4fee-b73e-55decb16015c"
      },
      "source": [
        "df2.dtypes"
      ],
      "execution_count": null,
      "outputs": [
        {
          "output_type": "execute_result",
          "data": {
            "text/plain": [
              "Unnamed: 0                  int64\n",
              "Artists                    object\n",
              "Name                       object\n",
              "Weekly.rank                 int64\n",
              "Peak.position             float64\n",
              "Weeks.on.chart            float64\n",
              "Week               datetime64[ns]\n",
              "Genre                      object\n",
              "Writing.Credits            object\n",
              "Lyrics                     object\n",
              "Features                   object\n",
              "Release_Date       datetime64[ns]\n",
              "dtype: object"
            ]
          },
          "metadata": {
            "tags": []
          },
          "execution_count": 9
        }
      ]
    },
    {
      "cell_type": "code",
      "metadata": {
        "id": "wyfEg7jgGLbS"
      },
      "source": [
        "# create granular release time variables\n",
        "df2[\"Release_Month\"] = df2['Release_Date'].dt.month\n",
        "df2[\"Release_Day\"] = df2['Release_Date'].dt.day\n",
        "df2[\"Release_Year\"] = df2['Release_Date'].dt.year"
      ],
      "execution_count": null,
      "outputs": []
    },
    {
      "cell_type": "code",
      "metadata": {
        "id": "IgZqoXMdvMWJ",
        "colab": {
          "base_uri": "https://localhost:8080/"
        },
        "outputId": "646e4012-cabe-44d0-dbf7-6feb8fff95b9"
      },
      "source": [
        "df2.head(1)"
      ],
      "execution_count": null,
      "outputs": [
        {
          "output_type": "execute_result",
          "data": {
            "text/html": [
              "<div>\n",
              "<style scoped>\n",
              "    .dataframe tbody tr th:only-of-type {\n",
              "        vertical-align: middle;\n",
              "    }\n",
              "\n",
              "    .dataframe tbody tr th {\n",
              "        vertical-align: top;\n",
              "    }\n",
              "\n",
              "    .dataframe thead th {\n",
              "        text-align: right;\n",
              "    }\n",
              "</style>\n",
              "<table border=\"1\" class=\"dataframe\">\n",
              "  <thead>\n",
              "    <tr style=\"text-align: right;\">\n",
              "      <th></th>\n",
              "      <th>Unnamed: 0</th>\n",
              "      <th>Artists</th>\n",
              "      <th>Name</th>\n",
              "      <th>Weekly.rank</th>\n",
              "      <th>Peak.position</th>\n",
              "      <th>Weeks.on.chart</th>\n",
              "      <th>Week</th>\n",
              "      <th>Genre</th>\n",
              "      <th>Writing.Credits</th>\n",
              "      <th>Lyrics</th>\n",
              "      <th>Features</th>\n",
              "      <th>Release_Date</th>\n",
              "      <th>Release_Month</th>\n",
              "      <th>Release_Day</th>\n",
              "      <th>Release_Year</th>\n",
              "    </tr>\n",
              "  </thead>\n",
              "  <tbody>\n",
              "    <tr>\n",
              "      <th>0</th>\n",
              "      <td>1</td>\n",
              "      <td>Lil Nas,</td>\n",
              "      <td>Old Town Road</td>\n",
              "      <td>1</td>\n",
              "      <td>1.0</td>\n",
              "      <td>7.0</td>\n",
              "      <td>2019-07-06</td>\n",
              "      <td>Country,Atlanta,Alternative Country,Hip-Hop,Tr...</td>\n",
              "      <td>Jozzy, Atticus ross, Trent reznor, Billy ray c...</td>\n",
              "      <td>Old Town Road Remix \\nOh, oh-oh\\nOh\\nYeah, I'm...</td>\n",
              "      <td>Billy Ray Cyrus</td>\n",
              "      <td>2019-04-05</td>\n",
              "      <td>4.0</td>\n",
              "      <td>5.0</td>\n",
              "      <td>2019.0</td>\n",
              "    </tr>\n",
              "  </tbody>\n",
              "</table>\n",
              "</div>"
            ],
            "text/plain": [
              "   Unnamed: 0   Artists  ... Release_Day  Release_Year\n",
              "0           1  Lil Nas,  ...         5.0        2019.0\n",
              "\n",
              "[1 rows x 15 columns]"
            ]
          },
          "metadata": {
            "tags": []
          },
          "execution_count": 11
        }
      ]
    },
    {
      "cell_type": "code",
      "metadata": {
        "colab": {
          "base_uri": "https://localhost:8080/"
        },
        "id": "pQWdElcmz38S",
        "outputId": "210cb1c4-d24b-4766-c4ab-e414d024716c"
      },
      "source": [
        "df2.dtypes"
      ],
      "execution_count": null,
      "outputs": [
        {
          "output_type": "execute_result",
          "data": {
            "text/plain": [
              "Unnamed: 0                  int64\n",
              "Artists                    object\n",
              "Name                       object\n",
              "Weekly.rank                 int64\n",
              "Peak.position             float64\n",
              "Weeks.on.chart            float64\n",
              "Week               datetime64[ns]\n",
              "Genre                      object\n",
              "Writing.Credits            object\n",
              "Lyrics                     object\n",
              "Features                   object\n",
              "Release_Date       datetime64[ns]\n",
              "Release_Month             float64\n",
              "Release_Day               float64\n",
              "Release_Year              float64\n",
              "dtype: object"
            ]
          },
          "metadata": {
            "tags": []
          },
          "execution_count": 12
        }
      ]
    },
    {
      "cell_type": "code",
      "metadata": {
        "id": "ARASAVFuz5if"
      },
      "source": [
        "# Change NaN values for number of weeks on chart to zero\n",
        "df2['Weeks.on.chart'] = df2['Weeks.on.chart'].fillna(0)"
      ],
      "execution_count": null,
      "outputs": []
    },
    {
      "cell_type": "code",
      "metadata": {
        "id": "xxE7UgDJ0SVh"
      },
      "source": [
        "df2 = df2.drop(columns = 'Unnamed: 0')"
      ],
      "execution_count": null,
      "outputs": []
    },
    {
      "cell_type": "code",
      "metadata": {
        "colab": {
          "base_uri": "https://localhost:8080/"
        },
        "id": "iZoP06FJ0Tf6",
        "outputId": "f6afef42-15f6-445f-8a0f-828008d7b767"
      },
      "source": [
        "df2.head(2)"
      ],
      "execution_count": null,
      "outputs": [
        {
          "output_type": "execute_result",
          "data": {
            "text/html": [
              "<div>\n",
              "<style scoped>\n",
              "    .dataframe tbody tr th:only-of-type {\n",
              "        vertical-align: middle;\n",
              "    }\n",
              "\n",
              "    .dataframe tbody tr th {\n",
              "        vertical-align: top;\n",
              "    }\n",
              "\n",
              "    .dataframe thead th {\n",
              "        text-align: right;\n",
              "    }\n",
              "</style>\n",
              "<table border=\"1\" class=\"dataframe\">\n",
              "  <thead>\n",
              "    <tr style=\"text-align: right;\">\n",
              "      <th></th>\n",
              "      <th>Artists</th>\n",
              "      <th>Name</th>\n",
              "      <th>Weekly.rank</th>\n",
              "      <th>Peak.position</th>\n",
              "      <th>Weeks.on.chart</th>\n",
              "      <th>Week</th>\n",
              "      <th>Genre</th>\n",
              "      <th>Writing.Credits</th>\n",
              "      <th>Lyrics</th>\n",
              "      <th>Features</th>\n",
              "      <th>Release_Date</th>\n",
              "      <th>Release_Month</th>\n",
              "      <th>Release_Day</th>\n",
              "      <th>Release_Year</th>\n",
              "    </tr>\n",
              "  </thead>\n",
              "  <tbody>\n",
              "    <tr>\n",
              "      <th>0</th>\n",
              "      <td>Lil Nas,</td>\n",
              "      <td>Old Town Road</td>\n",
              "      <td>1</td>\n",
              "      <td>1.0</td>\n",
              "      <td>7.0</td>\n",
              "      <td>2019-07-06</td>\n",
              "      <td>Country,Atlanta,Alternative Country,Hip-Hop,Tr...</td>\n",
              "      <td>Jozzy, Atticus ross, Trent reznor, Billy ray c...</td>\n",
              "      <td>Old Town Road Remix \\nOh, oh-oh\\nOh\\nYeah, I'm...</td>\n",
              "      <td>Billy Ray Cyrus</td>\n",
              "      <td>2019-04-05</td>\n",
              "      <td>4.0</td>\n",
              "      <td>5.0</td>\n",
              "      <td>2019.0</td>\n",
              "    </tr>\n",
              "    <tr>\n",
              "      <th>1</th>\n",
              "      <td>Shawn Mendes, Camila Cabello</td>\n",
              "      <td>Senorita</td>\n",
              "      <td>2</td>\n",
              "      <td>NaN</td>\n",
              "      <td>0.0</td>\n",
              "      <td>2019-07-06</td>\n",
              "      <td>Pop</td>\n",
              "      <td>Cashmere cat, Jack patterson, Charli xcx, Benn...</td>\n",
              "      <td>Senorita \\nI love it when you call me senorita...</td>\n",
              "      <td>NaN</td>\n",
              "      <td>2019-06-21</td>\n",
              "      <td>6.0</td>\n",
              "      <td>21.0</td>\n",
              "      <td>2019.0</td>\n",
              "    </tr>\n",
              "  </tbody>\n",
              "</table>\n",
              "</div>"
            ],
            "text/plain": [
              "                        Artists           Name  ...  Release_Day  Release_Year\n",
              "0                      Lil Nas,  Old Town Road  ...          5.0        2019.0\n",
              "1  Shawn Mendes, Camila Cabello       Senorita  ...         21.0        2019.0\n",
              "\n",
              "[2 rows x 14 columns]"
            ]
          },
          "metadata": {
            "tags": []
          },
          "execution_count": 15
        }
      ]
    },
    {
      "cell_type": "code",
      "metadata": {
        "colab": {
          "base_uri": "https://localhost:8080/"
        },
        "id": "e2z0QokoPoks",
        "outputId": "ae3f87f4-e51f-4e97-b630-13d735a41623"
      },
      "source": [
        "#Most recent week is 2019-07-06\n",
        "df2[df2['Name'] == 'Senorita'].head()"
      ],
      "execution_count": null,
      "outputs": [
        {
          "output_type": "execute_result",
          "data": {
            "text/html": [
              "<div>\n",
              "<style scoped>\n",
              "    .dataframe tbody tr th:only-of-type {\n",
              "        vertical-align: middle;\n",
              "    }\n",
              "\n",
              "    .dataframe tbody tr th {\n",
              "        vertical-align: top;\n",
              "    }\n",
              "\n",
              "    .dataframe thead th {\n",
              "        text-align: right;\n",
              "    }\n",
              "</style>\n",
              "<table border=\"1\" class=\"dataframe\">\n",
              "  <thead>\n",
              "    <tr style=\"text-align: right;\">\n",
              "      <th></th>\n",
              "      <th>Artists</th>\n",
              "      <th>Name</th>\n",
              "      <th>Weekly.rank</th>\n",
              "      <th>Peak.position</th>\n",
              "      <th>Weeks.on.chart</th>\n",
              "      <th>Week</th>\n",
              "      <th>Genre</th>\n",
              "      <th>Writing.Credits</th>\n",
              "      <th>Lyrics</th>\n",
              "      <th>Features</th>\n",
              "      <th>Release_Date</th>\n",
              "      <th>Release_Month</th>\n",
              "      <th>Release_Day</th>\n",
              "      <th>Release_Year</th>\n",
              "    </tr>\n",
              "  </thead>\n",
              "  <tbody>\n",
              "    <tr>\n",
              "      <th>1</th>\n",
              "      <td>Shawn Mendes, Camila Cabello</td>\n",
              "      <td>Senorita</td>\n",
              "      <td>2</td>\n",
              "      <td>NaN</td>\n",
              "      <td>0.0</td>\n",
              "      <td>2019-07-06</td>\n",
              "      <td>Pop</td>\n",
              "      <td>Cashmere cat, Jack patterson, Charli xcx, Benn...</td>\n",
              "      <td>Senorita \\nI love it when you call me senorita...</td>\n",
              "      <td>NaN</td>\n",
              "      <td>2019-06-21</td>\n",
              "      <td>6.0</td>\n",
              "      <td>21.0</td>\n",
              "      <td>2019.0</td>\n",
              "    </tr>\n",
              "    <tr>\n",
              "      <th>76502</th>\n",
              "      <td>Justin Timberlake</td>\n",
              "      <td>Senorita</td>\n",
              "      <td>95</td>\n",
              "      <td>27.0</td>\n",
              "      <td>17.0</td>\n",
              "      <td>2003-11-18</td>\n",
              "      <td>R&amp;;B,Pop</td>\n",
              "      <td>Chad hugo, Pharrell williams, Justin timberlake</td>\n",
              "      <td>Senorita \\nLadies and gentlemen\\nIt's my pleas...</td>\n",
              "      <td>NaN</td>\n",
              "      <td>2003-07-08</td>\n",
              "      <td>7.0</td>\n",
              "      <td>8.0</td>\n",
              "      <td>2003.0</td>\n",
              "    </tr>\n",
              "    <tr>\n",
              "      <th>76590</th>\n",
              "      <td>Justin Timberlake</td>\n",
              "      <td>Senorita</td>\n",
              "      <td>91</td>\n",
              "      <td>27.0</td>\n",
              "      <td>16.0</td>\n",
              "      <td>2003-11-11</td>\n",
              "      <td>R&amp;;B,Pop</td>\n",
              "      <td>Chad hugo, Pharrell williams, Justin timberlake</td>\n",
              "      <td>Senorita \\nLadies and gentlemen\\nIt's my pleas...</td>\n",
              "      <td>NaN</td>\n",
              "      <td>2003-07-08</td>\n",
              "      <td>7.0</td>\n",
              "      <td>8.0</td>\n",
              "      <td>2003.0</td>\n",
              "    </tr>\n",
              "    <tr>\n",
              "      <th>76688</th>\n",
              "      <td>Justin Timberlake</td>\n",
              "      <td>Senorita</td>\n",
              "      <td>95</td>\n",
              "      <td>27.0</td>\n",
              "      <td>15.0</td>\n",
              "      <td>2003-11-04</td>\n",
              "      <td>R&amp;;B,Pop</td>\n",
              "      <td>Chad hugo, Pharrell williams, Justin timberlake</td>\n",
              "      <td>Senorita \\nLadies and gentlemen\\nIt's my pleas...</td>\n",
              "      <td>NaN</td>\n",
              "      <td>2003-07-08</td>\n",
              "      <td>7.0</td>\n",
              "      <td>8.0</td>\n",
              "      <td>2003.0</td>\n",
              "    </tr>\n",
              "    <tr>\n",
              "      <th>76772</th>\n",
              "      <td>Justin Timberlake</td>\n",
              "      <td>Senorita</td>\n",
              "      <td>85</td>\n",
              "      <td>27.0</td>\n",
              "      <td>14.0</td>\n",
              "      <td>2003-10-28</td>\n",
              "      <td>R&amp;;B,Pop</td>\n",
              "      <td>Chad hugo, Pharrell williams, Justin timberlake</td>\n",
              "      <td>Senorita \\nLadies and gentlemen\\nIt's my pleas...</td>\n",
              "      <td>NaN</td>\n",
              "      <td>2003-07-08</td>\n",
              "      <td>7.0</td>\n",
              "      <td>8.0</td>\n",
              "      <td>2003.0</td>\n",
              "    </tr>\n",
              "  </tbody>\n",
              "</table>\n",
              "</div>"
            ],
            "text/plain": [
              "                            Artists      Name  ...  Release_Day  Release_Year\n",
              "1      Shawn Mendes, Camila Cabello  Senorita  ...         21.0        2019.0\n",
              "76502             Justin Timberlake  Senorita  ...          8.0        2003.0\n",
              "76590             Justin Timberlake  Senorita  ...          8.0        2003.0\n",
              "76688             Justin Timberlake  Senorita  ...          8.0        2003.0\n",
              "76772             Justin Timberlake  Senorita  ...          8.0        2003.0\n",
              "\n",
              "[5 rows x 14 columns]"
            ]
          },
          "metadata": {
            "tags": []
          },
          "execution_count": 16
        }
      ]
    },
    {
      "cell_type": "markdown",
      "metadata": {
        "id": "t6FgDSVILL6w"
      },
      "source": [
        "#Joins for New Billboard Dataframe"
      ]
    },
    {
      "cell_type": "markdown",
      "metadata": {
        "id": "MGmVSTwptNWq"
      },
      "source": [
        "In this section, we create a dataframe that summarizes the most significant aspects of the data. It will contain information of a given song's name and primary artist, the number of weeks it stayed on the chart, and its peak position on the chart."
      ]
    },
    {
      "cell_type": "code",
      "metadata": {
        "id": "sKkPWw1T6U_M"
      },
      "source": [
        "df3 = df2[['Artists', 'Name', 'Peak.position']]"
      ],
      "execution_count": null,
      "outputs": []
    },
    {
      "cell_type": "code",
      "metadata": {
        "colab": {
          "base_uri": "https://localhost:8080/"
        },
        "id": "ROSGM_eM9RZv",
        "outputId": "1d006c0c-dd52-4cfa-f1f2-36d51eee66c4"
      },
      "source": [
        "df3['Peak.position'] = df3['Peak.position'].fillna(101)"
      ],
      "execution_count": null,
      "outputs": [
        {
          "output_type": "stream",
          "text": [
            "/usr/local/lib/python3.6/dist-packages/ipykernel_launcher.py:1: SettingWithCopyWarning: \n",
            "A value is trying to be set on a copy of a slice from a DataFrame.\n",
            "Try using .loc[row_indexer,col_indexer] = value instead\n",
            "\n",
            "See the caveats in the documentation: https://pandas.pydata.org/pandas-docs/stable/user_guide/indexing.html#returning-a-view-versus-a-copy\n",
            "  \"\"\"Entry point for launching an IPython kernel.\n"
          ],
          "name": "stderr"
        }
      ]
    },
    {
      "cell_type": "code",
      "metadata": {
        "colab": {
          "base_uri": "https://localhost:8080/"
        },
        "id": "kn-q_YXA9VfZ",
        "outputId": "67c4d543-3522-4caf-a679-684a831dccc4"
      },
      "source": [
        "df3.head(2)"
      ],
      "execution_count": null,
      "outputs": [
        {
          "output_type": "execute_result",
          "data": {
            "text/html": [
              "<div>\n",
              "<style scoped>\n",
              "    .dataframe tbody tr th:only-of-type {\n",
              "        vertical-align: middle;\n",
              "    }\n",
              "\n",
              "    .dataframe tbody tr th {\n",
              "        vertical-align: top;\n",
              "    }\n",
              "\n",
              "    .dataframe thead th {\n",
              "        text-align: right;\n",
              "    }\n",
              "</style>\n",
              "<table border=\"1\" class=\"dataframe\">\n",
              "  <thead>\n",
              "    <tr style=\"text-align: right;\">\n",
              "      <th></th>\n",
              "      <th>Artists</th>\n",
              "      <th>Name</th>\n",
              "      <th>Peak.position</th>\n",
              "    </tr>\n",
              "  </thead>\n",
              "  <tbody>\n",
              "    <tr>\n",
              "      <th>0</th>\n",
              "      <td>Lil Nas,</td>\n",
              "      <td>Old Town Road</td>\n",
              "      <td>1.0</td>\n",
              "    </tr>\n",
              "    <tr>\n",
              "      <th>1</th>\n",
              "      <td>Shawn Mendes, Camila Cabello</td>\n",
              "      <td>Senorita</td>\n",
              "      <td>101.0</td>\n",
              "    </tr>\n",
              "  </tbody>\n",
              "</table>\n",
              "</div>"
            ],
            "text/plain": [
              "                        Artists           Name  Peak.position\n",
              "0                      Lil Nas,  Old Town Road            1.0\n",
              "1  Shawn Mendes, Camila Cabello       Senorita          101.0"
            ]
          },
          "metadata": {
            "tags": []
          },
          "execution_count": 19
        }
      ]
    },
    {
      "cell_type": "code",
      "metadata": {
        "id": "b_A_OBil9pre"
      },
      "source": [
        "df4 = df3.groupby(by = ['Artists', 'Name']).min()"
      ],
      "execution_count": null,
      "outputs": []
    },
    {
      "cell_type": "code",
      "metadata": {
        "colab": {
          "base_uri": "https://localhost:8080/"
        },
        "id": "jB04XKnY9ydH",
        "outputId": "47f0e6a8-025a-483c-fd69-a5fa6a4474a0"
      },
      "source": [
        "df4.head()"
      ],
      "execution_count": null,
      "outputs": [
        {
          "output_type": "execute_result",
          "data": {
            "text/html": [
              "<div>\n",
              "<style scoped>\n",
              "    .dataframe tbody tr th:only-of-type {\n",
              "        vertical-align: middle;\n",
              "    }\n",
              "\n",
              "    .dataframe tbody tr th {\n",
              "        vertical-align: top;\n",
              "    }\n",
              "\n",
              "    .dataframe thead th {\n",
              "        text-align: right;\n",
              "    }\n",
              "</style>\n",
              "<table border=\"1\" class=\"dataframe\">\n",
              "  <thead>\n",
              "    <tr style=\"text-align: right;\">\n",
              "      <th></th>\n",
              "      <th></th>\n",
              "      <th>Peak.position</th>\n",
              "    </tr>\n",
              "    <tr>\n",
              "      <th>Artists</th>\n",
              "      <th>Name</th>\n",
              "      <th></th>\n",
              "    </tr>\n",
              "  </thead>\n",
              "  <tbody>\n",
              "    <tr>\n",
              "      <th rowspan=\"2\" valign=\"top\">\"Weird Al\" Yankovic</th>\n",
              "      <th>Canadian Idiot</th>\n",
              "      <td>82.0</td>\n",
              "    </tr>\n",
              "    <tr>\n",
              "      <th>Word Crimes</th>\n",
              "      <td>39.0</td>\n",
              "    </tr>\n",
              "    <tr>\n",
              "      <th rowspan=\"3\" valign=\"top\">'N Sync</th>\n",
              "      <th>Bye Bye Bye</th>\n",
              "      <td>4.0</td>\n",
              "    </tr>\n",
              "    <tr>\n",
              "      <th>Gone</th>\n",
              "      <td>11.0</td>\n",
              "    </tr>\n",
              "    <tr>\n",
              "      <th>It's Gonna Be Me</th>\n",
              "      <td>1.0</td>\n",
              "    </tr>\n",
              "  </tbody>\n",
              "</table>\n",
              "</div>"
            ],
            "text/plain": [
              "                                      Peak.position\n",
              "Artists             Name                           \n",
              "\"Weird Al\" Yankovic Canadian Idiot             82.0\n",
              "                    Word Crimes                39.0\n",
              "'N Sync             Bye Bye Bye                 4.0\n",
              "                    Gone                       11.0\n",
              "                    It's Gonna Be Me            1.0"
            ]
          },
          "metadata": {
            "tags": []
          },
          "execution_count": 21
        }
      ]
    },
    {
      "cell_type": "code",
      "metadata": {
        "id": "f-BqGG9p937S"
      },
      "source": [
        "df5 = df2[['Artists', 'Name', 'Weeks.on.chart']]"
      ],
      "execution_count": null,
      "outputs": []
    },
    {
      "cell_type": "code",
      "metadata": {
        "colab": {
          "base_uri": "https://localhost:8080/"
        },
        "id": "e9tciH3Y-P9c",
        "outputId": "b66cbd84-443e-4172-e48c-6551f9b48956"
      },
      "source": [
        "df5"
      ],
      "execution_count": null,
      "outputs": [
        {
          "output_type": "execute_result",
          "data": {
            "text/html": [
              "<div>\n",
              "<style scoped>\n",
              "    .dataframe tbody tr th:only-of-type {\n",
              "        vertical-align: middle;\n",
              "    }\n",
              "\n",
              "    .dataframe tbody tr th {\n",
              "        vertical-align: top;\n",
              "    }\n",
              "\n",
              "    .dataframe thead th {\n",
              "        text-align: right;\n",
              "    }\n",
              "</style>\n",
              "<table border=\"1\" class=\"dataframe\">\n",
              "  <thead>\n",
              "    <tr style=\"text-align: right;\">\n",
              "      <th></th>\n",
              "      <th>Artists</th>\n",
              "      <th>Name</th>\n",
              "      <th>Weeks.on.chart</th>\n",
              "    </tr>\n",
              "  </thead>\n",
              "  <tbody>\n",
              "    <tr>\n",
              "      <th>0</th>\n",
              "      <td>Lil Nas,</td>\n",
              "      <td>Old Town Road</td>\n",
              "      <td>7.0</td>\n",
              "    </tr>\n",
              "    <tr>\n",
              "      <th>1</th>\n",
              "      <td>Shawn Mendes, Camila Cabello</td>\n",
              "      <td>Senorita</td>\n",
              "      <td>0.0</td>\n",
              "    </tr>\n",
              "    <tr>\n",
              "      <th>2</th>\n",
              "      <td>Billie Eilish</td>\n",
              "      <td>Bad Guy</td>\n",
              "      <td>13.0</td>\n",
              "    </tr>\n",
              "    <tr>\n",
              "      <th>3</th>\n",
              "      <td>Khalid</td>\n",
              "      <td>Talk</td>\n",
              "      <td>20.0</td>\n",
              "    </tr>\n",
              "    <tr>\n",
              "      <th>4</th>\n",
              "      <td>Ed Sheeran, Justin Bieber</td>\n",
              "      <td>I Don't Care</td>\n",
              "      <td>7.0</td>\n",
              "    </tr>\n",
              "    <tr>\n",
              "      <th>...</th>\n",
              "      <td>...</td>\n",
              "      <td>...</td>\n",
              "      <td>...</td>\n",
              "    </tr>\n",
              "    <tr>\n",
              "      <th>97220</th>\n",
              "      <td>Vitamin C</td>\n",
              "      <td>Smile</td>\n",
              "      <td>0.0</td>\n",
              "    </tr>\n",
              "    <tr>\n",
              "      <th>97221</th>\n",
              "      <td>Collective Soul</td>\n",
              "      <td>Heavy</td>\n",
              "      <td>20.0</td>\n",
              "    </tr>\n",
              "    <tr>\n",
              "      <th>97222</th>\n",
              "      <td>Mary Chapin Carpenter</td>\n",
              "      <td>Almost Home</td>\n",
              "      <td>0.0</td>\n",
              "    </tr>\n",
              "    <tr>\n",
              "      <th>97223</th>\n",
              "      <td>Q</td>\n",
              "      <td>Vivrant Thing</td>\n",
              "      <td>0.0</td>\n",
              "    </tr>\n",
              "    <tr>\n",
              "      <th>97224</th>\n",
              "      <td>The Offspring</td>\n",
              "      <td>Why Don't You Get A Job?</td>\n",
              "      <td>15.0</td>\n",
              "    </tr>\n",
              "  </tbody>\n",
              "</table>\n",
              "<p>97225 rows × 3 columns</p>\n",
              "</div>"
            ],
            "text/plain": [
              "                            Artists                      Name  Weeks.on.chart\n",
              "0                          Lil Nas,             Old Town Road             7.0\n",
              "1      Shawn Mendes, Camila Cabello                  Senorita             0.0\n",
              "2                     Billie Eilish                   Bad Guy            13.0\n",
              "3                            Khalid                      Talk            20.0\n",
              "4         Ed Sheeran, Justin Bieber              I Don't Care             7.0\n",
              "...                             ...                       ...             ...\n",
              "97220                     Vitamin C                     Smile             0.0\n",
              "97221               Collective Soul                     Heavy            20.0\n",
              "97222         Mary Chapin Carpenter               Almost Home             0.0\n",
              "97223                             Q             Vivrant Thing             0.0\n",
              "97224                 The Offspring  Why Don't You Get A Job?            15.0\n",
              "\n",
              "[97225 rows x 3 columns]"
            ]
          },
          "metadata": {
            "tags": []
          },
          "execution_count": 23
        }
      ]
    },
    {
      "cell_type": "markdown",
      "metadata": {
        "id": "aVeH1uK1iEL5"
      },
      "source": [
        "#Construct Final Billboard Dataframe"
      ]
    },
    {
      "cell_type": "markdown",
      "metadata": {
        "id": "HSDB7dkftknz"
      },
      "source": [
        "In this section, we clean and prepare the dataframe from the previous section to make it ready for merging with the spotify data"
      ]
    },
    {
      "cell_type": "code",
      "metadata": {
        "id": "m4COTCdc-WJE"
      },
      "source": [
        "df6 = df5.groupby(by = ['Artists', 'Name']).max()"
      ],
      "execution_count": null,
      "outputs": []
    },
    {
      "cell_type": "code",
      "metadata": {
        "colab": {
          "base_uri": "https://localhost:8080/"
        },
        "id": "8ADgAQJ--azn",
        "outputId": "513cb8bd-da7c-450a-d92f-1fa03f672e8d"
      },
      "source": [
        "df6.head()"
      ],
      "execution_count": null,
      "outputs": [
        {
          "output_type": "execute_result",
          "data": {
            "text/html": [
              "<div>\n",
              "<style scoped>\n",
              "    .dataframe tbody tr th:only-of-type {\n",
              "        vertical-align: middle;\n",
              "    }\n",
              "\n",
              "    .dataframe tbody tr th {\n",
              "        vertical-align: top;\n",
              "    }\n",
              "\n",
              "    .dataframe thead th {\n",
              "        text-align: right;\n",
              "    }\n",
              "</style>\n",
              "<table border=\"1\" class=\"dataframe\">\n",
              "  <thead>\n",
              "    <tr style=\"text-align: right;\">\n",
              "      <th></th>\n",
              "      <th></th>\n",
              "      <th>Weeks.on.chart</th>\n",
              "    </tr>\n",
              "    <tr>\n",
              "      <th>Artists</th>\n",
              "      <th>Name</th>\n",
              "      <th></th>\n",
              "    </tr>\n",
              "  </thead>\n",
              "  <tbody>\n",
              "    <tr>\n",
              "      <th rowspan=\"2\" valign=\"top\">\"Weird Al\" Yankovic</th>\n",
              "      <th>Canadian Idiot</th>\n",
              "      <td>3.0</td>\n",
              "    </tr>\n",
              "    <tr>\n",
              "      <th>Word Crimes</th>\n",
              "      <td>2.0</td>\n",
              "    </tr>\n",
              "    <tr>\n",
              "      <th rowspan=\"3\" valign=\"top\">'N Sync</th>\n",
              "      <th>Bye Bye Bye</th>\n",
              "      <td>23.0</td>\n",
              "    </tr>\n",
              "    <tr>\n",
              "      <th>Gone</th>\n",
              "      <td>24.0</td>\n",
              "    </tr>\n",
              "    <tr>\n",
              "      <th>It's Gonna Be Me</th>\n",
              "      <td>25.0</td>\n",
              "    </tr>\n",
              "  </tbody>\n",
              "</table>\n",
              "</div>"
            ],
            "text/plain": [
              "                                      Weeks.on.chart\n",
              "Artists             Name                            \n",
              "\"Weird Al\" Yankovic Canadian Idiot               3.0\n",
              "                    Word Crimes                  2.0\n",
              "'N Sync             Bye Bye Bye                 23.0\n",
              "                    Gone                        24.0\n",
              "                    It's Gonna Be Me            25.0"
            ]
          },
          "metadata": {
            "tags": []
          },
          "execution_count": 25
        }
      ]
    },
    {
      "cell_type": "code",
      "metadata": {
        "id": "f6MkZLDC_S5Q"
      },
      "source": [
        "df6['Peak.position'] = df4['Peak.position']"
      ],
      "execution_count": null,
      "outputs": []
    },
    {
      "cell_type": "code",
      "metadata": {
        "colab": {
          "base_uri": "https://localhost:8080/"
        },
        "id": "bF6I2o9iASCR",
        "outputId": "af9f055e-af13-46ec-9488-df257560edfa"
      },
      "source": [
        "df6.head()"
      ],
      "execution_count": null,
      "outputs": [
        {
          "output_type": "execute_result",
          "data": {
            "text/html": [
              "<div>\n",
              "<style scoped>\n",
              "    .dataframe tbody tr th:only-of-type {\n",
              "        vertical-align: middle;\n",
              "    }\n",
              "\n",
              "    .dataframe tbody tr th {\n",
              "        vertical-align: top;\n",
              "    }\n",
              "\n",
              "    .dataframe thead th {\n",
              "        text-align: right;\n",
              "    }\n",
              "</style>\n",
              "<table border=\"1\" class=\"dataframe\">\n",
              "  <thead>\n",
              "    <tr style=\"text-align: right;\">\n",
              "      <th></th>\n",
              "      <th></th>\n",
              "      <th>Weeks.on.chart</th>\n",
              "      <th>Peak.position</th>\n",
              "    </tr>\n",
              "    <tr>\n",
              "      <th>Artists</th>\n",
              "      <th>Name</th>\n",
              "      <th></th>\n",
              "      <th></th>\n",
              "    </tr>\n",
              "  </thead>\n",
              "  <tbody>\n",
              "    <tr>\n",
              "      <th rowspan=\"2\" valign=\"top\">\"Weird Al\" Yankovic</th>\n",
              "      <th>Canadian Idiot</th>\n",
              "      <td>3.0</td>\n",
              "      <td>82.0</td>\n",
              "    </tr>\n",
              "    <tr>\n",
              "      <th>Word Crimes</th>\n",
              "      <td>2.0</td>\n",
              "      <td>39.0</td>\n",
              "    </tr>\n",
              "    <tr>\n",
              "      <th rowspan=\"3\" valign=\"top\">'N Sync</th>\n",
              "      <th>Bye Bye Bye</th>\n",
              "      <td>23.0</td>\n",
              "      <td>4.0</td>\n",
              "    </tr>\n",
              "    <tr>\n",
              "      <th>Gone</th>\n",
              "      <td>24.0</td>\n",
              "      <td>11.0</td>\n",
              "    </tr>\n",
              "    <tr>\n",
              "      <th>It's Gonna Be Me</th>\n",
              "      <td>25.0</td>\n",
              "      <td>1.0</td>\n",
              "    </tr>\n",
              "  </tbody>\n",
              "</table>\n",
              "</div>"
            ],
            "text/plain": [
              "                                      Weeks.on.chart  Peak.position\n",
              "Artists             Name                                           \n",
              "\"Weird Al\" Yankovic Canadian Idiot               3.0           82.0\n",
              "                    Word Crimes                  2.0           39.0\n",
              "'N Sync             Bye Bye Bye                 23.0            4.0\n",
              "                    Gone                        24.0           11.0\n",
              "                    It's Gonna Be Me            25.0            1.0"
            ]
          },
          "metadata": {
            "tags": []
          },
          "execution_count": 27
        }
      ]
    },
    {
      "cell_type": "code",
      "metadata": {
        "id": "qe3EQA-oHO4I"
      },
      "source": [
        "df6.reset_index(inplace=True)"
      ],
      "execution_count": null,
      "outputs": []
    },
    {
      "cell_type": "code",
      "metadata": {
        "id": "rvaN4XqhHO4I"
      },
      "source": [
        "#remove single quotes from artist name\n",
        "df6['Artists'] = df6['Artists'].map(lambda x: x.replace('\\'', ''))"
      ],
      "execution_count": null,
      "outputs": []
    },
    {
      "cell_type": "code",
      "metadata": {
        "id": "OGcTb8TmHO4J"
      },
      "source": [
        "#remove double quotes from artist name\n",
        "df6['Artists'] = df6['Artists'].map(lambda x: x.replace('\\\"', ''))"
      ],
      "execution_count": null,
      "outputs": []
    },
    {
      "cell_type": "code",
      "metadata": {
        "id": "FBwOhv9OHO4J"
      },
      "source": [
        "df6['Artists'] = df6['Artists'].str.lower()"
      ],
      "execution_count": null,
      "outputs": []
    },
    {
      "cell_type": "code",
      "metadata": {
        "id": "ahfqojxnHO4K"
      },
      "source": [
        "df6['Name'] = df6['Name'].str.lower()"
      ],
      "execution_count": null,
      "outputs": []
    },
    {
      "cell_type": "code",
      "metadata": {
        "id": "6i1ZMgHgHO4L"
      },
      "source": [
        "new = df6[\"Artists\"].str.split(\",\", n = 1, expand = True)"
      ],
      "execution_count": null,
      "outputs": []
    },
    {
      "cell_type": "code",
      "metadata": {
        "id": "xI77zSfsHO4M"
      },
      "source": [
        "# define the primary artist as the first artist listed in the artist column\n",
        "df6[\"Primary_Artist\"]= new[0]"
      ],
      "execution_count": null,
      "outputs": []
    },
    {
      "cell_type": "code",
      "metadata": {
        "id": "wSs4xjDLTCKI"
      },
      "source": [
        "# create a column that uniquely identifies a song by including both its artist and its name\n",
        "df6['Song_id'] = df6['Primary_Artist'] + ' ' + df6['Name']"
      ],
      "execution_count": null,
      "outputs": []
    },
    {
      "cell_type": "code",
      "metadata": {
        "colab": {
          "base_uri": "https://localhost:8080/"
        },
        "id": "M9nebv7ATQkc",
        "outputId": "6d357ae9-b70a-4128-9079-e1fc024d29eb"
      },
      "source": [
        "df6.head()"
      ],
      "execution_count": null,
      "outputs": [
        {
          "output_type": "execute_result",
          "data": {
            "text/html": [
              "<div>\n",
              "<style scoped>\n",
              "    .dataframe tbody tr th:only-of-type {\n",
              "        vertical-align: middle;\n",
              "    }\n",
              "\n",
              "    .dataframe tbody tr th {\n",
              "        vertical-align: top;\n",
              "    }\n",
              "\n",
              "    .dataframe thead th {\n",
              "        text-align: right;\n",
              "    }\n",
              "</style>\n",
              "<table border=\"1\" class=\"dataframe\">\n",
              "  <thead>\n",
              "    <tr style=\"text-align: right;\">\n",
              "      <th></th>\n",
              "      <th>Artists</th>\n",
              "      <th>Name</th>\n",
              "      <th>Weeks.on.chart</th>\n",
              "      <th>Peak.position</th>\n",
              "      <th>Primary_Artist</th>\n",
              "      <th>Song_id</th>\n",
              "    </tr>\n",
              "  </thead>\n",
              "  <tbody>\n",
              "    <tr>\n",
              "      <th>0</th>\n",
              "      <td>weird al yankovic</td>\n",
              "      <td>canadian idiot</td>\n",
              "      <td>3.0</td>\n",
              "      <td>82.0</td>\n",
              "      <td>weird al yankovic</td>\n",
              "      <td>weird al yankovic canadian idiot</td>\n",
              "    </tr>\n",
              "    <tr>\n",
              "      <th>1</th>\n",
              "      <td>weird al yankovic</td>\n",
              "      <td>word crimes</td>\n",
              "      <td>2.0</td>\n",
              "      <td>39.0</td>\n",
              "      <td>weird al yankovic</td>\n",
              "      <td>weird al yankovic word crimes</td>\n",
              "    </tr>\n",
              "    <tr>\n",
              "      <th>2</th>\n",
              "      <td>n sync</td>\n",
              "      <td>bye bye bye</td>\n",
              "      <td>23.0</td>\n",
              "      <td>4.0</td>\n",
              "      <td>n sync</td>\n",
              "      <td>n sync bye bye bye</td>\n",
              "    </tr>\n",
              "    <tr>\n",
              "      <th>3</th>\n",
              "      <td>n sync</td>\n",
              "      <td>gone</td>\n",
              "      <td>24.0</td>\n",
              "      <td>11.0</td>\n",
              "      <td>n sync</td>\n",
              "      <td>n sync gone</td>\n",
              "    </tr>\n",
              "    <tr>\n",
              "      <th>4</th>\n",
              "      <td>n sync</td>\n",
              "      <td>it's gonna be me</td>\n",
              "      <td>25.0</td>\n",
              "      <td>1.0</td>\n",
              "      <td>n sync</td>\n",
              "      <td>n sync it's gonna be me</td>\n",
              "    </tr>\n",
              "  </tbody>\n",
              "</table>\n",
              "</div>"
            ],
            "text/plain": [
              "             Artists  ...                           Song_id\n",
              "0  weird al yankovic  ...  weird al yankovic canadian idiot\n",
              "1  weird al yankovic  ...     weird al yankovic word crimes\n",
              "2             n sync  ...                n sync bye bye bye\n",
              "3             n sync  ...                       n sync gone\n",
              "4             n sync  ...           n sync it's gonna be me\n",
              "\n",
              "[5 rows x 6 columns]"
            ]
          },
          "metadata": {
            "tags": []
          },
          "execution_count": 36
        }
      ]
    },
    {
      "cell_type": "code",
      "metadata": {
        "colab": {
          "base_uri": "https://localhost:8080/"
        },
        "id": "YPy3yx2PRT5T",
        "outputId": "88d7bbad-8e8c-4bef-b206-28ad0da63505"
      },
      "source": [
        "df6.columns"
      ],
      "execution_count": null,
      "outputs": [
        {
          "output_type": "execute_result",
          "data": {
            "text/plain": [
              "Index(['Artists', 'Name', 'Weeks.on.chart', 'Peak.position', 'Primary_Artist',\n",
              "       'Song_id'],\n",
              "      dtype='object')"
            ]
          },
          "metadata": {
            "tags": []
          },
          "execution_count": 37
        }
      ]
    },
    {
      "cell_type": "code",
      "metadata": {
        "colab": {
          "base_uri": "https://localhost:8080/"
        },
        "id": "68sbgu1tZdDR",
        "outputId": "027beea1-3388-4729-beb4-9221a5eb366f"
      },
      "source": [
        "df6.shape"
      ],
      "execution_count": null,
      "outputs": [
        {
          "output_type": "execute_result",
          "data": {
            "text/plain": [
              "(7213, 6)"
            ]
          },
          "metadata": {
            "tags": []
          },
          "execution_count": 38
        }
      ]
    },
    {
      "cell_type": "code",
      "metadata": {
        "id": "u85PGcpoifKh"
      },
      "source": [
        "df6 = df6[df6['Weeks.on.chart'] != 0]"
      ],
      "execution_count": null,
      "outputs": []
    },
    {
      "cell_type": "code",
      "metadata": {
        "colab": {
          "base_uri": "https://localhost:8080/"
        },
        "id": "d_8jUqMhika_",
        "outputId": "9d807d19-82a6-4c94-d6a1-b3c15892fd6c"
      },
      "source": [
        "df6.shape"
      ],
      "execution_count": null,
      "outputs": [
        {
          "output_type": "execute_result",
          "data": {
            "text/plain": [
              "(5951, 6)"
            ]
          },
          "metadata": {
            "tags": []
          },
          "execution_count": 40
        }
      ]
    },
    {
      "cell_type": "markdown",
      "metadata": {
        "id": "w2XXuP-JiO3u"
      },
      "source": [
        "#Spotify Cleaning and Exploration"
      ]
    },
    {
      "cell_type": "code",
      "metadata": {
        "id": "ngrQaythHO4O"
      },
      "source": [
        "# Read data into dataframe\n",
        "spotify = pd.read_csv('drive/MyDrive/spotify_data.csv', index_col=False)"
      ],
      "execution_count": null,
      "outputs": []
    },
    {
      "cell_type": "code",
      "metadata": {
        "id": "ADIJp1cwVEOc"
      },
      "source": [
        "#Data cleaning by removing clean versions of explicit songs (because they are duplicates)\n",
        "\n",
        "spotify = spotify.sort_values(by=['explicit'], ascending=False)\n",
        "spotify = spotify.drop_duplicates(subset=['artists', 'name'], keep='first')"
      ],
      "execution_count": null,
      "outputs": []
    },
    {
      "cell_type": "code",
      "metadata": {
        "colab": {
          "base_uri": "https://localhost:8080/"
        },
        "id": "WcRYA7ksatm-",
        "outputId": "ede1eb03-8f81-4d6e-b0d1-345d620a8d04"
      },
      "source": [
        "spotify.shape"
      ],
      "execution_count": null,
      "outputs": [
        {
          "output_type": "execute_result",
          "data": {
            "text/plain": [
              "(156608, 19)"
            ]
          },
          "metadata": {
            "tags": []
          },
          "execution_count": 43
        }
      ]
    },
    {
      "cell_type": "code",
      "metadata": {
        "id": "8j5JHQi1HO4O",
        "colab": {
          "base_uri": "https://localhost:8080/"
        },
        "outputId": "a2bfab93-d55c-4cf0-c0b1-d2cf7ceafe5f"
      },
      "source": [
        "spotify.head(1)"
      ],
      "execution_count": null,
      "outputs": [
        {
          "output_type": "execute_result",
          "data": {
            "text/html": [
              "<div>\n",
              "<style scoped>\n",
              "    .dataframe tbody tr th:only-of-type {\n",
              "        vertical-align: middle;\n",
              "    }\n",
              "\n",
              "    .dataframe tbody tr th {\n",
              "        vertical-align: top;\n",
              "    }\n",
              "\n",
              "    .dataframe thead th {\n",
              "        text-align: right;\n",
              "    }\n",
              "</style>\n",
              "<table border=\"1\" class=\"dataframe\">\n",
              "  <thead>\n",
              "    <tr style=\"text-align: right;\">\n",
              "      <th></th>\n",
              "      <th>acousticness</th>\n",
              "      <th>artists</th>\n",
              "      <th>danceability</th>\n",
              "      <th>duration_ms</th>\n",
              "      <th>energy</th>\n",
              "      <th>explicit</th>\n",
              "      <th>id</th>\n",
              "      <th>instrumentalness</th>\n",
              "      <th>key</th>\n",
              "      <th>liveness</th>\n",
              "      <th>loudness</th>\n",
              "      <th>mode</th>\n",
              "      <th>name</th>\n",
              "      <th>popularity</th>\n",
              "      <th>release_date</th>\n",
              "      <th>speechiness</th>\n",
              "      <th>tempo</th>\n",
              "      <th>valence</th>\n",
              "      <th>year</th>\n",
              "    </tr>\n",
              "  </thead>\n",
              "  <tbody>\n",
              "    <tr>\n",
              "      <th>24149</th>\n",
              "      <td>0.0785</td>\n",
              "      <td>['Lil Wayne', 'Takeoff']</td>\n",
              "      <td>0.587</td>\n",
              "      <td>200733</td>\n",
              "      <td>0.635</td>\n",
              "      <td>1</td>\n",
              "      <td>03TzvVWdkVbLT9pzewYiDw</td>\n",
              "      <td>0.0</td>\n",
              "      <td>8</td>\n",
              "      <td>0.175</td>\n",
              "      <td>-6.369</td>\n",
              "      <td>1</td>\n",
              "      <td>I Don't Sleep (ft. Takeoff)</td>\n",
              "      <td>64</td>\n",
              "      <td>2020-01-31</td>\n",
              "      <td>0.422</td>\n",
              "      <td>82.517</td>\n",
              "      <td>0.758</td>\n",
              "      <td>2020</td>\n",
              "    </tr>\n",
              "  </tbody>\n",
              "</table>\n",
              "</div>"
            ],
            "text/plain": [
              "       acousticness                   artists  ...  valence  year\n",
              "24149        0.0785  ['Lil Wayne', 'Takeoff']  ...    0.758  2020\n",
              "\n",
              "[1 rows x 19 columns]"
            ]
          },
          "metadata": {
            "tags": []
          },
          "execution_count": 44
        }
      ]
    },
    {
      "cell_type": "markdown",
      "metadata": {
        "id": "nssK1u_MubAw"
      },
      "source": [
        "Below, the same steps to format the final billboard dataframe are carried out on the spotify dataframe"
      ]
    },
    {
      "cell_type": "code",
      "metadata": {
        "id": "lA0sJ2FOHO4P"
      },
      "source": [
        "spotify['artists'] = spotify['artists'].map(lambda x: x.lstrip('[\\'').rstrip('\\']'))"
      ],
      "execution_count": null,
      "outputs": []
    },
    {
      "cell_type": "code",
      "metadata": {
        "id": "gqei3mbuHO4P"
      },
      "source": [
        "spotify['artists'] = spotify['artists'].map(lambda x: x.replace('\\'', ''))"
      ],
      "execution_count": null,
      "outputs": []
    },
    {
      "cell_type": "code",
      "metadata": {
        "id": "mVqr4THzHO4Q"
      },
      "source": [
        "spotify['artists'] = spotify['artists'].str.lower()"
      ],
      "execution_count": null,
      "outputs": []
    },
    {
      "cell_type": "code",
      "metadata": {
        "id": "-pMTcTwCHO4R"
      },
      "source": [
        "spotify['name'] = spotify['name'].str.lower()"
      ],
      "execution_count": null,
      "outputs": []
    },
    {
      "cell_type": "code",
      "metadata": {
        "id": "ViEFFuSrHO4R"
      },
      "source": [
        "spotify['artists'] = spotify['artists'].map(lambda x: x.replace('\\\"', ''))"
      ],
      "execution_count": null,
      "outputs": []
    },
    {
      "cell_type": "code",
      "metadata": {
        "id": "3GokyGR6HO4S"
      },
      "source": [
        "new = spotify[\"artists\"].str.split(\",\", n = 1, expand = True)"
      ],
      "execution_count": null,
      "outputs": []
    },
    {
      "cell_type": "code",
      "metadata": {
        "id": "1QfrQpBbHO4S"
      },
      "source": [
        "spotify[\"primary_artist\"]= new[0]"
      ],
      "execution_count": null,
      "outputs": []
    },
    {
      "cell_type": "code",
      "metadata": {
        "colab": {
          "base_uri": "https://localhost:8080/"
        },
        "id": "4uXaHMqIR79x",
        "outputId": "0ed91a8f-523f-404d-8a00-178a358f48db"
      },
      "source": [
        "spotify.shape"
      ],
      "execution_count": null,
      "outputs": [
        {
          "output_type": "execute_result",
          "data": {
            "text/plain": [
              "(156608, 20)"
            ]
          },
          "metadata": {
            "tags": []
          },
          "execution_count": 52
        }
      ]
    },
    {
      "cell_type": "code",
      "metadata": {
        "id": "a6_wUyVHSCzK"
      },
      "source": [
        "spotify['song_id'] = spotify['primary_artist'] + ' ' + spotify['name']"
      ],
      "execution_count": null,
      "outputs": []
    },
    {
      "cell_type": "code",
      "metadata": {
        "colab": {
          "base_uri": "https://localhost:8080/"
        },
        "id": "vWE32jz-SRXU",
        "outputId": "0c8383b6-ef28-4182-ca05-ae004267c413"
      },
      "source": [
        "spotify.head(1)"
      ],
      "execution_count": null,
      "outputs": [
        {
          "output_type": "execute_result",
          "data": {
            "text/html": [
              "<div>\n",
              "<style scoped>\n",
              "    .dataframe tbody tr th:only-of-type {\n",
              "        vertical-align: middle;\n",
              "    }\n",
              "\n",
              "    .dataframe tbody tr th {\n",
              "        vertical-align: top;\n",
              "    }\n",
              "\n",
              "    .dataframe thead th {\n",
              "        text-align: right;\n",
              "    }\n",
              "</style>\n",
              "<table border=\"1\" class=\"dataframe\">\n",
              "  <thead>\n",
              "    <tr style=\"text-align: right;\">\n",
              "      <th></th>\n",
              "      <th>acousticness</th>\n",
              "      <th>artists</th>\n",
              "      <th>danceability</th>\n",
              "      <th>duration_ms</th>\n",
              "      <th>energy</th>\n",
              "      <th>explicit</th>\n",
              "      <th>id</th>\n",
              "      <th>instrumentalness</th>\n",
              "      <th>key</th>\n",
              "      <th>liveness</th>\n",
              "      <th>loudness</th>\n",
              "      <th>mode</th>\n",
              "      <th>name</th>\n",
              "      <th>popularity</th>\n",
              "      <th>release_date</th>\n",
              "      <th>speechiness</th>\n",
              "      <th>tempo</th>\n",
              "      <th>valence</th>\n",
              "      <th>year</th>\n",
              "      <th>primary_artist</th>\n",
              "      <th>song_id</th>\n",
              "    </tr>\n",
              "  </thead>\n",
              "  <tbody>\n",
              "    <tr>\n",
              "      <th>24149</th>\n",
              "      <td>0.0785</td>\n",
              "      <td>lil wayne, takeoff</td>\n",
              "      <td>0.587</td>\n",
              "      <td>200733</td>\n",
              "      <td>0.635</td>\n",
              "      <td>1</td>\n",
              "      <td>03TzvVWdkVbLT9pzewYiDw</td>\n",
              "      <td>0.0</td>\n",
              "      <td>8</td>\n",
              "      <td>0.175</td>\n",
              "      <td>-6.369</td>\n",
              "      <td>1</td>\n",
              "      <td>i don't sleep (ft. takeoff)</td>\n",
              "      <td>64</td>\n",
              "      <td>2020-01-31</td>\n",
              "      <td>0.422</td>\n",
              "      <td>82.517</td>\n",
              "      <td>0.758</td>\n",
              "      <td>2020</td>\n",
              "      <td>lil wayne</td>\n",
              "      <td>lil wayne i don't sleep (ft. takeoff)</td>\n",
              "    </tr>\n",
              "  </tbody>\n",
              "</table>\n",
              "</div>"
            ],
            "text/plain": [
              "       acousticness  ...                                song_id\n",
              "24149        0.0785  ...  lil wayne i don't sleep (ft. takeoff)\n",
              "\n",
              "[1 rows x 21 columns]"
            ]
          },
          "metadata": {
            "tags": []
          },
          "execution_count": 54
        }
      ]
    },
    {
      "cell_type": "code",
      "metadata": {
        "colab": {
          "base_uri": "https://localhost:8080/"
        },
        "id": "Z83XFoj8fpGP",
        "outputId": "74f10b6d-e9db-4063-c4f1-e22ad77570eb"
      },
      "source": [
        "spotify.shape"
      ],
      "execution_count": null,
      "outputs": [
        {
          "output_type": "execute_result",
          "data": {
            "text/plain": [
              "(156608, 21)"
            ]
          },
          "metadata": {
            "tags": []
          },
          "execution_count": 55
        }
      ]
    },
    {
      "cell_type": "code",
      "metadata": {
        "id": "ZSWqrbH8jwgH"
      },
      "source": [
        "spotify = spotify[spotify['year'] >= 1999]"
      ],
      "execution_count": null,
      "outputs": []
    },
    {
      "cell_type": "code",
      "metadata": {
        "colab": {
          "base_uri": "https://localhost:8080/"
        },
        "id": "dQAh_6CLj8e3",
        "outputId": "c2efea62-bb42-4770-a7c1-ea2b96c980a5"
      },
      "source": [
        "spotify.shape"
      ],
      "execution_count": null,
      "outputs": [
        {
          "output_type": "execute_result",
          "data": {
            "text/plain": [
              "(40302, 21)"
            ]
          },
          "metadata": {
            "tags": []
          },
          "execution_count": 57
        }
      ]
    },
    {
      "cell_type": "code",
      "metadata": {
        "colab": {
          "base_uri": "https://localhost:8080/"
        },
        "id": "tckjujllTZC7",
        "outputId": "38472870-4469-41b0-f24a-5490b158cf79"
      },
      "source": [
        "spotify.columns"
      ],
      "execution_count": null,
      "outputs": [
        {
          "output_type": "execute_result",
          "data": {
            "text/plain": [
              "Index(['acousticness', 'artists', 'danceability', 'duration_ms', 'energy',\n",
              "       'explicit', 'id', 'instrumentalness', 'key', 'liveness', 'loudness',\n",
              "       'mode', 'name', 'popularity', 'release_date', 'speechiness', 'tempo',\n",
              "       'valence', 'year', 'primary_artist', 'song_id'],\n",
              "      dtype='object')"
            ]
          },
          "metadata": {
            "tags": []
          },
          "execution_count": 58
        }
      ]
    },
    {
      "cell_type": "markdown",
      "metadata": {
        "id": "4ZP_q9zliURf"
      },
      "source": [
        "#Merge Dataframes"
      ]
    },
    {
      "cell_type": "markdown",
      "metadata": {
        "id": "jkwHh0LSujSv"
      },
      "source": [
        "In this section, the two dataframes are merged using a jaccard join. This is needed because despite our efforts, it is still possible that songs are listed in the two different datasets under slightly different variations of title and artist name."
      ]
    },
    {
      "cell_type": "code",
      "metadata": {
        "colab": {
          "base_uri": "https://localhost:8080/"
        },
        "id": "ueD7NXTyN1dS",
        "outputId": "f9a68e4f-97ca-4ef1-e66e-68286ab0fa74"
      },
      "source": [
        "!pip3 install py_stringsimjoin\n",
        "!pip install python-Levenshtein"
      ],
      "execution_count": null,
      "outputs": [
        {
          "output_type": "stream",
          "text": [
            "Collecting py_stringsimjoin\n",
            "\u001b[?25l  Downloading https://files.pythonhosted.org/packages/69/f8/343a7277ce5952a923302bb29ac547a2e3eab45965fdf40a7dd43ed058ef/py_stringsimjoin-0.3.2.tar.gz (1.1MB)\n",
            "\r\u001b[K     |▎                               | 10kB 14.0MB/s eta 0:00:01\r\u001b[K     |▋                               | 20kB 19.8MB/s eta 0:00:01\r\u001b[K     |█                               | 30kB 11.4MB/s eta 0:00:01\r\u001b[K     |█▏                              | 40kB 9.4MB/s eta 0:00:01\r\u001b[K     |█▌                              | 51kB 4.5MB/s eta 0:00:01\r\u001b[K     |█▉                              | 61kB 4.7MB/s eta 0:00:01\r\u001b[K     |██▏                             | 71kB 4.9MB/s eta 0:00:01\r\u001b[K     |██▍                             | 81kB 5.2MB/s eta 0:00:01\r\u001b[K     |██▊                             | 92kB 5.5MB/s eta 0:00:01\r\u001b[K     |███                             | 102kB 6.0MB/s eta 0:00:01\r\u001b[K     |███▍                            | 112kB 6.0MB/s eta 0:00:01\r\u001b[K     |███▋                            | 122kB 6.0MB/s eta 0:00:01\r\u001b[K     |████                            | 133kB 6.0MB/s eta 0:00:01\r\u001b[K     |████▎                           | 143kB 6.0MB/s eta 0:00:01\r\u001b[K     |████▋                           | 153kB 6.0MB/s eta 0:00:01\r\u001b[K     |████▉                           | 163kB 6.0MB/s eta 0:00:01\r\u001b[K     |█████▏                          | 174kB 6.0MB/s eta 0:00:01\r\u001b[K     |█████▌                          | 184kB 6.0MB/s eta 0:00:01\r\u001b[K     |█████▉                          | 194kB 6.0MB/s eta 0:00:01\r\u001b[K     |██████                          | 204kB 6.0MB/s eta 0:00:01\r\u001b[K     |██████▍                         | 215kB 6.0MB/s eta 0:00:01\r\u001b[K     |██████▊                         | 225kB 6.0MB/s eta 0:00:01\r\u001b[K     |███████                         | 235kB 6.0MB/s eta 0:00:01\r\u001b[K     |███████▎                        | 245kB 6.0MB/s eta 0:00:01\r\u001b[K     |███████▋                        | 256kB 6.0MB/s eta 0:00:01\r\u001b[K     |████████                        | 266kB 6.0MB/s eta 0:00:01\r\u001b[K     |████████▎                       | 276kB 6.0MB/s eta 0:00:01\r\u001b[K     |████████▌                       | 286kB 6.0MB/s eta 0:00:01\r\u001b[K     |████████▉                       | 296kB 6.0MB/s eta 0:00:01\r\u001b[K     |█████████▏                      | 307kB 6.0MB/s eta 0:00:01\r\u001b[K     |█████████▌                      | 317kB 6.0MB/s eta 0:00:01\r\u001b[K     |█████████▊                      | 327kB 6.0MB/s eta 0:00:01\r\u001b[K     |██████████                      | 337kB 6.0MB/s eta 0:00:01\r\u001b[K     |██████████▍                     | 348kB 6.0MB/s eta 0:00:01\r\u001b[K     |██████████▊                     | 358kB 6.0MB/s eta 0:00:01\r\u001b[K     |███████████                     | 368kB 6.0MB/s eta 0:00:01\r\u001b[K     |███████████▎                    | 378kB 6.0MB/s eta 0:00:01\r\u001b[K     |███████████▋                    | 389kB 6.0MB/s eta 0:00:01\r\u001b[K     |████████████                    | 399kB 6.0MB/s eta 0:00:01\r\u001b[K     |████████████▏                   | 409kB 6.0MB/s eta 0:00:01\r\u001b[K     |████████████▌                   | 419kB 6.0MB/s eta 0:00:01\r\u001b[K     |████████████▉                   | 430kB 6.0MB/s eta 0:00:01\r\u001b[K     |█████████████▏                  | 440kB 6.0MB/s eta 0:00:01\r\u001b[K     |█████████████▍                  | 450kB 6.0MB/s eta 0:00:01\r\u001b[K     |█████████████▊                  | 460kB 6.0MB/s eta 0:00:01\r\u001b[K     |██████████████                  | 471kB 6.0MB/s eta 0:00:01\r\u001b[K     |██████████████▍                 | 481kB 6.0MB/s eta 0:00:01\r\u001b[K     |██████████████▋                 | 491kB 6.0MB/s eta 0:00:01\r\u001b[K     |███████████████                 | 501kB 6.0MB/s eta 0:00:01\r\u001b[K     |███████████████▎                | 512kB 6.0MB/s eta 0:00:01\r\u001b[K     |███████████████▋                | 522kB 6.0MB/s eta 0:00:01\r\u001b[K     |███████████████▉                | 532kB 6.0MB/s eta 0:00:01\r\u001b[K     |████████████████▏               | 542kB 6.0MB/s eta 0:00:01\r\u001b[K     |████████████████▌               | 552kB 6.0MB/s eta 0:00:01\r\u001b[K     |████████████████▉               | 563kB 6.0MB/s eta 0:00:01\r\u001b[K     |█████████████████               | 573kB 6.0MB/s eta 0:00:01\r\u001b[K     |█████████████████▍              | 583kB 6.0MB/s eta 0:00:01\r\u001b[K     |█████████████████▊              | 593kB 6.0MB/s eta 0:00:01\r\u001b[K     |██████████████████              | 604kB 6.0MB/s eta 0:00:01\r\u001b[K     |██████████████████▎             | 614kB 6.0MB/s eta 0:00:01\r\u001b[K     |██████████████████▋             | 624kB 6.0MB/s eta 0:00:01\r\u001b[K     |███████████████████             | 634kB 6.0MB/s eta 0:00:01\r\u001b[K     |███████████████████▎            | 645kB 6.0MB/s eta 0:00:01\r\u001b[K     |███████████████████▌            | 655kB 6.0MB/s eta 0:00:01\r\u001b[K     |███████████████████▉            | 665kB 6.0MB/s eta 0:00:01\r\u001b[K     |████████████████████▏           | 675kB 6.0MB/s eta 0:00:01\r\u001b[K     |████████████████████▌           | 686kB 6.0MB/s eta 0:00:01\r\u001b[K     |████████████████████▊           | 696kB 6.0MB/s eta 0:00:01\r\u001b[K     |█████████████████████           | 706kB 6.0MB/s eta 0:00:01\r\u001b[K     |█████████████████████▍          | 716kB 6.0MB/s eta 0:00:01\r\u001b[K     |█████████████████████▊          | 727kB 6.0MB/s eta 0:00:01\r\u001b[K     |██████████████████████          | 737kB 6.0MB/s eta 0:00:01\r\u001b[K     |██████████████████████▎         | 747kB 6.0MB/s eta 0:00:01\r\u001b[K     |██████████████████████▋         | 757kB 6.0MB/s eta 0:00:01\r\u001b[K     |███████████████████████         | 768kB 6.0MB/s eta 0:00:01\r\u001b[K     |███████████████████████▏        | 778kB 6.0MB/s eta 0:00:01\r\u001b[K     |███████████████████████▌        | 788kB 6.0MB/s eta 0:00:01\r\u001b[K     |███████████████████████▉        | 798kB 6.0MB/s eta 0:00:01\r\u001b[K     |████████████████████████▏       | 808kB 6.0MB/s eta 0:00:01\r\u001b[K     |████████████████████████▍       | 819kB 6.0MB/s eta 0:00:01\r\u001b[K     |████████████████████████▊       | 829kB 6.0MB/s eta 0:00:01\r\u001b[K     |█████████████████████████       | 839kB 6.0MB/s eta 0:00:01\r\u001b[K     |█████████████████████████▎      | 849kB 6.0MB/s eta 0:00:01\r\u001b[K     |█████████████████████████▋      | 860kB 6.0MB/s eta 0:00:01\r\u001b[K     |██████████████████████████      | 870kB 6.0MB/s eta 0:00:01\r\u001b[K     |██████████████████████████▎     | 880kB 6.0MB/s eta 0:00:01\r\u001b[K     |██████████████████████████▌     | 890kB 6.0MB/s eta 0:00:01\r\u001b[K     |██████████████████████████▉     | 901kB 6.0MB/s eta 0:00:01\r\u001b[K     |███████████████████████████▏    | 911kB 6.0MB/s eta 0:00:01\r\u001b[K     |███████████████████████████▌    | 921kB 6.0MB/s eta 0:00:01\r\u001b[K     |███████████████████████████▊    | 931kB 6.0MB/s eta 0:00:01\r\u001b[K     |████████████████████████████    | 942kB 6.0MB/s eta 0:00:01\r\u001b[K     |████████████████████████████▍   | 952kB 6.0MB/s eta 0:00:01\r\u001b[K     |████████████████████████████▊   | 962kB 6.0MB/s eta 0:00:01\r\u001b[K     |█████████████████████████████   | 972kB 6.0MB/s eta 0:00:01\r\u001b[K     |█████████████████████████████▎  | 983kB 6.0MB/s eta 0:00:01\r\u001b[K     |█████████████████████████████▋  | 993kB 6.0MB/s eta 0:00:01\r\u001b[K     |██████████████████████████████  | 1.0MB 6.0MB/s eta 0:00:01\r\u001b[K     |██████████████████████████████▏ | 1.0MB 6.0MB/s eta 0:00:01\r\u001b[K     |██████████████████████████████▌ | 1.0MB 6.0MB/s eta 0:00:01\r\u001b[K     |██████████████████████████████▉ | 1.0MB 6.0MB/s eta 0:00:01\r\u001b[K     |███████████████████████████████▏| 1.0MB 6.0MB/s eta 0:00:01\r\u001b[K     |███████████████████████████████▍| 1.1MB 6.0MB/s eta 0:00:01\r\u001b[K     |███████████████████████████████▊| 1.1MB 6.0MB/s eta 0:00:01\r\u001b[K     |████████████████████████████████| 1.1MB 6.0MB/s \n",
            "\u001b[?25hRequirement already satisfied: joblib in /usr/local/lib/python3.6/dist-packages (from py_stringsimjoin) (1.0.0)\n",
            "Requirement already satisfied: pandas>=0.16.0 in /usr/local/lib/python3.6/dist-packages (from py_stringsimjoin) (1.1.5)\n",
            "Collecting PyPrind>=2.9.3\n",
            "  Downloading https://files.pythonhosted.org/packages/1e/30/e76fb0c45da8aef49ea8d2a90d4e7a6877b45894c25f12fb961f009a891e/PyPrind-2.11.2-py3-none-any.whl\n",
            "Collecting py_stringmatching>=0.2.1\n",
            "\u001b[?25l  Downloading https://files.pythonhosted.org/packages/90/d1/9163e0b0ac3bbb0f727ef8d380985c23066fb98d5005a34483ad76da06b4/py_stringmatching-0.4.2.tar.gz (661kB)\n",
            "\u001b[K     |████████████████████████████████| 665kB 35.6MB/s \n",
            "\u001b[?25hRequirement already satisfied: six in /usr/local/lib/python3.6/dist-packages (from py_stringsimjoin) (1.15.0)\n",
            "Requirement already satisfied: pytz>=2017.2 in /usr/local/lib/python3.6/dist-packages (from pandas>=0.16.0->py_stringsimjoin) (2018.9)\n",
            "Requirement already satisfied: numpy>=1.15.4 in /usr/local/lib/python3.6/dist-packages (from pandas>=0.16.0->py_stringsimjoin) (1.19.4)\n",
            "Requirement already satisfied: python-dateutil>=2.7.3 in /usr/local/lib/python3.6/dist-packages (from pandas>=0.16.0->py_stringsimjoin) (2.8.1)\n",
            "Building wheels for collected packages: py-stringsimjoin, py-stringmatching\n",
            "  Building wheel for py-stringsimjoin (setup.py) ... \u001b[?25l\u001b[?25hdone\n",
            "  Created wheel for py-stringsimjoin: filename=py_stringsimjoin-0.3.2-cp36-cp36m-linux_x86_64.whl size=3747804 sha256=e29fc467ddf90669d2c5953e4fe9c351b5fbf967ed28d1a8e2224e0cc1584e36\n",
            "  Stored in directory: /root/.cache/pip/wheels/58/30/8e/6fa463100ff6e8595b131067ec43a118c607f621ac297e7dad\n",
            "  Building wheel for py-stringmatching (setup.py) ... \u001b[?25l\u001b[?25hdone\n",
            "  Created wheel for py-stringmatching: filename=py_stringmatching-0.4.2-cp36-cp36m-linux_x86_64.whl size=2054270 sha256=2ce9469c7abc0ffef052faced4d578f3bbe03ba2bd849f5a0f400535222f798f\n",
            "  Stored in directory: /root/.cache/pip/wheels/be/8c/5d/bcdaf17d0784738b73e856ebc4061cd3f2509753a83dd71058\n",
            "Successfully built py-stringsimjoin py-stringmatching\n",
            "Installing collected packages: PyPrind, py-stringmatching, py-stringsimjoin\n",
            "Successfully installed PyPrind-2.11.2 py-stringmatching-0.4.2 py-stringsimjoin-0.3.2\n",
            "Collecting python-Levenshtein\n",
            "\u001b[?25l  Downloading https://files.pythonhosted.org/packages/42/a9/d1785c85ebf9b7dfacd08938dd028209c34a0ea3b1bcdb895208bd40a67d/python-Levenshtein-0.12.0.tar.gz (48kB)\n",
            "\u001b[K     |████████████████████████████████| 51kB 2.6MB/s \n",
            "\u001b[?25hRequirement already satisfied: setuptools in /usr/local/lib/python3.6/dist-packages (from python-Levenshtein) (50.3.2)\n",
            "Building wheels for collected packages: python-Levenshtein\n",
            "  Building wheel for python-Levenshtein (setup.py) ... \u001b[?25l\u001b[?25hdone\n",
            "  Created wheel for python-Levenshtein: filename=python_Levenshtein-0.12.0-cp36-cp36m-linux_x86_64.whl size=144801 sha256=b536e5dfc6a1114af6db137f2740e04f18995a2a321ca40d4a6e7e65304d5524\n",
            "  Stored in directory: /root/.cache/pip/wheels/de/c2/93/660fd5f7559049268ad2dc6d81c4e39e9e36518766eaf7e342\n",
            "Successfully built python-Levenshtein\n",
            "Installing collected packages: python-Levenshtein\n",
            "Successfully installed python-Levenshtein-0.12.0\n"
          ],
          "name": "stdout"
        }
      ]
    },
    {
      "cell_type": "code",
      "metadata": {
        "id": "Kx3MAgERNO4D"
      },
      "source": [
        "import py_stringsimjoin as ssj\n",
        "import py_stringmatching as sm\n",
        "from Levenshtein import distance\n",
        "from difflib import SequenceMatcher"
      ],
      "execution_count": null,
      "outputs": []
    },
    {
      "cell_type": "code",
      "metadata": {
        "id": "e2YCUhGmNGIB"
      },
      "source": [
        "tok_5 = sm.QgramTokenizer(qval=5)"
      ],
      "execution_count": null,
      "outputs": []
    },
    {
      "cell_type": "markdown",
      "metadata": {
        "id": "_cTvf90Mu8Ta"
      },
      "source": [
        "This join is an inner join, as all jaccard joins are. Consequently, this dataframe will need to be merged with the original spotify dataframe on a left join in order to include songs that weren't matched."
      ]
    },
    {
      "cell_type": "code",
      "metadata": {
        "colab": {
          "base_uri": "https://localhost:8080/"
        },
        "id": "YuFWKmmdOYpP",
        "outputId": "74d47fcd-7423-48fa-9d84-65ab705339b2"
      },
      "source": [
        "new_df = ssj.jaccard_join(spotify, df6, l_key_attr = 'id', r_key_attr = 'Song_id', l_join_attr = 'song_id', r_join_attr = 'Song_id', tokenizer = tok_5, threshold = 0.6, allow_empty=False, l_out_attrs = [\n",
        "       'name', 'primary_artist', 'song_id'], r_out_attrs = ['Artists', 'Name', 'Weeks.on.chart', 'Peak.position',\n",
        "       'Primary_Artist', 'Song_id'])"
      ],
      "execution_count": null,
      "outputs": [
        {
          "output_type": "stream",
          "text": [
            "0% [##############################] 100% | ETA: 00:00:00\n",
            "Total time elapsed: 00:00:00\n"
          ],
          "name": "stderr"
        }
      ]
    },
    {
      "cell_type": "code",
      "metadata": {
        "colab": {
          "base_uri": "https://localhost:8080/",
          "height": 131
        },
        "id": "NQY6sYa2VS-A",
        "outputId": "be88eacb-ed5a-4dc9-e30c-358e5097b7bb"
      },
      "source": [
        "new_df.head(1)"
      ],
      "execution_count": null,
      "outputs": [
        {
          "output_type": "execute_result",
          "data": {
            "text/html": [
              "<div>\n",
              "<style scoped>\n",
              "    .dataframe tbody tr th:only-of-type {\n",
              "        vertical-align: middle;\n",
              "    }\n",
              "\n",
              "    .dataframe tbody tr th {\n",
              "        vertical-align: top;\n",
              "    }\n",
              "\n",
              "    .dataframe thead th {\n",
              "        text-align: right;\n",
              "    }\n",
              "</style>\n",
              "<table border=\"1\" class=\"dataframe\">\n",
              "  <thead>\n",
              "    <tr style=\"text-align: right;\">\n",
              "      <th></th>\n",
              "      <th>_id</th>\n",
              "      <th>l_id</th>\n",
              "      <th>r_Song_id</th>\n",
              "      <th>l_name</th>\n",
              "      <th>l_primary_artist</th>\n",
              "      <th>l_song_id</th>\n",
              "      <th>r_Artists</th>\n",
              "      <th>r_Name</th>\n",
              "      <th>r_Weeks.on.chart</th>\n",
              "      <th>r_Peak.position</th>\n",
              "      <th>r_Primary_Artist</th>\n",
              "      <th>_sim_score</th>\n",
              "    </tr>\n",
              "  </thead>\n",
              "  <tbody>\n",
              "    <tr>\n",
              "      <th>0</th>\n",
              "      <td>0</td>\n",
              "      <td>4JqQWAr47pGEoaMArpA7Z3</td>\n",
              "      <td>weird al yankovic word crimes</td>\n",
              "      <td>word crimes</td>\n",
              "      <td>weird al yankovic</td>\n",
              "      <td>weird al yankovic word crimes</td>\n",
              "      <td>weird al yankovic</td>\n",
              "      <td>word crimes</td>\n",
              "      <td>2.0</td>\n",
              "      <td>39.0</td>\n",
              "      <td>weird al yankovic</td>\n",
              "      <td>1.0</td>\n",
              "    </tr>\n",
              "  </tbody>\n",
              "</table>\n",
              "</div>"
            ],
            "text/plain": [
              "   _id                    l_id  ...   r_Primary_Artist _sim_score\n",
              "0    0  4JqQWAr47pGEoaMArpA7Z3  ...  weird al yankovic        1.0\n",
              "\n",
              "[1 rows x 12 columns]"
            ]
          },
          "metadata": {
            "tags": []
          },
          "execution_count": 86
        }
      ]
    },
    {
      "cell_type": "code",
      "metadata": {
        "colab": {
          "base_uri": "https://localhost:8080/"
        },
        "id": "70X52jfxVYWh",
        "outputId": "89b07a24-bdbe-4d29-8c75-9cab93e97db8"
      },
      "source": [
        "new_df.shape"
      ],
      "execution_count": null,
      "outputs": [
        {
          "output_type": "execute_result",
          "data": {
            "text/plain": [
              "(5289, 12)"
            ]
          },
          "metadata": {
            "tags": []
          },
          "execution_count": 87
        }
      ]
    },
    {
      "cell_type": "code",
      "metadata": {
        "id": "5HQo3xQIHO4S"
      },
      "source": [
        "# songs that weren't matched are added to the same table as the matched songs\n",
        "merged_df = spotify.merge(new_df, how='left', left_on='song_id', right_on = 'l_song_id')"
      ],
      "execution_count": null,
      "outputs": []
    },
    {
      "cell_type": "code",
      "metadata": {
        "colab": {
          "base_uri": "https://localhost:8080/"
        },
        "id": "s6ddR3Oy2W1Y",
        "outputId": "a9457e01-988e-43bb-d83d-4be257a93867"
      },
      "source": [
        "merged_df.shape"
      ],
      "execution_count": null,
      "outputs": [
        {
          "output_type": "execute_result",
          "data": {
            "text/plain": [
              "(40820, 33)"
            ]
          },
          "metadata": {
            "tags": []
          },
          "execution_count": 67
        }
      ]
    },
    {
      "cell_type": "code",
      "metadata": {
        "id": "jhb0VGIWHO4S",
        "colab": {
          "base_uri": "https://localhost:8080/",
          "height": 147
        },
        "outputId": "98c4a020-b5c1-4f4f-d1d7-77858a60832c"
      },
      "source": [
        "merged_df.head(1)"
      ],
      "execution_count": null,
      "outputs": [
        {
          "output_type": "execute_result",
          "data": {
            "text/html": [
              "<div>\n",
              "<style scoped>\n",
              "    .dataframe tbody tr th:only-of-type {\n",
              "        vertical-align: middle;\n",
              "    }\n",
              "\n",
              "    .dataframe tbody tr th {\n",
              "        vertical-align: top;\n",
              "    }\n",
              "\n",
              "    .dataframe thead th {\n",
              "        text-align: right;\n",
              "    }\n",
              "</style>\n",
              "<table border=\"1\" class=\"dataframe\">\n",
              "  <thead>\n",
              "    <tr style=\"text-align: right;\">\n",
              "      <th></th>\n",
              "      <th>acousticness</th>\n",
              "      <th>artists</th>\n",
              "      <th>danceability</th>\n",
              "      <th>duration_ms</th>\n",
              "      <th>energy</th>\n",
              "      <th>explicit</th>\n",
              "      <th>id</th>\n",
              "      <th>instrumentalness</th>\n",
              "      <th>key</th>\n",
              "      <th>liveness</th>\n",
              "      <th>loudness</th>\n",
              "      <th>mode</th>\n",
              "      <th>name</th>\n",
              "      <th>popularity</th>\n",
              "      <th>release_date</th>\n",
              "      <th>speechiness</th>\n",
              "      <th>tempo</th>\n",
              "      <th>valence</th>\n",
              "      <th>year</th>\n",
              "      <th>primary_artist</th>\n",
              "      <th>song_id</th>\n",
              "      <th>_id</th>\n",
              "      <th>l_id</th>\n",
              "      <th>r_Song_id</th>\n",
              "      <th>l_name</th>\n",
              "      <th>l_primary_artist</th>\n",
              "      <th>l_song_id</th>\n",
              "      <th>r_Artists</th>\n",
              "      <th>r_Name</th>\n",
              "      <th>r_Weeks.on.chart</th>\n",
              "      <th>r_Peak.position</th>\n",
              "      <th>r_Primary_Artist</th>\n",
              "      <th>_sim_score</th>\n",
              "    </tr>\n",
              "  </thead>\n",
              "  <tbody>\n",
              "    <tr>\n",
              "      <th>0</th>\n",
              "      <td>0.0785</td>\n",
              "      <td>lil wayne, takeoff</td>\n",
              "      <td>0.587</td>\n",
              "      <td>200733</td>\n",
              "      <td>0.635</td>\n",
              "      <td>1</td>\n",
              "      <td>03TzvVWdkVbLT9pzewYiDw</td>\n",
              "      <td>0.0</td>\n",
              "      <td>8</td>\n",
              "      <td>0.175</td>\n",
              "      <td>-6.369</td>\n",
              "      <td>1</td>\n",
              "      <td>i don't sleep (ft. takeoff)</td>\n",
              "      <td>64</td>\n",
              "      <td>2020-01-31</td>\n",
              "      <td>0.422</td>\n",
              "      <td>82.517</td>\n",
              "      <td>0.758</td>\n",
              "      <td>2020</td>\n",
              "      <td>lil wayne</td>\n",
              "      <td>lil wayne i don't sleep (ft. takeoff)</td>\n",
              "      <td>NaN</td>\n",
              "      <td>NaN</td>\n",
              "      <td>NaN</td>\n",
              "      <td>NaN</td>\n",
              "      <td>NaN</td>\n",
              "      <td>NaN</td>\n",
              "      <td>NaN</td>\n",
              "      <td>NaN</td>\n",
              "      <td>NaN</td>\n",
              "      <td>NaN</td>\n",
              "      <td>NaN</td>\n",
              "      <td>NaN</td>\n",
              "    </tr>\n",
              "  </tbody>\n",
              "</table>\n",
              "</div>"
            ],
            "text/plain": [
              "   acousticness             artists  ...  r_Primary_Artist  _sim_score\n",
              "0        0.0785  lil wayne, takeoff  ...               NaN         NaN\n",
              "\n",
              "[1 rows x 33 columns]"
            ]
          },
          "metadata": {
            "tags": []
          },
          "execution_count": 68
        }
      ]
    },
    {
      "cell_type": "markdown",
      "metadata": {
        "id": "mrPCCzsrvaza"
      },
      "source": [
        "A binary variable is created indicating whether or not the songs has appeared on the billboard top 100 (1 if it has, 0 if not). This must be done using a custom function and the apply function due to the size of the data involved."
      ]
    },
    {
      "cell_type": "code",
      "metadata": {
        "id": "c3cgNvIKHO4T"
      },
      "source": [
        "merged_df['billboard_appearance'] = merged_df['l_primary_artist']"
      ],
      "execution_count": null,
      "outputs": []
    },
    {
      "cell_type": "code",
      "metadata": {
        "id": "1bF1JtQFHO4T"
      },
      "source": [
        "def categorize(x):\n",
        "    if type(x) == str:\n",
        "        x = 1\n",
        "    else:\n",
        "        x = 0\n",
        "    return x"
      ],
      "execution_count": null,
      "outputs": []
    },
    {
      "cell_type": "code",
      "metadata": {
        "id": "ERASAykcHO4T"
      },
      "source": [
        "merged_df['billboard_appearance'] = merged_df['billboard_appearance'].apply(categorize)"
      ],
      "execution_count": null,
      "outputs": []
    },
    {
      "cell_type": "code",
      "metadata": {
        "id": "FuyUXvX0HO4U",
        "colab": {
          "base_uri": "https://localhost:8080/",
          "height": 147
        },
        "outputId": "d54f7a45-0a6f-445e-e64f-54a79ffa2035"
      },
      "source": [
        "merged_df.head(1)"
      ],
      "execution_count": null,
      "outputs": [
        {
          "output_type": "execute_result",
          "data": {
            "text/html": [
              "<div>\n",
              "<style scoped>\n",
              "    .dataframe tbody tr th:only-of-type {\n",
              "        vertical-align: middle;\n",
              "    }\n",
              "\n",
              "    .dataframe tbody tr th {\n",
              "        vertical-align: top;\n",
              "    }\n",
              "\n",
              "    .dataframe thead th {\n",
              "        text-align: right;\n",
              "    }\n",
              "</style>\n",
              "<table border=\"1\" class=\"dataframe\">\n",
              "  <thead>\n",
              "    <tr style=\"text-align: right;\">\n",
              "      <th></th>\n",
              "      <th>acousticness</th>\n",
              "      <th>artists</th>\n",
              "      <th>danceability</th>\n",
              "      <th>duration_ms</th>\n",
              "      <th>energy</th>\n",
              "      <th>explicit</th>\n",
              "      <th>id</th>\n",
              "      <th>instrumentalness</th>\n",
              "      <th>key</th>\n",
              "      <th>liveness</th>\n",
              "      <th>loudness</th>\n",
              "      <th>mode</th>\n",
              "      <th>name</th>\n",
              "      <th>popularity</th>\n",
              "      <th>release_date</th>\n",
              "      <th>speechiness</th>\n",
              "      <th>tempo</th>\n",
              "      <th>valence</th>\n",
              "      <th>year</th>\n",
              "      <th>primary_artist</th>\n",
              "      <th>song_id</th>\n",
              "      <th>_id</th>\n",
              "      <th>l_id</th>\n",
              "      <th>r_Song_id</th>\n",
              "      <th>l_name</th>\n",
              "      <th>l_primary_artist</th>\n",
              "      <th>l_song_id</th>\n",
              "      <th>r_Artists</th>\n",
              "      <th>r_Name</th>\n",
              "      <th>r_Weeks.on.chart</th>\n",
              "      <th>r_Peak.position</th>\n",
              "      <th>r_Primary_Artist</th>\n",
              "      <th>_sim_score</th>\n",
              "      <th>billboard_appearance</th>\n",
              "    </tr>\n",
              "  </thead>\n",
              "  <tbody>\n",
              "    <tr>\n",
              "      <th>0</th>\n",
              "      <td>0.0785</td>\n",
              "      <td>lil wayne, takeoff</td>\n",
              "      <td>0.587</td>\n",
              "      <td>200733</td>\n",
              "      <td>0.635</td>\n",
              "      <td>1</td>\n",
              "      <td>03TzvVWdkVbLT9pzewYiDw</td>\n",
              "      <td>0.0</td>\n",
              "      <td>8</td>\n",
              "      <td>0.175</td>\n",
              "      <td>-6.369</td>\n",
              "      <td>1</td>\n",
              "      <td>i don't sleep (ft. takeoff)</td>\n",
              "      <td>64</td>\n",
              "      <td>2020-01-31</td>\n",
              "      <td>0.422</td>\n",
              "      <td>82.517</td>\n",
              "      <td>0.758</td>\n",
              "      <td>2020</td>\n",
              "      <td>lil wayne</td>\n",
              "      <td>lil wayne i don't sleep (ft. takeoff)</td>\n",
              "      <td>NaN</td>\n",
              "      <td>NaN</td>\n",
              "      <td>NaN</td>\n",
              "      <td>NaN</td>\n",
              "      <td>NaN</td>\n",
              "      <td>NaN</td>\n",
              "      <td>NaN</td>\n",
              "      <td>NaN</td>\n",
              "      <td>NaN</td>\n",
              "      <td>NaN</td>\n",
              "      <td>NaN</td>\n",
              "      <td>NaN</td>\n",
              "      <td>0</td>\n",
              "    </tr>\n",
              "  </tbody>\n",
              "</table>\n",
              "</div>"
            ],
            "text/plain": [
              "   acousticness             artists  ...  _sim_score  billboard_appearance\n",
              "0        0.0785  lil wayne, takeoff  ...         NaN                     0\n",
              "\n",
              "[1 rows x 34 columns]"
            ]
          },
          "metadata": {
            "tags": []
          },
          "execution_count": 72
        }
      ]
    },
    {
      "cell_type": "code",
      "metadata": {
        "id": "3yQp-WW997-h"
      },
      "source": [
        "merged_df = merged_df.drop(['_id', 'l_id', 'r_Song_id', 'l_primary_artist', 'l_name', 'l_song_id', 'r_Artists', 'r_Name', 'r_Weeks.on.chart', 'r_Peak.position', 'r_Primary_Artist', '_sim_score'], axis=1)"
      ],
      "execution_count": null,
      "outputs": []
    },
    {
      "cell_type": "code",
      "metadata": {
        "colab": {
          "base_uri": "https://localhost:8080/",
          "height": 147
        },
        "id": "B93-HH4c-n2p",
        "outputId": "4708a166-ccef-4ff1-a61d-41f601dec032"
      },
      "source": [
        "merged_df.head(1)"
      ],
      "execution_count": null,
      "outputs": [
        {
          "output_type": "execute_result",
          "data": {
            "text/html": [
              "<div>\n",
              "<style scoped>\n",
              "    .dataframe tbody tr th:only-of-type {\n",
              "        vertical-align: middle;\n",
              "    }\n",
              "\n",
              "    .dataframe tbody tr th {\n",
              "        vertical-align: top;\n",
              "    }\n",
              "\n",
              "    .dataframe thead th {\n",
              "        text-align: right;\n",
              "    }\n",
              "</style>\n",
              "<table border=\"1\" class=\"dataframe\">\n",
              "  <thead>\n",
              "    <tr style=\"text-align: right;\">\n",
              "      <th></th>\n",
              "      <th>acousticness</th>\n",
              "      <th>artists</th>\n",
              "      <th>danceability</th>\n",
              "      <th>duration_ms</th>\n",
              "      <th>energy</th>\n",
              "      <th>explicit</th>\n",
              "      <th>id</th>\n",
              "      <th>instrumentalness</th>\n",
              "      <th>key</th>\n",
              "      <th>liveness</th>\n",
              "      <th>loudness</th>\n",
              "      <th>mode</th>\n",
              "      <th>name</th>\n",
              "      <th>popularity</th>\n",
              "      <th>release_date</th>\n",
              "      <th>speechiness</th>\n",
              "      <th>tempo</th>\n",
              "      <th>valence</th>\n",
              "      <th>year</th>\n",
              "      <th>primary_artist</th>\n",
              "      <th>song_id</th>\n",
              "      <th>billboard_appearance</th>\n",
              "    </tr>\n",
              "  </thead>\n",
              "  <tbody>\n",
              "    <tr>\n",
              "      <th>0</th>\n",
              "      <td>0.0785</td>\n",
              "      <td>lil wayne, takeoff</td>\n",
              "      <td>0.587</td>\n",
              "      <td>200733</td>\n",
              "      <td>0.635</td>\n",
              "      <td>1</td>\n",
              "      <td>03TzvVWdkVbLT9pzewYiDw</td>\n",
              "      <td>0.0</td>\n",
              "      <td>8</td>\n",
              "      <td>0.175</td>\n",
              "      <td>-6.369</td>\n",
              "      <td>1</td>\n",
              "      <td>i don't sleep (ft. takeoff)</td>\n",
              "      <td>64</td>\n",
              "      <td>2020-01-31</td>\n",
              "      <td>0.422</td>\n",
              "      <td>82.517</td>\n",
              "      <td>0.758</td>\n",
              "      <td>2020</td>\n",
              "      <td>lil wayne</td>\n",
              "      <td>lil wayne i don't sleep (ft. takeoff)</td>\n",
              "      <td>0</td>\n",
              "    </tr>\n",
              "  </tbody>\n",
              "</table>\n",
              "</div>"
            ],
            "text/plain": [
              "   acousticness  ... billboard_appearance\n",
              "0        0.0785  ...                    0\n",
              "\n",
              "[1 rows x 22 columns]"
            ]
          },
          "metadata": {
            "tags": []
          },
          "execution_count": 74
        }
      ]
    },
    {
      "cell_type": "code",
      "metadata": {
        "id": "dh4T0RaxHO4W"
      },
      "source": [
        "merged_df.to_csv('spotify_billboard.csv')"
      ],
      "execution_count": null,
      "outputs": []
    },
    {
      "cell_type": "code",
      "metadata": {
        "colab": {
          "base_uri": "https://localhost:8080/"
        },
        "id": "YTrb0OGhXq2s",
        "outputId": "b8cdd703-13b0-4250-cfe0-2cc987515bbe"
      },
      "source": [
        "spotify.shape"
      ],
      "execution_count": null,
      "outputs": [
        {
          "output_type": "execute_result",
          "data": {
            "text/plain": [
              "(40302, 21)"
            ]
          },
          "metadata": {
            "tags": []
          },
          "execution_count": 76
        }
      ]
    }
  ]
}