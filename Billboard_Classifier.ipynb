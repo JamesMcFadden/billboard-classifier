{
  "nbformat": 4,
  "nbformat_minor": 0,
  "metadata": {
    "colab": {
      "name": "Billboard_Classifier.ipynb",
      "provenance": [],
      "collapsed_sections": [
        "ldlwTCnrgZIE",
        "0C2vpdD4kPqR",
        "--g04nzCkCvO"
      ],
      "toc_visible": true
    },
    "kernelspec": {
      "name": "python3",
      "display_name": "Python 3"
    }
  },
  "cells": [
    {
      "cell_type": "markdown",
      "metadata": {
        "id": "Q_Cm2yVggNud"
      },
      "source": [
        "# Import Packages and Load Data"
      ]
    },
    {
      "cell_type": "code",
      "metadata": {
        "colab": {
          "base_uri": "https://localhost:8080/"
        },
        "id": "S-MsCJZFb5X5",
        "outputId": "cf210f69-c748-42c4-e863-cbee9d5a2f03"
      },
      "source": [
        "!pip install category_encoders"
      ],
      "execution_count": 69,
      "outputs": [
        {
          "output_type": "stream",
          "text": [
            "Requirement already satisfied: category_encoders in /usr/local/lib/python3.6/dist-packages (2.2.2)\n",
            "Requirement already satisfied: scipy>=1.0.0 in /usr/local/lib/python3.6/dist-packages (from category_encoders) (1.4.1)\n",
            "Requirement already satisfied: pandas>=0.21.1 in /usr/local/lib/python3.6/dist-packages (from category_encoders) (1.1.5)\n",
            "Requirement already satisfied: patsy>=0.5.1 in /usr/local/lib/python3.6/dist-packages (from category_encoders) (0.5.1)\n",
            "Requirement already satisfied: statsmodels>=0.9.0 in /usr/local/lib/python3.6/dist-packages (from category_encoders) (0.10.2)\n",
            "Requirement already satisfied: scikit-learn>=0.20.0 in /usr/local/lib/python3.6/dist-packages (from category_encoders) (0.22.2.post1)\n",
            "Requirement already satisfied: numpy>=1.14.0 in /usr/local/lib/python3.6/dist-packages (from category_encoders) (1.19.4)\n",
            "Requirement already satisfied: pytz>=2017.2 in /usr/local/lib/python3.6/dist-packages (from pandas>=0.21.1->category_encoders) (2018.9)\n",
            "Requirement already satisfied: python-dateutil>=2.7.3 in /usr/local/lib/python3.6/dist-packages (from pandas>=0.21.1->category_encoders) (2.8.1)\n",
            "Requirement already satisfied: six in /usr/local/lib/python3.6/dist-packages (from patsy>=0.5.1->category_encoders) (1.15.0)\n",
            "Requirement already satisfied: joblib>=0.11 in /usr/local/lib/python3.6/dist-packages (from scikit-learn>=0.20.0->category_encoders) (1.0.0)\n"
          ],
          "name": "stdout"
        }
      ]
    },
    {
      "cell_type": "code",
      "metadata": {
        "id": "4HDSjy7zZVei"
      },
      "source": [
        "import pandas as pd\n",
        "import numpy as np\n",
        "import matplotlib.pyplot as plt\n",
        "\n",
        "from category_encoders import TargetEncoder\n",
        "from sklearn.model_selection import train_test_split\n",
        "from sklearn.metrics import accuracy_score, confusion_matrix, recall_score, precision_score, f1_score\n",
        "from sklearn.model_selection import GridSearchCV\n",
        "\n",
        "from sklearn.preprocessing import MinMaxScaler\n",
        "from sklearn.decomposition import PCA\n",
        "from imblearn.under_sampling import RandomUnderSampler\n",
        "\n",
        "from sklearn.linear_model import LogisticRegression\n",
        "from sklearn.ensemble import RandomForestClassifier\n",
        "from sklearn.tree import DecisionTreeClassifier\n",
        "from sklearn.ensemble import AdaBoostClassifier\n",
        "from sklearn.svm import SVC\n",
        "from sklearn.neighbors import KNeighborsClassifier"
      ],
      "execution_count": 70,
      "outputs": []
    },
    {
      "cell_type": "code",
      "metadata": {
        "colab": {
          "base_uri": "https://localhost:8080/"
        },
        "id": "tQjmq8GYY2IN",
        "outputId": "466b0d99-f3f7-4b3e-c38f-1c7b0065d515"
      },
      "source": [
        "from google.colab import drive\n",
        "drive.mount('/content/drive')"
      ],
      "execution_count": 71,
      "outputs": [
        {
          "output_type": "stream",
          "text": [
            "Drive already mounted at /content/drive; to attempt to forcibly remount, call drive.mount(\"/content/drive\", force_remount=True).\n"
          ],
          "name": "stdout"
        }
      ]
    },
    {
      "cell_type": "code",
      "metadata": {
        "id": "Rpxcv5EXY3dI"
      },
      "source": [
        "dataframe = pd.read_csv('drive/MyDrive/spotify_billboard_2.csv', index_col=False)"
      ],
      "execution_count": 72,
      "outputs": []
    },
    {
      "cell_type": "code",
      "metadata": {
        "id": "l9s6kcIAZgPO",
        "colab": {
          "base_uri": "https://localhost:8080/"
        },
        "outputId": "21e0c658-c8ea-4f27-aa07-caba8e30665c"
      },
      "source": [
        "dataframe.shape"
      ],
      "execution_count": 73,
      "outputs": [
        {
          "output_type": "execute_result",
          "data": {
            "text/plain": [
              "(40820, 23)"
            ]
          },
          "metadata": {
            "tags": []
          },
          "execution_count": 73
        }
      ]
    },
    {
      "cell_type": "markdown",
      "metadata": {
        "id": "ldlwTCnrgZIE"
      },
      "source": [
        "#Preprocessing"
      ]
    },
    {
      "cell_type": "markdown",
      "metadata": {
        "id": "0C2vpdD4kPqR"
      },
      "source": [
        "## Data Wrangling"
      ]
    },
    {
      "cell_type": "code",
      "metadata": {
        "id": "uD9zOytehUX0"
      },
      "source": [
        "df = dataframe"
      ],
      "execution_count": 74,
      "outputs": []
    },
    {
      "cell_type": "code",
      "metadata": {
        "id": "HvmorctbVaN9"
      },
      "source": [
        "df_test = df[df['billboard_appearance'] == 1]"
      ],
      "execution_count": 75,
      "outputs": []
    },
    {
      "cell_type": "code",
      "metadata": {
        "id": "qNTcCtSpZoKX"
      },
      "source": [
        "df = df.set_index('id')"
      ],
      "execution_count": 76,
      "outputs": []
    },
    {
      "cell_type": "code",
      "metadata": {
        "id": "cWPumJbwcXwn"
      },
      "source": [
        "# drop columns not needed for model\n",
        "df = df.drop(['Unnamed: 0', 'release_date', 'name', 'song_id', 'artists', 'year'], axis=1)"
      ],
      "execution_count": 77,
      "outputs": []
    },
    {
      "cell_type": "code",
      "metadata": {
        "id": "dmMeFzSpcyHz",
        "colab": {
          "base_uri": "https://localhost:8080/",
          "height": 0
        },
        "outputId": "0113b407-352a-4134-d620-465688049bb8"
      },
      "source": [
        "df.head(1)"
      ],
      "execution_count": 78,
      "outputs": [
        {
          "output_type": "execute_result",
          "data": {
            "text/html": [
              "<div>\n",
              "<style scoped>\n",
              "    .dataframe tbody tr th:only-of-type {\n",
              "        vertical-align: middle;\n",
              "    }\n",
              "\n",
              "    .dataframe tbody tr th {\n",
              "        vertical-align: top;\n",
              "    }\n",
              "\n",
              "    .dataframe thead th {\n",
              "        text-align: right;\n",
              "    }\n",
              "</style>\n",
              "<table border=\"1\" class=\"dataframe\">\n",
              "  <thead>\n",
              "    <tr style=\"text-align: right;\">\n",
              "      <th></th>\n",
              "      <th>acousticness</th>\n",
              "      <th>danceability</th>\n",
              "      <th>duration_ms</th>\n",
              "      <th>energy</th>\n",
              "      <th>explicit</th>\n",
              "      <th>instrumentalness</th>\n",
              "      <th>key</th>\n",
              "      <th>liveness</th>\n",
              "      <th>loudness</th>\n",
              "      <th>mode</th>\n",
              "      <th>popularity</th>\n",
              "      <th>speechiness</th>\n",
              "      <th>tempo</th>\n",
              "      <th>valence</th>\n",
              "      <th>primary_artist</th>\n",
              "      <th>billboard_appearance</th>\n",
              "    </tr>\n",
              "    <tr>\n",
              "      <th>id</th>\n",
              "      <th></th>\n",
              "      <th></th>\n",
              "      <th></th>\n",
              "      <th></th>\n",
              "      <th></th>\n",
              "      <th></th>\n",
              "      <th></th>\n",
              "      <th></th>\n",
              "      <th></th>\n",
              "      <th></th>\n",
              "      <th></th>\n",
              "      <th></th>\n",
              "      <th></th>\n",
              "      <th></th>\n",
              "      <th></th>\n",
              "      <th></th>\n",
              "    </tr>\n",
              "  </thead>\n",
              "  <tbody>\n",
              "    <tr>\n",
              "      <th>03TzvVWdkVbLT9pzewYiDw</th>\n",
              "      <td>0.0785</td>\n",
              "      <td>0.587</td>\n",
              "      <td>200733</td>\n",
              "      <td>0.635</td>\n",
              "      <td>1</td>\n",
              "      <td>0.0</td>\n",
              "      <td>8</td>\n",
              "      <td>0.175</td>\n",
              "      <td>-6.369</td>\n",
              "      <td>1</td>\n",
              "      <td>64</td>\n",
              "      <td>0.422</td>\n",
              "      <td>82.517</td>\n",
              "      <td>0.758</td>\n",
              "      <td>lil wayne</td>\n",
              "      <td>0</td>\n",
              "    </tr>\n",
              "  </tbody>\n",
              "</table>\n",
              "</div>"
            ],
            "text/plain": [
              "                        acousticness  ...  billboard_appearance\n",
              "id                                    ...                      \n",
              "03TzvVWdkVbLT9pzewYiDw        0.0785  ...                     0\n",
              "\n",
              "[1 rows x 16 columns]"
            ]
          },
          "metadata": {
            "tags": []
          },
          "execution_count": 78
        }
      ]
    },
    {
      "cell_type": "code",
      "metadata": {
        "id": "jcdEuOe_dhmp"
      },
      "source": [
        "explicit_onehot = pd.get_dummies(df.explicit, prefix='explicit')\n",
        "key_onehot = pd.get_dummies(df.key, prefix='key')\n",
        "mode_onehot = pd.get_dummies(df['mode'], prefix='mode')\n",
        "df = pd.concat([df,explicit_onehot, key_onehot, mode_onehot],axis=1)\n",
        "df = df.drop(columns=['key','mode','explicit'])"
      ],
      "execution_count": 79,
      "outputs": []
    },
    {
      "cell_type": "code",
      "metadata": {
        "id": "N8sdRLygfFya",
        "colab": {
          "base_uri": "https://localhost:8080/",
          "height": 0
        },
        "outputId": "b1b246fc-4931-4aa0-f2c7-e1633a4970d8"
      },
      "source": [
        "df.head(1)"
      ],
      "execution_count": 80,
      "outputs": [
        {
          "output_type": "execute_result",
          "data": {
            "text/html": [
              "<div>\n",
              "<style scoped>\n",
              "    .dataframe tbody tr th:only-of-type {\n",
              "        vertical-align: middle;\n",
              "    }\n",
              "\n",
              "    .dataframe tbody tr th {\n",
              "        vertical-align: top;\n",
              "    }\n",
              "\n",
              "    .dataframe thead th {\n",
              "        text-align: right;\n",
              "    }\n",
              "</style>\n",
              "<table border=\"1\" class=\"dataframe\">\n",
              "  <thead>\n",
              "    <tr style=\"text-align: right;\">\n",
              "      <th></th>\n",
              "      <th>acousticness</th>\n",
              "      <th>danceability</th>\n",
              "      <th>duration_ms</th>\n",
              "      <th>energy</th>\n",
              "      <th>instrumentalness</th>\n",
              "      <th>liveness</th>\n",
              "      <th>loudness</th>\n",
              "      <th>popularity</th>\n",
              "      <th>speechiness</th>\n",
              "      <th>tempo</th>\n",
              "      <th>valence</th>\n",
              "      <th>primary_artist</th>\n",
              "      <th>billboard_appearance</th>\n",
              "      <th>explicit_0</th>\n",
              "      <th>explicit_1</th>\n",
              "      <th>key_0</th>\n",
              "      <th>key_1</th>\n",
              "      <th>key_2</th>\n",
              "      <th>key_3</th>\n",
              "      <th>key_4</th>\n",
              "      <th>key_5</th>\n",
              "      <th>key_6</th>\n",
              "      <th>key_7</th>\n",
              "      <th>key_8</th>\n",
              "      <th>key_9</th>\n",
              "      <th>key_10</th>\n",
              "      <th>key_11</th>\n",
              "      <th>mode_0</th>\n",
              "      <th>mode_1</th>\n",
              "    </tr>\n",
              "    <tr>\n",
              "      <th>id</th>\n",
              "      <th></th>\n",
              "      <th></th>\n",
              "      <th></th>\n",
              "      <th></th>\n",
              "      <th></th>\n",
              "      <th></th>\n",
              "      <th></th>\n",
              "      <th></th>\n",
              "      <th></th>\n",
              "      <th></th>\n",
              "      <th></th>\n",
              "      <th></th>\n",
              "      <th></th>\n",
              "      <th></th>\n",
              "      <th></th>\n",
              "      <th></th>\n",
              "      <th></th>\n",
              "      <th></th>\n",
              "      <th></th>\n",
              "      <th></th>\n",
              "      <th></th>\n",
              "      <th></th>\n",
              "      <th></th>\n",
              "      <th></th>\n",
              "      <th></th>\n",
              "      <th></th>\n",
              "      <th></th>\n",
              "      <th></th>\n",
              "      <th></th>\n",
              "    </tr>\n",
              "  </thead>\n",
              "  <tbody>\n",
              "    <tr>\n",
              "      <th>03TzvVWdkVbLT9pzewYiDw</th>\n",
              "      <td>0.0785</td>\n",
              "      <td>0.587</td>\n",
              "      <td>200733</td>\n",
              "      <td>0.635</td>\n",
              "      <td>0.0</td>\n",
              "      <td>0.175</td>\n",
              "      <td>-6.369</td>\n",
              "      <td>64</td>\n",
              "      <td>0.422</td>\n",
              "      <td>82.517</td>\n",
              "      <td>0.758</td>\n",
              "      <td>lil wayne</td>\n",
              "      <td>0</td>\n",
              "      <td>0</td>\n",
              "      <td>1</td>\n",
              "      <td>0</td>\n",
              "      <td>0</td>\n",
              "      <td>0</td>\n",
              "      <td>0</td>\n",
              "      <td>0</td>\n",
              "      <td>0</td>\n",
              "      <td>0</td>\n",
              "      <td>0</td>\n",
              "      <td>1</td>\n",
              "      <td>0</td>\n",
              "      <td>0</td>\n",
              "      <td>0</td>\n",
              "      <td>0</td>\n",
              "      <td>1</td>\n",
              "    </tr>\n",
              "  </tbody>\n",
              "</table>\n",
              "</div>"
            ],
            "text/plain": [
              "                        acousticness  danceability  ...  mode_0  mode_1\n",
              "id                                                  ...                \n",
              "03TzvVWdkVbLT9pzewYiDw        0.0785         0.587  ...       0       1\n",
              "\n",
              "[1 rows x 29 columns]"
            ]
          },
          "metadata": {
            "tags": []
          },
          "execution_count": 80
        }
      ]
    },
    {
      "cell_type": "code",
      "metadata": {
        "id": "AB6XItE7fGxF",
        "colab": {
          "base_uri": "https://localhost:8080/"
        },
        "outputId": "d8ed556e-7097-4d3d-cf29-6a44d804029d"
      },
      "source": [
        "# Target encode the artist \n",
        "\n",
        "encoder = TargetEncoder()\n",
        "df['Artist_Encoded'] = encoder.fit_transform(df['primary_artist'],df['popularity'])\n",
        "\n",
        "df = df.drop(columns='primary_artist')"
      ],
      "execution_count": 81,
      "outputs": [
        {
          "output_type": "stream",
          "text": [
            "/usr/local/lib/python3.6/dist-packages/category_encoders/utils.py:21: FutureWarning: is_categorical is deprecated and will be removed in a future version.  Use is_categorical_dtype instead\n",
            "  elif pd.api.types.is_categorical(cols):\n"
          ],
          "name": "stderr"
        }
      ]
    },
    {
      "cell_type": "code",
      "metadata": {
        "id": "EU1i8ruLjl_5",
        "colab": {
          "base_uri": "https://localhost:8080/",
          "height": 0
        },
        "outputId": "923d0e9e-8769-4f80-ade2-6d5339a34553"
      },
      "source": [
        "df.head(1)"
      ],
      "execution_count": 82,
      "outputs": [
        {
          "output_type": "execute_result",
          "data": {
            "text/html": [
              "<div>\n",
              "<style scoped>\n",
              "    .dataframe tbody tr th:only-of-type {\n",
              "        vertical-align: middle;\n",
              "    }\n",
              "\n",
              "    .dataframe tbody tr th {\n",
              "        vertical-align: top;\n",
              "    }\n",
              "\n",
              "    .dataframe thead th {\n",
              "        text-align: right;\n",
              "    }\n",
              "</style>\n",
              "<table border=\"1\" class=\"dataframe\">\n",
              "  <thead>\n",
              "    <tr style=\"text-align: right;\">\n",
              "      <th></th>\n",
              "      <th>acousticness</th>\n",
              "      <th>danceability</th>\n",
              "      <th>duration_ms</th>\n",
              "      <th>energy</th>\n",
              "      <th>instrumentalness</th>\n",
              "      <th>liveness</th>\n",
              "      <th>loudness</th>\n",
              "      <th>popularity</th>\n",
              "      <th>speechiness</th>\n",
              "      <th>tempo</th>\n",
              "      <th>valence</th>\n",
              "      <th>billboard_appearance</th>\n",
              "      <th>explicit_0</th>\n",
              "      <th>explicit_1</th>\n",
              "      <th>key_0</th>\n",
              "      <th>key_1</th>\n",
              "      <th>key_2</th>\n",
              "      <th>key_3</th>\n",
              "      <th>key_4</th>\n",
              "      <th>key_5</th>\n",
              "      <th>key_6</th>\n",
              "      <th>key_7</th>\n",
              "      <th>key_8</th>\n",
              "      <th>key_9</th>\n",
              "      <th>key_10</th>\n",
              "      <th>key_11</th>\n",
              "      <th>mode_0</th>\n",
              "      <th>mode_1</th>\n",
              "      <th>Artist_Encoded</th>\n",
              "    </tr>\n",
              "    <tr>\n",
              "      <th>id</th>\n",
              "      <th></th>\n",
              "      <th></th>\n",
              "      <th></th>\n",
              "      <th></th>\n",
              "      <th></th>\n",
              "      <th></th>\n",
              "      <th></th>\n",
              "      <th></th>\n",
              "      <th></th>\n",
              "      <th></th>\n",
              "      <th></th>\n",
              "      <th></th>\n",
              "      <th></th>\n",
              "      <th></th>\n",
              "      <th></th>\n",
              "      <th></th>\n",
              "      <th></th>\n",
              "      <th></th>\n",
              "      <th></th>\n",
              "      <th></th>\n",
              "      <th></th>\n",
              "      <th></th>\n",
              "      <th></th>\n",
              "      <th></th>\n",
              "      <th></th>\n",
              "      <th></th>\n",
              "      <th></th>\n",
              "      <th></th>\n",
              "      <th></th>\n",
              "    </tr>\n",
              "  </thead>\n",
              "  <tbody>\n",
              "    <tr>\n",
              "      <th>03TzvVWdkVbLT9pzewYiDw</th>\n",
              "      <td>0.0785</td>\n",
              "      <td>0.587</td>\n",
              "      <td>200733</td>\n",
              "      <td>0.635</td>\n",
              "      <td>0.0</td>\n",
              "      <td>0.175</td>\n",
              "      <td>-6.369</td>\n",
              "      <td>64</td>\n",
              "      <td>0.422</td>\n",
              "      <td>82.517</td>\n",
              "      <td>0.758</td>\n",
              "      <td>0</td>\n",
              "      <td>0</td>\n",
              "      <td>1</td>\n",
              "      <td>0</td>\n",
              "      <td>0</td>\n",
              "      <td>0</td>\n",
              "      <td>0</td>\n",
              "      <td>0</td>\n",
              "      <td>0</td>\n",
              "      <td>0</td>\n",
              "      <td>0</td>\n",
              "      <td>1</td>\n",
              "      <td>0</td>\n",
              "      <td>0</td>\n",
              "      <td>0</td>\n",
              "      <td>0</td>\n",
              "      <td>1</td>\n",
              "      <td>51.266667</td>\n",
              "    </tr>\n",
              "  </tbody>\n",
              "</table>\n",
              "</div>"
            ],
            "text/plain": [
              "                        acousticness  danceability  ...  mode_1  Artist_Encoded\n",
              "id                                                  ...                        \n",
              "03TzvVWdkVbLT9pzewYiDw        0.0785         0.587  ...       1       51.266667\n",
              "\n",
              "[1 rows x 29 columns]"
            ]
          },
          "metadata": {
            "tags": []
          },
          "execution_count": 82
        }
      ]
    },
    {
      "cell_type": "code",
      "metadata": {
        "colab": {
          "base_uri": "https://localhost:8080/"
        },
        "id": "NuDNcks7zeMh",
        "outputId": "e77ce7d0-fcb2-4e7a-8e6d-c44790d4639d"
      },
      "source": [
        "df.shape"
      ],
      "execution_count": 83,
      "outputs": [
        {
          "output_type": "execute_result",
          "data": {
            "text/plain": [
              "(40820, 29)"
            ]
          },
          "metadata": {
            "tags": []
          },
          "execution_count": 83
        }
      ]
    },
    {
      "cell_type": "code",
      "metadata": {
        "id": "7R-zjD5PPARs"
      },
      "source": [
        "numericalFeatures = ['acousticness','danceability','duration_ms','energy','instrumentalness','liveness','loudness', 'popularity', 'speechiness','tempo','valence']"
      ],
      "execution_count": 84,
      "outputs": []
    },
    {
      "cell_type": "code",
      "metadata": {
        "id": "iYr49_J2PUnr"
      },
      "source": [
        "min_max_scaler = MinMaxScaler()\n",
        "df[numericalFeatures] = min_max_scaler.fit_transform(df[numericalFeatures])"
      ],
      "execution_count": 85,
      "outputs": []
    },
    {
      "cell_type": "code",
      "metadata": {
        "colab": {
          "base_uri": "https://localhost:8080/"
        },
        "id": "4pZdqvmrV3R8",
        "outputId": "0b5f90e7-1887-43d6-8491-649870a23bd7"
      },
      "source": [
        "df_test = df[df['billboard_appearance'] == 1]\n",
        "df_test.shape"
      ],
      "execution_count": 86,
      "outputs": [
        {
          "output_type": "execute_result",
          "data": {
            "text/plain": [
              "(5347, 29)"
            ]
          },
          "metadata": {
            "tags": []
          },
          "execution_count": 86
        }
      ]
    },
    {
      "cell_type": "markdown",
      "metadata": {
        "id": "--g04nzCkCvO"
      },
      "source": [
        "## Initialize train, validation, and test data"
      ]
    },
    {
      "cell_type": "code",
      "metadata": {
        "id": "s5MGZP5ijyyC"
      },
      "source": [
        "X = df.drop('billboard_appearance', axis=1)"
      ],
      "execution_count": 87,
      "outputs": []
    },
    {
      "cell_type": "code",
      "metadata": {
        "id": "Tl0TpLKbkmyv"
      },
      "source": [
        "y = df['billboard_appearance']"
      ],
      "execution_count": 88,
      "outputs": []
    },
    {
      "cell_type": "code",
      "metadata": {
        "id": "ZzQmpI6sn__Q"
      },
      "source": [
        "X_non_test , X_test , y_non_test, y_test = train_test_split(X,y,test_size=0.2)"
      ],
      "execution_count": 89,
      "outputs": []
    },
    {
      "cell_type": "code",
      "metadata": {
        "id": "G0CBlkaVU7Xd"
      },
      "source": [
        "X_train, X_val, y_train, y_val = train_test_split(X,y,test_size=0.185)"
      ],
      "execution_count": 90,
      "outputs": []
    },
    {
      "cell_type": "code",
      "metadata": {
        "colab": {
          "base_uri": "https://localhost:8080/"
        },
        "id": "daXOaKCuoCVr",
        "outputId": "01676e57-ffb8-4dbe-98ad-313f50dd3e56"
      },
      "source": [
        "#Perfrom undersampling for improved training\n",
        "re_sampler = RandomUnderSampler()\n",
        "X_train, y_train = re_sampler.fit_resample(X_train, y_train)\n",
        "X_val, y_val = re_sampler.fit_resample(X_val, y_val)"
      ],
      "execution_count": 91,
      "outputs": [
        {
          "output_type": "stream",
          "text": [
            "/usr/local/lib/python3.6/dist-packages/sklearn/utils/deprecation.py:87: FutureWarning: Function safe_indexing is deprecated; safe_indexing is deprecated in version 0.22 and will be removed in version 0.24.\n",
            "  warnings.warn(msg, category=FutureWarning)\n",
            "/usr/local/lib/python3.6/dist-packages/sklearn/utils/deprecation.py:87: FutureWarning: Function safe_indexing is deprecated; safe_indexing is deprecated in version 0.22 and will be removed in version 0.24.\n",
            "  warnings.warn(msg, category=FutureWarning)\n"
          ],
          "name": "stderr"
        }
      ]
    },
    {
      "cell_type": "markdown",
      "metadata": {
        "id": "XXNr5XCFH_9V"
      },
      "source": [
        "#Dimensionality Reduction"
      ]
    },
    {
      "cell_type": "code",
      "metadata": {
        "colab": {
          "base_uri": "https://localhost:8080/",
          "height": 0
        },
        "id": "SqTrvslOIDxf",
        "outputId": "1695b5d6-45a2-4c3b-a427-f6d32b9201c3"
      },
      "source": [
        "pca = PCA()\n",
        "pca_X_train = pca.fit_transform(X_train)\n",
        "plt.plot(np.cumsum(pca.explained_variance_ratio_))\n",
        "plt.title('Explained Variance vs Number of Components')\n",
        "plt.ylabel('Explained Variance')\n",
        "plt.xlabel('Number of Components')\n",
        "plt.axvline(x=20, lw=0.5, c='black')"
      ],
      "execution_count": 92,
      "outputs": [
        {
          "output_type": "execute_result",
          "data": {
            "text/plain": [
              "<matplotlib.lines.Line2D at 0x7f22dfd89978>"
            ]
          },
          "metadata": {
            "tags": []
          },
          "execution_count": 92
        },
        {
          "output_type": "display_data",
          "data": {
            "image/png": "[encoded data removed]",
            "text/plain": [
              "<Figure size 432x288 with 1 Axes>"
            ]
          },
          "metadata": {
            "tags": [],
            "needs_background": "light"
          }
        }
      ]
    },
    {
      "cell_type": "code",
      "metadata": {
        "id": "YBGSoNmfIiIF"
      },
      "source": [
        "pca = PCA(n_components=22)\n",
        "\n",
        "X_train = pca.fit_transform(X_train)\n",
        "X_val = pca.fit_transform(X_val)\n",
        "X_test = pca.fit_transform(X_test)"
      ],
      "execution_count": 93,
      "outputs": []
    },
    {
      "cell_type": "markdown",
      "metadata": {
        "id": "resG2EsZohTz"
      },
      "source": [
        "#Model Building"
      ]
    },
    {
      "cell_type": "markdown",
      "metadata": {
        "id": "TaiHBJe0pItU"
      },
      "source": [
        "##Helper Functions"
      ]
    },
    {
      "cell_type": "code",
      "metadata": {
        "id": "gErHLXCkoUqQ"
      },
      "source": [
        "# return all metrics for determining quality of model\n",
        "def get_classification_metrics(actual, pred):\n",
        "  print(confusion_matrix(actual, pred))\n",
        "  print('Accuracy: {}, Precision: {}, Recall: {}, F1 Score: {}'.format(\n",
        "      accuracy_score(actual, pred),\n",
        "      precision_score(actual, pred),\n",
        "      recall_score(actual, pred),\n",
        "      f1_score(actual, pred)))"
      ],
      "execution_count": 94,
      "outputs": []
    },
    {
      "cell_type": "code",
      "metadata": {
        "id": "jyyUW17Yqrf0"
      },
      "source": [
        "def hyp_tuning(model_list, param_grid_list, X_train, y_train, X_test, y_test):\n",
        "    \n",
        "    for i in range(len(model_list)):\n",
        "        print(model_list[i])\n",
        "        grid_search = GridSearchCV(model_list[i], param_grid_list[i], cv = 5, scoring = 'accuracy')\n",
        "        grid_search.fit(X_train, y_train)\n",
        "        print('Best Parameters: {}'.format(grid_search.best_params_))\n",
        "        best_cross_val_score = grid_search.best_score_\n",
        "        print('Best Cross Validation Score: {}'.format(best_cross_val_score))\n",
        "        # Score on the test set\n",
        "        test_score = grid_search.score(X_test, y_test)\n",
        "        print('Validation Set Score: {}'.format(test_score))"
      ],
      "execution_count": 97,
      "outputs": []
    },
    {
      "cell_type": "markdown",
      "metadata": {
        "id": "ZRjZzA1Lp2D-"
      },
      "source": [
        "##Logistic Regression"
      ]
    },
    {
      "cell_type": "markdown",
      "metadata": {
        "id": "4Cx40U5UqbdA"
      },
      "source": [
        "Hyperparameter Tuning"
      ]
    },
    {
      "cell_type": "code",
      "metadata": {
        "colab": {
          "base_uri": "https://localhost:8080/"
        },
        "id": "Ekxu6ekxqayo",
        "outputId": "18eee79a-4080-4ae5-b063-e670a3609db1"
      },
      "source": [
        "param_grid_logistic = {'C': [5, 6, 7, 8, 9, 10]}\n",
        "\n",
        "model_list = [LogisticRegression(max_iter = 1000)]\n",
        "param_grid_list = [param_grid_logistic]\n",
        "\n",
        "hyp_tuning(model_list, param_grid_list, X_train, y_train, X_val, y_val)"
      ],
      "execution_count": 98,
      "outputs": [
        {
          "output_type": "stream",
          "text": [
            "LogisticRegression(C=1.0, class_weight=None, dual=False, fit_intercept=True,\n",
            "                   intercept_scaling=1, l1_ratio=None, max_iter=1000,\n",
            "                   multi_class='auto', n_jobs=None, penalty='l2',\n",
            "                   random_state=None, solver='lbfgs', tol=0.0001, verbose=0,\n",
            "                   warm_start=False)\n",
            "Best Parameters: {'C': 8}\n",
            "Best Cross Validation Score: 0.6306884260393694\n",
            "Validation Set Score: 0.5626283367556468\n"
          ],
          "name": "stdout"
        }
      ]
    },
    {
      "cell_type": "markdown",
      "metadata": {
        "id": "ngYPJp1LrNaN"
      },
      "source": [
        "Fitting and Predicting"
      ]
    },
    {
      "cell_type": "code",
      "metadata": {
        "id": "uFvRQIvkpT_z"
      },
      "source": [
        "clf = LogisticRegression(C=8, random_state=0, max_iter=1000)\n",
        "clf.fit(X_train, y_train)\n",
        "y_train_pred_log = clf.predict(X_train)\n",
        "y_val_pred_log = clf.predict(X_val)\n",
        "y_test_pred_log = clf.predict(X_test)"
      ],
      "execution_count": 125,
      "outputs": []
    },
    {
      "cell_type": "code",
      "metadata": {
        "id": "Lxe3wiX7fvYS"
      },
      "source": [
        "# Save the predictions\n",
        "log_predictions_train = y_train_pred_log\n",
        "log_predictions_val = y_val_pred_log\n",
        "log_predictions_test = y_test_pred_log"
      ],
      "execution_count": 126,
      "outputs": []
    },
    {
      "cell_type": "markdown",
      "metadata": {
        "id": "k6Pl4xF6q-sk"
      },
      "source": [
        "Classification Metrics"
      ]
    },
    {
      "cell_type": "code",
      "metadata": {
        "colab": {
          "base_uri": "https://localhost:8080/"
        },
        "id": "Qk97DLWsq-DI",
        "outputId": "415fb8ba-fb87-4625-c4d1-89ac194e0c08"
      },
      "source": [
        "# Classification metrics for training data\n",
        "print('Training')\n",
        "get_classification_metrics(y_train, y_train_pred_log)\n",
        "\n",
        "print(\"\")\n",
        "\n",
        "# Classification metrics for test data\n",
        "print('Test')\n",
        "get_classification_metrics(y_test, y_test_pred_log)"
      ],
      "execution_count": 101,
      "outputs": [
        {
          "output_type": "stream",
          "text": [
            "Training\n",
            "[[2299 2074]\n",
            " [1147 3226]]\n",
            "Accuracy: 0.6317173565058313, Precision: 0.6086792452830189, Recall: 0.7377086668191173, F1 Score: 0.6670112684792723\n",
            "\n",
            "Test\n",
            "[[3505 3618]\n",
            " [ 354  687]]\n",
            "Accuracy: 0.5134737873591376, Precision: 0.15958188153310104, Recall: 0.659942363112392, F1 Score: 0.2570145903479237\n"
          ],
          "name": "stdout"
        }
      ]
    },
    {
      "cell_type": "markdown",
      "metadata": {
        "id": "wqSjreg4tP4x"
      },
      "source": [
        "##Random Forest"
      ]
    },
    {
      "cell_type": "markdown",
      "metadata": {
        "id": "8k5v8z9oyz-r"
      },
      "source": [
        "Hyperparameter Tuning"
      ]
    },
    {
      "cell_type": "code",
      "metadata": {
        "colab": {
          "base_uri": "https://localhost:8080/"
        },
        "id": "dDYmoVhvrVLm",
        "outputId": "003cc90f-0438-4f0f-a9ce-b157878ffa6f"
      },
      "source": [
        "# define hyperparameter grid\n",
        "param_grid_rf = [\n",
        "    {'max_depth': [9, 10, 11], 'n_estimators': [60, 70, 80]}\n",
        "]\n",
        "\n",
        "model_list = [RandomForestClassifier()]\n",
        "param_grid_list = [param_grid_rf]\n",
        "\n",
        "hyp_tuning(model_list, param_grid_list, X_train, y_train, X_val, y_val)"
      ],
      "execution_count": 104,
      "outputs": [
        {
          "output_type": "stream",
          "text": [
            "RandomForestClassifier(bootstrap=True, ccp_alpha=0.0, class_weight=None,\n",
            "                       criterion='gini', max_depth=None, max_features='auto',\n",
            "                       max_leaf_nodes=None, max_samples=None,\n",
            "                       min_impurity_decrease=0.0, min_impurity_split=None,\n",
            "                       min_samples_leaf=1, min_samples_split=2,\n",
            "                       min_weight_fraction_leaf=0.0, n_estimators=100,\n",
            "                       n_jobs=None, oob_score=False, random_state=None,\n",
            "                       verbose=0, warm_start=False)\n",
            "Best Parameters: {'max_depth': 10, 'n_estimators': 70}\n",
            "Best Cross Validation Score: 0.6721932859593237\n",
            "Validation Set Score: 0.5888090349075975\n"
          ],
          "name": "stdout"
        }
      ]
    },
    {
      "cell_type": "markdown",
      "metadata": {
        "id": "i17UZtaj-owd"
      },
      "source": [
        "Fitting and Predicting"
      ]
    },
    {
      "cell_type": "code",
      "metadata": {
        "id": "FbRyiGyUzWnd"
      },
      "source": [
        "clf = RandomForestClassifier(max_depth=10, n_estimators=70)\n",
        "clf.fit(X_train, y_train)\n",
        "y_train_pred_rf = clf.predict(X_train)\n",
        "y_val_pred_rf = clf.predict(X_val)\n",
        "y_test_pred_rf = clf.predict(X_test)"
      ],
      "execution_count": 128,
      "outputs": []
    },
    {
      "cell_type": "code",
      "metadata": {
        "id": "Nfb2bg_Mf05E"
      },
      "source": [
        "# Save the predictions\n",
        "rf_predictions_train = y_train_pred_rf\n",
        "rf_predictions_val = y_val_pred_rf\n",
        "rf_predictions_test = y_test_pred_rf"
      ],
      "execution_count": 129,
      "outputs": []
    },
    {
      "cell_type": "markdown",
      "metadata": {
        "id": "yCo8utuS_dhI"
      },
      "source": [
        "Classification Metrics"
      ]
    },
    {
      "cell_type": "code",
      "metadata": {
        "colab": {
          "base_uri": "https://localhost:8080/"
        },
        "id": "gPaLtdGW--xL",
        "outputId": "dee139bf-c71e-4eb9-aac1-026afb48b110"
      },
      "source": [
        "# Classification metrics for training data\n",
        "print('Training')\n",
        "get_classification_metrics(y_train, y_train_pred_rf)\n",
        "\n",
        "print(\"\")\n",
        "\n",
        "# Classification metrics for test data\n",
        "print('Test')\n",
        "get_classification_metrics(y_test, y_test_pred_rf)"
      ],
      "execution_count": 108,
      "outputs": [
        {
          "output_type": "stream",
          "text": [
            "Training\n",
            "[[3034 1339]\n",
            " [ 252 4121]]\n",
            "Accuracy: 0.8180882689229362, Precision: 0.7547619047619047, Recall: 0.9423736565286989, F1 Score: 0.8381979050137293\n",
            "\n",
            "Test\n",
            "[[4368 2755]\n",
            " [ 424  617]]\n",
            "Accuracy: 0.6106075453209211, Precision: 0.18297746144721233, Recall: 0.5926993275696446, F1 Score: 0.27962837072286423\n"
          ],
          "name": "stdout"
        }
      ]
    },
    {
      "cell_type": "markdown",
      "metadata": {
        "id": "6DsvtRIn_Sev"
      },
      "source": [
        "##Adaboost"
      ]
    },
    {
      "cell_type": "markdown",
      "metadata": {
        "id": "I2aDO5sdBwS1"
      },
      "source": [
        "Hyperparameter Tuning"
      ]
    },
    {
      "cell_type": "code",
      "metadata": {
        "colab": {
          "base_uri": "https://localhost:8080/"
        },
        "id": "VTcqScUd_T0Y",
        "outputId": "17d0bef8-af86-4144-cd1c-18fbd518cfbd"
      },
      "source": [
        "param_grid_ada={'n_estimators':[90, 100, 110],'learning_rate':[0.2, 0.3, 0.4]}\n",
        "\n",
        "model_list = [AdaBoostClassifier()]\n",
        "param_grid_list = [param_grid_ada]\n",
        "\n",
        "hyp_tuning(model_list, param_grid_list, X_train, y_train, X_val, y_val)"
      ],
      "execution_count": 109,
      "outputs": [
        {
          "output_type": "stream",
          "text": [
            "AdaBoostClassifier(algorithm='SAMME.R', base_estimator=None, learning_rate=1.0,\n",
            "                   n_estimators=50, random_state=None)\n",
            "Best Parameters: {'learning_rate': 0.4, 'n_estimators': 100}\n",
            "Best Cross Validation Score: 0.6639611206403659\n",
            "Validation Set Score: 0.5734086242299795\n"
          ],
          "name": "stdout"
        }
      ]
    },
    {
      "cell_type": "markdown",
      "metadata": {
        "id": "7PFYMzXjBe5K"
      },
      "source": [
        "Fitting and Predicting"
      ]
    },
    {
      "cell_type": "code",
      "metadata": {
        "id": "EEpAdjy7BZle"
      },
      "source": [
        "clf = AdaBoostClassifier(n_estimators=100, learning_rate=0.4, random_state=20)\n",
        "clf.fit(X_train, y_train)\n",
        "y_train_pred_ada = clf.predict(X_train)\n",
        "y_val_pred_ada = clf.predict(X_val)\n",
        "y_test_pred_ada = clf.predict(X_test)"
      ],
      "execution_count": 130,
      "outputs": []
    },
    {
      "cell_type": "code",
      "metadata": {
        "id": "e-9TnkjXf4BR"
      },
      "source": [
        "# Save the predictions\n",
        "ada_predictions_train = y_train_pred_ada\n",
        "ada_predictions_val = y_val_pred_ada\n",
        "ada_predictions_test = y_test_pred_ada"
      ],
      "execution_count": 131,
      "outputs": []
    },
    {
      "cell_type": "markdown",
      "metadata": {
        "id": "e7VASBn6BhkR"
      },
      "source": [
        "Classification Metrics"
      ]
    },
    {
      "cell_type": "code",
      "metadata": {
        "colab": {
          "base_uri": "https://localhost:8080/"
        },
        "id": "pF0ZLAKqBaAj",
        "outputId": "433c3c23-189a-464d-c38d-21e2d5383743"
      },
      "source": [
        "# Classification metrics for training data\n",
        "print('Training')\n",
        "get_classification_metrics(y_train, y_train_pred_ada)\n",
        "\n",
        "print(\"\")\n",
        "\n",
        "# Classification metrics for test data\n",
        "print('Test')\n",
        "get_classification_metrics(y_test, y_test_pred_ada)"
      ],
      "execution_count": 112,
      "outputs": [
        {
          "output_type": "stream",
          "text": [
            "Training\n",
            "[[2522 1851]\n",
            " [ 924 3449]]\n",
            "Accuracy: 0.6827120969586097, Precision: 0.6507547169811321, Recall: 0.7887034072718957, F1 Score: 0.7131189910058926\n",
            "\n",
            "Test\n",
            "[[4637 2486]\n",
            " [ 480  561]]\n",
            "Accuracy: 0.6366976972072513, Precision: 0.18411552346570398, Recall: 0.5389048991354467, F1 Score: 0.2744618395303327\n"
          ],
          "name": "stdout"
        }
      ]
    },
    {
      "cell_type": "markdown",
      "metadata": {
        "id": "_8lFL167BEPA"
      },
      "source": [
        "##SVM"
      ]
    },
    {
      "cell_type": "markdown",
      "metadata": {
        "id": "OzaIgeX1GCfJ"
      },
      "source": [
        "Hyperparameter Tuning"
      ]
    },
    {
      "cell_type": "code",
      "metadata": {
        "colab": {
          "base_uri": "https://localhost:8080/"
        },
        "id": "i8gOpmr2BFK9",
        "outputId": "a5d54225-cfda-48e1-fec4-de069291302e"
      },
      "source": [
        "list_kernel_type = ['linear', 'poly', 'rbf']\n",
        "random_state = 20\n",
        "\n",
        "objs_KSVM = [SVC(kernel=kernel_type, random_state=random_state) for kernel_type in list_kernel_type]\n",
        "\n",
        "for model in objs_KSVM:\n",
        "  model.fit(X_train, y_train)\n",
        "  print(model.score(X_test, y_test))"
      ],
      "execution_count": 113,
      "outputs": [
        {
          "output_type": "stream",
          "text": [
            "0.43214110730034294\n",
            "0.31210191082802546\n",
            "0.4710926016658501\n"
          ],
          "name": "stdout"
        }
      ]
    },
    {
      "cell_type": "markdown",
      "metadata": {
        "id": "2IzDV0BsGRgE"
      },
      "source": [
        "Fitting and Predicting"
      ]
    },
    {
      "cell_type": "code",
      "metadata": {
        "id": "BqOI4ZlAGLr1"
      },
      "source": [
        "clf = SVC(kernel='rbf', random_state=20)\n",
        "clf.fit(X_train, y_train)\n",
        "y_train_pred_svm = clf.predict(X_train)\n",
        "y_val_pred_svm = clf.predict(X_val)\n",
        "y_test_pred_svm = clf.predict(X_test)"
      ],
      "execution_count": 132,
      "outputs": []
    },
    {
      "cell_type": "code",
      "metadata": {
        "id": "0vfb7daWf7Za"
      },
      "source": [
        "# Save the predictions\n",
        "svm_predictions_train = y_train_pred_svm\n",
        "svm_predictions_val = y_val_pred_svm\n",
        "svm_predictions_test = y_test_pred_svm"
      ],
      "execution_count": 133,
      "outputs": []
    },
    {
      "cell_type": "markdown",
      "metadata": {
        "id": "Veyg4uhzGO2N"
      },
      "source": [
        "Classification Metrics"
      ]
    },
    {
      "cell_type": "code",
      "metadata": {
        "colab": {
          "base_uri": "https://localhost:8080/"
        },
        "id": "nOZRf1L3GOkJ",
        "outputId": "00296a11-13b8-4bb5-c230-f12154b71517"
      },
      "source": [
        "# Classification metrics for training data\n",
        "print('Training')\n",
        "get_classification_metrics(y_train, y_train_pred_svm)\n",
        "\n",
        "print(\"\")\n",
        "\n",
        "# Classification metrics for test data\n",
        "print('Test')\n",
        "get_classification_metrics(y_test, y_test_pred_svm)"
      ],
      "execution_count": 116,
      "outputs": [
        {
          "output_type": "stream",
          "text": [
            "Training\n",
            "[[2075 2298]\n",
            " [ 882 3491]]\n",
            "Accuracy: 0.6364052138120283, Precision: 0.6030402487476249, Recall: 0.7983077978504459, F1 Score: 0.6870694745128912\n",
            "\n",
            "Test\n",
            "[[3047 4076]\n",
            " [ 242  799]]\n",
            "Accuracy: 0.4710926016658501, Precision: 0.16389743589743588, Recall: 0.7675312199807877, F1 Score: 0.27011494252873564\n"
          ],
          "name": "stdout"
        }
      ]
    },
    {
      "cell_type": "markdown",
      "metadata": {
        "id": "lOg94l1UapM2"
      },
      "source": [
        "##kNN"
      ]
    },
    {
      "cell_type": "markdown",
      "metadata": {
        "id": "tqfhkvRVgAUi"
      },
      "source": [
        "Hyperparameter Tuning"
      ]
    },
    {
      "cell_type": "code",
      "metadata": {
        "colab": {
          "base_uri": "https://localhost:8080/"
        },
        "id": "GZg8magIasMq",
        "outputId": "59f455b4-b1c3-49c5-e47a-a769984af57e"
      },
      "source": [
        "param_grid_knn={'n_neighbors':[2,3,4]}\n",
        "\n",
        "model_list = [KNeighborsClassifier()]\n",
        "param_grid_list = [param_grid_knn]\n",
        "\n",
        "hyp_tuning(model_list, param_grid_list, X_train, y_train, X_val, y_val)"
      ],
      "execution_count": 117,
      "outputs": [
        {
          "output_type": "stream",
          "text": [
            "KNeighborsClassifier(algorithm='auto', leaf_size=30, metric='minkowski',\n",
            "                     metric_params=None, n_jobs=None, n_neighbors=5, p=2,\n",
            "                     weights='uniform')\n",
            "Best Parameters: {'n_neighbors': 3}\n",
            "Best Cross Validation Score: 0.6019908192436494\n",
            "Validation Set Score: 0.5559548254620124\n"
          ],
          "name": "stdout"
        }
      ]
    },
    {
      "cell_type": "markdown",
      "metadata": {
        "id": "VoVhm2bUgDKe"
      },
      "source": [
        "Fitting and Predicting"
      ]
    },
    {
      "cell_type": "code",
      "metadata": {
        "id": "uUzZ13Ije650"
      },
      "source": [
        "clf = KNeighborsClassifier(n_neighbors=3)\n",
        "clf.fit(X_train, y_train)\n",
        "y_train_pred_knn = clf.predict(X_train)\n",
        "y_val_pred_knn = clf.predict(X_val)\n",
        "y_test_pred_knn = clf.predict(X_test)"
      ],
      "execution_count": 134,
      "outputs": []
    },
    {
      "cell_type": "code",
      "metadata": {
        "id": "laUBvSAuf9UJ"
      },
      "source": [
        "# Save the predictions\n",
        "knn_predictions_train = y_train_pred_knn\n",
        "knn_predictions_val = y_val_pred_knn\n",
        "knn_predictions_test = y_test_pred_knn"
      ],
      "execution_count": 135,
      "outputs": []
    },
    {
      "cell_type": "markdown",
      "metadata": {
        "id": "ms-T4pvtgGVU"
      },
      "source": [
        "Classification Metrics"
      ]
    },
    {
      "cell_type": "code",
      "metadata": {
        "colab": {
          "base_uri": "https://localhost:8080/"
        },
        "id": "CsgwOPfke-3h",
        "outputId": "3a1cf445-f3b7-4ebe-a178-0a94f5aed8eb"
      },
      "source": [
        "# Classification metrics for training data\n",
        "print('Training')\n",
        "get_classification_metrics(y_train, y_train_pred_knn)\n",
        "\n",
        "print(\"\")\n",
        "\n",
        "# Classification metrics for test data\n",
        "print('Test')\n",
        "get_classification_metrics(y_test, y_test_pred_knn)"
      ],
      "execution_count": 120,
      "outputs": [
        {
          "output_type": "stream",
          "text": [
            "Training\n",
            "[[3312 1061]\n",
            " [ 707 3666]]\n",
            "Accuracy: 0.797850445918134, Precision: 0.7755447429659403, Recall: 0.8383260919277384, F1 Score: 0.8057142857142857\n",
            "\n",
            "Test\n",
            "[[3421 3702]\n",
            " [ 395  646]]\n",
            "Accuracy: 0.4981626653601176, Precision: 0.1485740570377185, Recall: 0.6205571565802114, F1 Score: 0.23974763406940064\n"
          ],
          "name": "stdout"
        }
      ]
    },
    {
      "cell_type": "markdown",
      "metadata": {
        "id": "EZ_QotuSfUWg"
      },
      "source": [
        "#Ensemble"
      ]
    },
    {
      "cell_type": "markdown",
      "metadata": {
        "id": "HNGEJ3Sggauv"
      },
      "source": [
        "##Dataframe Assembly"
      ]
    },
    {
      "cell_type": "code",
      "metadata": {
        "id": "j6LLUNCYfVvD"
      },
      "source": [
        "# initialize dataframe of supervised results with log predictions\n",
        "supervised_train_df = pd.DataFrame(log_predictions_train, columns = ['log_predictions_train'])\n",
        "supervised_train_df['rf_predictions_train'] = rf_predictions_train\n",
        "supervised_train_df['ada_predictions_train'] = ada_predictions_train\n",
        "supervised_train_df['svm_predictions_train'] = svm_predictions_train\n",
        "supervised_train_df['knn_predictions_train'] = knn_predictions_train"
      ],
      "execution_count": 136,
      "outputs": []
    },
    {
      "cell_type": "code",
      "metadata": {
        "id": "-siPOWCZYw2_"
      },
      "source": [
        "# initialize dataframe of supervised results with log predictions\n",
        "supervised_val_df = pd.DataFrame(log_predictions_val, columns = ['log_predictions_val'])\n",
        "supervised_val_df['rf_predictions_val'] = rf_predictions_val\n",
        "supervised_val_df['ada_predictions_val'] = ada_predictions_val\n",
        "supervised_val_df['svm_predictions_val'] = svm_predictions_val\n",
        "supervised_val_df['knn_predictions_val'] = knn_predictions_val"
      ],
      "execution_count": 137,
      "outputs": []
    },
    {
      "cell_type": "code",
      "metadata": {
        "id": "fiFPC_Xkgcx_"
      },
      "source": [
        "# initialize dataframe of supervised results with log predictions\n",
        "supervised_test_df = pd.DataFrame(log_predictions_test, columns = ['log_predictions_test'])\n",
        "supervised_test_df['rf_predictions_test'] = rf_predictions_test\n",
        "supervised_test_df['ada_predictions_test'] = ada_predictions_test\n",
        "supervised_test_df['svm_predictions_test'] = svm_predictions_test\n",
        "supervised_test_df['knn_predictions_test'] = knn_predictions_test"
      ],
      "execution_count": 138,
      "outputs": []
    },
    {
      "cell_type": "code",
      "metadata": {
        "colab": {
          "base_uri": "https://localhost:8080/",
          "height": 197
        },
        "id": "LEuFRxD4gcqW",
        "outputId": "cba22d88-8553-416d-ebb1-ed60cca22fd3"
      },
      "source": [
        "supervised_train_df.head()"
      ],
      "execution_count": 139,
      "outputs": [
        {
          "output_type": "execute_result",
          "data": {
            "text/html": [
              "<div>\n",
              "<style scoped>\n",
              "    .dataframe tbody tr th:only-of-type {\n",
              "        vertical-align: middle;\n",
              "    }\n",
              "\n",
              "    .dataframe tbody tr th {\n",
              "        vertical-align: top;\n",
              "    }\n",
              "\n",
              "    .dataframe thead th {\n",
              "        text-align: right;\n",
              "    }\n",
              "</style>\n",
              "<table border=\"1\" class=\"dataframe\">\n",
              "  <thead>\n",
              "    <tr style=\"text-align: right;\">\n",
              "      <th></th>\n",
              "      <th>log_predictions_train</th>\n",
              "      <th>rf_predictions_train</th>\n",
              "      <th>ada_predictions_train</th>\n",
              "      <th>svm_predictions_train</th>\n",
              "      <th>knn_predictions_train</th>\n",
              "    </tr>\n",
              "  </thead>\n",
              "  <tbody>\n",
              "    <tr>\n",
              "      <th>0</th>\n",
              "      <td>0</td>\n",
              "      <td>0</td>\n",
              "      <td>1</td>\n",
              "      <td>1</td>\n",
              "      <td>0</td>\n",
              "    </tr>\n",
              "    <tr>\n",
              "      <th>1</th>\n",
              "      <td>0</td>\n",
              "      <td>0</td>\n",
              "      <td>0</td>\n",
              "      <td>0</td>\n",
              "      <td>1</td>\n",
              "    </tr>\n",
              "    <tr>\n",
              "      <th>2</th>\n",
              "      <td>0</td>\n",
              "      <td>0</td>\n",
              "      <td>0</td>\n",
              "      <td>0</td>\n",
              "      <td>0</td>\n",
              "    </tr>\n",
              "    <tr>\n",
              "      <th>3</th>\n",
              "      <td>1</td>\n",
              "      <td>1</td>\n",
              "      <td>1</td>\n",
              "      <td>1</td>\n",
              "      <td>0</td>\n",
              "    </tr>\n",
              "    <tr>\n",
              "      <th>4</th>\n",
              "      <td>1</td>\n",
              "      <td>0</td>\n",
              "      <td>0</td>\n",
              "      <td>1</td>\n",
              "      <td>0</td>\n",
              "    </tr>\n",
              "  </tbody>\n",
              "</table>\n",
              "</div>"
            ],
            "text/plain": [
              "   log_predictions_train  ...  knn_predictions_train\n",
              "0                      0  ...                      0\n",
              "1                      0  ...                      1\n",
              "2                      0  ...                      0\n",
              "3                      1  ...                      0\n",
              "4                      1  ...                      0\n",
              "\n",
              "[5 rows x 5 columns]"
            ]
          },
          "metadata": {
            "tags": []
          },
          "execution_count": 139
        }
      ]
    },
    {
      "cell_type": "code",
      "metadata": {
        "colab": {
          "base_uri": "https://localhost:8080/",
          "height": 197
        },
        "id": "Z4wwtMOFZqvl",
        "outputId": "5f5fda1c-b6ea-4ee9-8976-3d0689391d95"
      },
      "source": [
        "supervised_val_df.head()"
      ],
      "execution_count": 140,
      "outputs": [
        {
          "output_type": "execute_result",
          "data": {
            "text/html": [
              "<div>\n",
              "<style scoped>\n",
              "    .dataframe tbody tr th:only-of-type {\n",
              "        vertical-align: middle;\n",
              "    }\n",
              "\n",
              "    .dataframe tbody tr th {\n",
              "        vertical-align: top;\n",
              "    }\n",
              "\n",
              "    .dataframe thead th {\n",
              "        text-align: right;\n",
              "    }\n",
              "</style>\n",
              "<table border=\"1\" class=\"dataframe\">\n",
              "  <thead>\n",
              "    <tr style=\"text-align: right;\">\n",
              "      <th></th>\n",
              "      <th>log_predictions_val</th>\n",
              "      <th>rf_predictions_val</th>\n",
              "      <th>ada_predictions_val</th>\n",
              "      <th>svm_predictions_val</th>\n",
              "      <th>knn_predictions_val</th>\n",
              "    </tr>\n",
              "  </thead>\n",
              "  <tbody>\n",
              "    <tr>\n",
              "      <th>0</th>\n",
              "      <td>0</td>\n",
              "      <td>0</td>\n",
              "      <td>0</td>\n",
              "      <td>0</td>\n",
              "      <td>0</td>\n",
              "    </tr>\n",
              "    <tr>\n",
              "      <th>1</th>\n",
              "      <td>0</td>\n",
              "      <td>0</td>\n",
              "      <td>1</td>\n",
              "      <td>1</td>\n",
              "      <td>1</td>\n",
              "    </tr>\n",
              "    <tr>\n",
              "      <th>2</th>\n",
              "      <td>1</td>\n",
              "      <td>0</td>\n",
              "      <td>1</td>\n",
              "      <td>1</td>\n",
              "      <td>1</td>\n",
              "    </tr>\n",
              "    <tr>\n",
              "      <th>3</th>\n",
              "      <td>1</td>\n",
              "      <td>1</td>\n",
              "      <td>1</td>\n",
              "      <td>1</td>\n",
              "      <td>1</td>\n",
              "    </tr>\n",
              "    <tr>\n",
              "      <th>4</th>\n",
              "      <td>1</td>\n",
              "      <td>1</td>\n",
              "      <td>1</td>\n",
              "      <td>1</td>\n",
              "      <td>0</td>\n",
              "    </tr>\n",
              "  </tbody>\n",
              "</table>\n",
              "</div>"
            ],
            "text/plain": [
              "   log_predictions_val  ...  knn_predictions_val\n",
              "0                    0  ...                    0\n",
              "1                    0  ...                    1\n",
              "2                    1  ...                    1\n",
              "3                    1  ...                    1\n",
              "4                    1  ...                    0\n",
              "\n",
              "[5 rows x 5 columns]"
            ]
          },
          "metadata": {
            "tags": []
          },
          "execution_count": 140
        }
      ]
    },
    {
      "cell_type": "code",
      "metadata": {
        "colab": {
          "base_uri": "https://localhost:8080/",
          "height": 197
        },
        "id": "98hK_ZgshDLo",
        "outputId": "94d5b8c9-2ba0-4cdc-f1b5-840d7c6da4e8"
      },
      "source": [
        "supervised_test_df.head()"
      ],
      "execution_count": 141,
      "outputs": [
        {
          "output_type": "execute_result",
          "data": {
            "text/html": [
              "<div>\n",
              "<style scoped>\n",
              "    .dataframe tbody tr th:only-of-type {\n",
              "        vertical-align: middle;\n",
              "    }\n",
              "\n",
              "    .dataframe tbody tr th {\n",
              "        vertical-align: top;\n",
              "    }\n",
              "\n",
              "    .dataframe thead th {\n",
              "        text-align: right;\n",
              "    }\n",
              "</style>\n",
              "<table border=\"1\" class=\"dataframe\">\n",
              "  <thead>\n",
              "    <tr style=\"text-align: right;\">\n",
              "      <th></th>\n",
              "      <th>log_predictions_test</th>\n",
              "      <th>rf_predictions_test</th>\n",
              "      <th>ada_predictions_test</th>\n",
              "      <th>svm_predictions_test</th>\n",
              "      <th>knn_predictions_test</th>\n",
              "    </tr>\n",
              "  </thead>\n",
              "  <tbody>\n",
              "    <tr>\n",
              "      <th>0</th>\n",
              "      <td>1</td>\n",
              "      <td>1</td>\n",
              "      <td>0</td>\n",
              "      <td>1</td>\n",
              "      <td>1</td>\n",
              "    </tr>\n",
              "    <tr>\n",
              "      <th>1</th>\n",
              "      <td>1</td>\n",
              "      <td>0</td>\n",
              "      <td>0</td>\n",
              "      <td>1</td>\n",
              "      <td>1</td>\n",
              "    </tr>\n",
              "    <tr>\n",
              "      <th>2</th>\n",
              "      <td>1</td>\n",
              "      <td>1</td>\n",
              "      <td>1</td>\n",
              "      <td>1</td>\n",
              "      <td>1</td>\n",
              "    </tr>\n",
              "    <tr>\n",
              "      <th>3</th>\n",
              "      <td>1</td>\n",
              "      <td>1</td>\n",
              "      <td>1</td>\n",
              "      <td>1</td>\n",
              "      <td>1</td>\n",
              "    </tr>\n",
              "    <tr>\n",
              "      <th>4</th>\n",
              "      <td>0</td>\n",
              "      <td>0</td>\n",
              "      <td>0</td>\n",
              "      <td>0</td>\n",
              "      <td>1</td>\n",
              "    </tr>\n",
              "  </tbody>\n",
              "</table>\n",
              "</div>"
            ],
            "text/plain": [
              "   log_predictions_test  ...  knn_predictions_test\n",
              "0                     1  ...                     1\n",
              "1                     1  ...                     1\n",
              "2                     1  ...                     1\n",
              "3                     1  ...                     1\n",
              "4                     0  ...                     1\n",
              "\n",
              "[5 rows x 5 columns]"
            ]
          },
          "metadata": {
            "tags": []
          },
          "execution_count": 141
        }
      ]
    },
    {
      "cell_type": "markdown",
      "metadata": {
        "id": "j8CJYvXpiRxf"
      },
      "source": [
        "##Random Forest on Individual Learners"
      ]
    },
    {
      "cell_type": "code",
      "metadata": {
        "colab": {
          "base_uri": "https://localhost:8080/"
        },
        "id": "2kiyQ625iS3b",
        "outputId": "af6d848a-c559-4143-c6c3-bf223f2293cb"
      },
      "source": [
        "# define hyperparameter grid\n",
        "param_grid_rf = [\n",
        "    {'max_depth': [4, 5], 'n_estimators': [20, 30]}\n",
        "]\n",
        "\n",
        "model_list = [RandomForestClassifier()]\n",
        "param_grid_list = [param_grid_rf]\n",
        "\n",
        "hyp_tuning(model_list, param_grid_list, supervised_train_df, y_train, supervised_val_df, y_val)"
      ],
      "execution_count": 148,
      "outputs": [
        {
          "output_type": "stream",
          "text": [
            "RandomForestClassifier(bootstrap=True, ccp_alpha=0.0, class_weight=None,\n",
            "                       criterion='gini', max_depth=None, max_features='auto',\n",
            "                       max_leaf_nodes=None, max_samples=None,\n",
            "                       min_impurity_decrease=0.0, min_impurity_split=None,\n",
            "                       min_samples_leaf=1, min_samples_split=2,\n",
            "                       min_weight_fraction_leaf=0.0, n_estimators=100,\n",
            "                       n_jobs=None, oob_score=False, random_state=None,\n",
            "                       verbose=0, warm_start=False)\n",
            "Best Parameters: {'max_depth': 5, 'n_estimators': 30}\n",
            "Best Cross Validation Score: 0.8647373356203545\n",
            "Validation Set Score: 0.580082135523614\n"
          ],
          "name": "stdout"
        }
      ]
    },
    {
      "cell_type": "code",
      "metadata": {
        "id": "tX8H8pj7lxBq"
      },
      "source": [
        "clf = RandomForestClassifier(max_depth=5, n_estimators=30)\n",
        "clf.fit(supervised_train_df, y_train)\n",
        "y_train_pred_ensemble = clf.predict(supervised_train_df)\n",
        "y_test_pred_ensemble = clf.predict(supervised_test_df)"
      ],
      "execution_count": 149,
      "outputs": []
    },
    {
      "cell_type": "code",
      "metadata": {
        "colab": {
          "base_uri": "https://localhost:8080/"
        },
        "id": "157ufR-OiWrL",
        "outputId": "0867c5f6-c11a-4980-aa53-0ef0e7f1ead8"
      },
      "source": [
        "# Classification metrics for training data\n",
        "print('Training')\n",
        "get_classification_metrics(y_train, y_train_pred_ensemble)\n",
        "\n",
        "print(\"\")\n",
        "\n",
        "# Classification metrics for test data\n",
        "print('Test')\n",
        "get_classification_metrics(y_test, y_test_pred_ensemble)"
      ],
      "execution_count": 150,
      "outputs": [
        {
          "output_type": "stream",
          "text": [
            "Training\n",
            "[[3824  549]\n",
            " [ 634 3739]]\n",
            "Accuracy: 0.8647381660187514, Precision: 0.8719682835820896, Recall: 0.8550194374571233, F1 Score: 0.8634106916060501\n",
            "\n",
            "Test\n",
            "[[4956 2167]\n",
            " [ 554  487]]\n",
            "Accuracy: 0.6667074963253308, Precision: 0.18349660889223812, Recall: 0.4678194044188281, F1 Score: 0.26359945872801077\n"
          ],
          "name": "stdout"
        }
      ]
    }
  ]
}