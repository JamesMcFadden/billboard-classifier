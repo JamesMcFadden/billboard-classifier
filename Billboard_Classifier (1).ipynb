{
  "nbformat": 4,
  "nbformat_minor": 0,
  "metadata": {
    "colab": {
      "name": "Billboard_Classifier.ipynb",
      "provenance": [],
      "collapsed_sections": [
        "ldlwTCnrgZIE",
        "0C2vpdD4kPqR",
        "--g04nzCkCvO"
      ],
      "toc_visible": true
    },
    "kernelspec": {
      "name": "python3",
      "display_name": "Python 3"
    }
  },
  "cells": [
    {
      "cell_type": "markdown",
      "metadata": {
        "id": "Q_Cm2yVggNud"
      },
      "source": [
        "# Import Packages and Load Data"
      ]
    },
    {
      "cell_type": "code",
      "metadata": {
        "colab": {
          "base_uri": "https://localhost:8080/"
        },
        "id": "S-MsCJZFb5X5",
        "outputId": "294fae20-9195-4917-b310-366bebc2996c"
      },
      "source": [
        "!pip install category_encoders"
      ],
      "execution_count": 1,
      "outputs": [
        {
          "output_type": "stream",
          "text": [
            "Collecting category_encoders\n",
            "\u001b[?25l  Downloading https://files.pythonhosted.org/packages/44/57/fcef41c248701ee62e8325026b90c432adea35555cbc870aff9cfba23727/category_encoders-2.2.2-py2.py3-none-any.whl (80kB)\n",
            "\r\u001b[K     |████                            | 10kB 18.7MB/s eta 0:00:01\r\u001b[K     |████████▏                       | 20kB 23.8MB/s eta 0:00:01\r\u001b[K     |████████████▏                   | 30kB 10.9MB/s eta 0:00:01\r\u001b[K     |████████████████▎               | 40kB 6.0MB/s eta 0:00:01\r\u001b[K     |████████████████████▎           | 51kB 7.3MB/s eta 0:00:01\r\u001b[K     |████████████████████████▍       | 61kB 8.5MB/s eta 0:00:01\r\u001b[K     |████████████████████████████▍   | 71kB 8.7MB/s eta 0:00:01\r\u001b[K     |████████████████████████████████| 81kB 5.5MB/s \n",
            "\u001b[?25hRequirement already satisfied: pandas>=0.21.1 in /usr/local/lib/python3.6/dist-packages (from category_encoders) (1.1.5)\n",
            "Requirement already satisfied: patsy>=0.5.1 in /usr/local/lib/python3.6/dist-packages (from category_encoders) (0.5.1)\n",
            "Requirement already satisfied: numpy>=1.14.0 in /usr/local/lib/python3.6/dist-packages (from category_encoders) (1.19.4)\n",
            "Requirement already satisfied: scikit-learn>=0.20.0 in /usr/local/lib/python3.6/dist-packages (from category_encoders) (0.22.2.post1)\n",
            "Requirement already satisfied: scipy>=1.0.0 in /usr/local/lib/python3.6/dist-packages (from category_encoders) (1.4.1)\n",
            "Requirement already satisfied: statsmodels>=0.9.0 in /usr/local/lib/python3.6/dist-packages (from category_encoders) (0.10.2)\n",
            "Requirement already satisfied: pytz>=2017.2 in /usr/local/lib/python3.6/dist-packages (from pandas>=0.21.1->category_encoders) (2018.9)\n",
            "Requirement already satisfied: python-dateutil>=2.7.3 in /usr/local/lib/python3.6/dist-packages (from pandas>=0.21.1->category_encoders) (2.8.1)\n",
            "Requirement already satisfied: six in /usr/local/lib/python3.6/dist-packages (from patsy>=0.5.1->category_encoders) (1.15.0)\n",
            "Requirement already satisfied: joblib>=0.11 in /usr/local/lib/python3.6/dist-packages (from scikit-learn>=0.20.0->category_encoders) (1.0.0)\n",
            "Installing collected packages: category-encoders\n",
            "Successfully installed category-encoders-2.2.2\n"
          ],
          "name": "stdout"
        }
      ]
    },
    {
      "cell_type": "code",
      "metadata": {
        "id": "4HDSjy7zZVei",
        "colab": {
          "base_uri": "https://localhost:8080/"
        },
        "outputId": "01da1140-74c6-4f28-a8b6-899a7223629b"
      },
      "source": [
        "import pandas as pd\n",
        "import numpy as np\n",
        "import matplotlib.pyplot as plt\n",
        "\n",
        "from category_encoders import TargetEncoder\n",
        "from sklearn.model_selection import train_test_split\n",
        "from sklearn.metrics import accuracy_score, confusion_matrix, recall_score, precision_score, f1_score\n",
        "from sklearn.model_selection import GridSearchCV\n",
        "\n",
        "from sklearn.preprocessing import MinMaxScaler\n",
        "from sklearn.decomposition import PCA\n",
        "from imblearn.under_sampling import RandomUnderSampler\n",
        "\n",
        "from sklearn.linear_model import LogisticRegression\n",
        "from sklearn.ensemble import RandomForestClassifier\n",
        "from sklearn.tree import DecisionTreeClassifier\n",
        "from sklearn.ensemble import AdaBoostClassifier\n",
        "from sklearn.svm import SVC\n",
        "from sklearn.neighbors import KNeighborsClassifier"
      ],
      "execution_count": 2,
      "outputs": [
        {
          "output_type": "stream",
          "text": [
            "/usr/local/lib/python3.6/dist-packages/statsmodels/tools/_testing.py:19: FutureWarning: pandas.util.testing is deprecated. Use the functions in the public API at pandas.testing instead.\n",
            "  import pandas.util.testing as tm\n",
            "/usr/local/lib/python3.6/dist-packages/sklearn/externals/six.py:31: FutureWarning: The module is deprecated in version 0.21 and will be removed in version 0.23 since we've dropped support for Python 2.7. Please rely on the official version of six (https://pypi.org/project/six/).\n",
            "  \"(https://pypi.org/project/six/).\", FutureWarning)\n",
            "/usr/local/lib/python3.6/dist-packages/sklearn/utils/deprecation.py:144: FutureWarning: The sklearn.neighbors.base module is  deprecated in version 0.22 and will be removed in version 0.24. The corresponding classes / functions should instead be imported from sklearn.neighbors. Anything that cannot be imported from sklearn.neighbors is now part of the private API.\n",
            "  warnings.warn(message, FutureWarning)\n"
          ],
          "name": "stderr"
        }
      ]
    },
    {
      "cell_type": "code",
      "metadata": {
        "colab": {
          "base_uri": "https://localhost:8080/"
        },
        "id": "tQjmq8GYY2IN",
        "outputId": "d9f08d18-e48f-432e-b415-b73719601dbb"
      },
      "source": [
        "from google.colab import drive\n",
        "drive.mount('/content/drive')"
      ],
      "execution_count": 3,
      "outputs": [
        {
          "output_type": "stream",
          "text": [
            "Mounted at /content/drive\n"
          ],
          "name": "stdout"
        }
      ]
    },
    {
      "cell_type": "code",
      "metadata": {
        "id": "Rpxcv5EXY3dI"
      },
      "source": [
        "dataframe = pd.read_csv('drive/MyDrive/spotify_billboard.csv', index_col=False)"
      ],
      "execution_count": 4,
      "outputs": []
    },
    {
      "cell_type": "code",
      "metadata": {
        "id": "l9s6kcIAZgPO",
        "colab": {
          "base_uri": "https://localhost:8080/"
        },
        "outputId": "fc5571de-7df1-4c49-b5b7-be4843e11ebc"
      },
      "source": [
        "dataframe.shape"
      ],
      "execution_count": 5,
      "outputs": [
        {
          "output_type": "execute_result",
          "data": {
            "text/plain": [
              "(40363, 23)"
            ]
          },
          "metadata": {
            "tags": []
          },
          "execution_count": 5
        }
      ]
    },
    {
      "cell_type": "markdown",
      "metadata": {
        "id": "ldlwTCnrgZIE"
      },
      "source": [
        "#Preprocessing"
      ]
    },
    {
      "cell_type": "markdown",
      "metadata": {
        "id": "0C2vpdD4kPqR"
      },
      "source": [
        "## Data Wrangling"
      ]
    },
    {
      "cell_type": "code",
      "metadata": {
        "id": "uD9zOytehUX0"
      },
      "source": [
        "df = dataframe"
      ],
      "execution_count": 6,
      "outputs": []
    },
    {
      "cell_type": "code",
      "metadata": {
        "id": "HvmorctbVaN9"
      },
      "source": [
        "df_test = df[df['billboard_appearance'] == 1]"
      ],
      "execution_count": 7,
      "outputs": []
    },
    {
      "cell_type": "code",
      "metadata": {
        "id": "qNTcCtSpZoKX"
      },
      "source": [
        "df = df.set_index('id')"
      ],
      "execution_count": 8,
      "outputs": []
    },
    {
      "cell_type": "code",
      "metadata": {
        "id": "cWPumJbwcXwn"
      },
      "source": [
        "# drop columns not needed for model\n",
        "df = df.drop(['Unnamed: 0', 'release_date', 'name', 'song_id', 'artists', 'year'], axis=1)"
      ],
      "execution_count": 9,
      "outputs": []
    },
    {
      "cell_type": "code",
      "metadata": {
        "id": "dmMeFzSpcyHz",
        "colab": {
          "base_uri": "https://localhost:8080/",
          "height": 0
        },
        "outputId": "6b950b2a-e69b-4624-c6b5-d5967e769f45"
      },
      "source": [
        "df.head(1)"
      ],
      "execution_count": 10,
      "outputs": [
        {
          "output_type": "execute_result",
          "data": {
            "text/html": [
              "<div>\n",
              "<style scoped>\n",
              "    .dataframe tbody tr th:only-of-type {\n",
              "        vertical-align: middle;\n",
              "    }\n",
              "\n",
              "    .dataframe tbody tr th {\n",
              "        vertical-align: top;\n",
              "    }\n",
              "\n",
              "    .dataframe thead th {\n",
              "        text-align: right;\n",
              "    }\n",
              "</style>\n",
              "<table border=\"1\" class=\"dataframe\">\n",
              "  <thead>\n",
              "    <tr style=\"text-align: right;\">\n",
              "      <th></th>\n",
              "      <th>acousticness</th>\n",
              "      <th>danceability</th>\n",
              "      <th>duration_ms</th>\n",
              "      <th>energy</th>\n",
              "      <th>explicit</th>\n",
              "      <th>instrumentalness</th>\n",
              "      <th>key</th>\n",
              "      <th>liveness</th>\n",
              "      <th>loudness</th>\n",
              "      <th>mode</th>\n",
              "      <th>popularity</th>\n",
              "      <th>speechiness</th>\n",
              "      <th>tempo</th>\n",
              "      <th>valence</th>\n",
              "      <th>primary_artist</th>\n",
              "      <th>billboard_appearance</th>\n",
              "    </tr>\n",
              "    <tr>\n",
              "      <th>id</th>\n",
              "      <th></th>\n",
              "      <th></th>\n",
              "      <th></th>\n",
              "      <th></th>\n",
              "      <th></th>\n",
              "      <th></th>\n",
              "      <th></th>\n",
              "      <th></th>\n",
              "      <th></th>\n",
              "      <th></th>\n",
              "      <th></th>\n",
              "      <th></th>\n",
              "      <th></th>\n",
              "      <th></th>\n",
              "      <th></th>\n",
              "      <th></th>\n",
              "    </tr>\n",
              "  </thead>\n",
              "  <tbody>\n",
              "    <tr>\n",
              "      <th>03TzvVWdkVbLT9pzewYiDw</th>\n",
              "      <td>0.0785</td>\n",
              "      <td>0.587</td>\n",
              "      <td>200733</td>\n",
              "      <td>0.635</td>\n",
              "      <td>1</td>\n",
              "      <td>0.0</td>\n",
              "      <td>8</td>\n",
              "      <td>0.175</td>\n",
              "      <td>-6.369</td>\n",
              "      <td>1</td>\n",
              "      <td>64</td>\n",
              "      <td>0.422</td>\n",
              "      <td>82.517</td>\n",
              "      <td>0.758</td>\n",
              "      <td>lil wayne</td>\n",
              "      <td>0</td>\n",
              "    </tr>\n",
              "  </tbody>\n",
              "</table>\n",
              "</div>"
            ],
            "text/plain": [
              "                        acousticness  ...  billboard_appearance\n",
              "id                                    ...                      \n",
              "03TzvVWdkVbLT9pzewYiDw        0.0785  ...                     0\n",
              "\n",
              "[1 rows x 16 columns]"
            ]
          },
          "metadata": {
            "tags": []
          },
          "execution_count": 10
        }
      ]
    },
    {
      "cell_type": "code",
      "metadata": {
        "id": "jcdEuOe_dhmp"
      },
      "source": [
        "explicit_onehot = pd.get_dummies(df.explicit, prefix='explicit')\n",
        "key_onehot = pd.get_dummies(df.key, prefix='key')\n",
        "mode_onehot = pd.get_dummies(df['mode'], prefix='mode')\n",
        "df = pd.concat([df,explicit_onehot, key_onehot, mode_onehot],axis=1)\n",
        "df = df.drop(columns=['key','mode','explicit'])"
      ],
      "execution_count": 11,
      "outputs": []
    },
    {
      "cell_type": "code",
      "metadata": {
        "id": "N8sdRLygfFya",
        "colab": {
          "base_uri": "https://localhost:8080/",
          "height": 0
        },
        "outputId": "648adf94-1d57-413d-a316-3b411f01f723"
      },
      "source": [
        "df.head(1)"
      ],
      "execution_count": 12,
      "outputs": [
        {
          "output_type": "execute_result",
          "data": {
            "text/html": [
              "<div>\n",
              "<style scoped>\n",
              "    .dataframe tbody tr th:only-of-type {\n",
              "        vertical-align: middle;\n",
              "    }\n",
              "\n",
              "    .dataframe tbody tr th {\n",
              "        vertical-align: top;\n",
              "    }\n",
              "\n",
              "    .dataframe thead th {\n",
              "        text-align: right;\n",
              "    }\n",
              "</style>\n",
              "<table border=\"1\" class=\"dataframe\">\n",
              "  <thead>\n",
              "    <tr style=\"text-align: right;\">\n",
              "      <th></th>\n",
              "      <th>acousticness</th>\n",
              "      <th>danceability</th>\n",
              "      <th>duration_ms</th>\n",
              "      <th>energy</th>\n",
              "      <th>instrumentalness</th>\n",
              "      <th>liveness</th>\n",
              "      <th>loudness</th>\n",
              "      <th>popularity</th>\n",
              "      <th>speechiness</th>\n",
              "      <th>tempo</th>\n",
              "      <th>valence</th>\n",
              "      <th>primary_artist</th>\n",
              "      <th>billboard_appearance</th>\n",
              "      <th>explicit_0</th>\n",
              "      <th>explicit_1</th>\n",
              "      <th>key_0</th>\n",
              "      <th>key_1</th>\n",
              "      <th>key_2</th>\n",
              "      <th>key_3</th>\n",
              "      <th>key_4</th>\n",
              "      <th>key_5</th>\n",
              "      <th>key_6</th>\n",
              "      <th>key_7</th>\n",
              "      <th>key_8</th>\n",
              "      <th>key_9</th>\n",
              "      <th>key_10</th>\n",
              "      <th>key_11</th>\n",
              "      <th>mode_0</th>\n",
              "      <th>mode_1</th>\n",
              "    </tr>\n",
              "    <tr>\n",
              "      <th>id</th>\n",
              "      <th></th>\n",
              "      <th></th>\n",
              "      <th></th>\n",
              "      <th></th>\n",
              "      <th></th>\n",
              "      <th></th>\n",
              "      <th></th>\n",
              "      <th></th>\n",
              "      <th></th>\n",
              "      <th></th>\n",
              "      <th></th>\n",
              "      <th></th>\n",
              "      <th></th>\n",
              "      <th></th>\n",
              "      <th></th>\n",
              "      <th></th>\n",
              "      <th></th>\n",
              "      <th></th>\n",
              "      <th></th>\n",
              "      <th></th>\n",
              "      <th></th>\n",
              "      <th></th>\n",
              "      <th></th>\n",
              "      <th></th>\n",
              "      <th></th>\n",
              "      <th></th>\n",
              "      <th></th>\n",
              "      <th></th>\n",
              "      <th></th>\n",
              "    </tr>\n",
              "  </thead>\n",
              "  <tbody>\n",
              "    <tr>\n",
              "      <th>03TzvVWdkVbLT9pzewYiDw</th>\n",
              "      <td>0.0785</td>\n",
              "      <td>0.587</td>\n",
              "      <td>200733</td>\n",
              "      <td>0.635</td>\n",
              "      <td>0.0</td>\n",
              "      <td>0.175</td>\n",
              "      <td>-6.369</td>\n",
              "      <td>64</td>\n",
              "      <td>0.422</td>\n",
              "      <td>82.517</td>\n",
              "      <td>0.758</td>\n",
              "      <td>lil wayne</td>\n",
              "      <td>0</td>\n",
              "      <td>0</td>\n",
              "      <td>1</td>\n",
              "      <td>0</td>\n",
              "      <td>0</td>\n",
              "      <td>0</td>\n",
              "      <td>0</td>\n",
              "      <td>0</td>\n",
              "      <td>0</td>\n",
              "      <td>0</td>\n",
              "      <td>0</td>\n",
              "      <td>1</td>\n",
              "      <td>0</td>\n",
              "      <td>0</td>\n",
              "      <td>0</td>\n",
              "      <td>0</td>\n",
              "      <td>1</td>\n",
              "    </tr>\n",
              "  </tbody>\n",
              "</table>\n",
              "</div>"
            ],
            "text/plain": [
              "                        acousticness  danceability  ...  mode_0  mode_1\n",
              "id                                                  ...                \n",
              "03TzvVWdkVbLT9pzewYiDw        0.0785         0.587  ...       0       1\n",
              "\n",
              "[1 rows x 29 columns]"
            ]
          },
          "metadata": {
            "tags": []
          },
          "execution_count": 12
        }
      ]
    },
    {
      "cell_type": "code",
      "metadata": {
        "id": "AB6XItE7fGxF",
        "colab": {
          "base_uri": "https://localhost:8080/"
        },
        "outputId": "5c965f2c-c2d1-4af0-defd-29351a822241"
      },
      "source": [
        "# Target encode the artist \n",
        "\n",
        "encoder = TargetEncoder()\n",
        "df['Artist_Encoded'] = encoder.fit_transform(df['primary_artist'],df['popularity'])\n",
        "\n",
        "df = df.drop(columns='primary_artist')"
      ],
      "execution_count": 13,
      "outputs": [
        {
          "output_type": "stream",
          "text": [
            "/usr/local/lib/python3.6/dist-packages/category_encoders/utils.py:21: FutureWarning: is_categorical is deprecated and will be removed in a future version.  Use is_categorical_dtype instead\n",
            "  elif pd.api.types.is_categorical(cols):\n"
          ],
          "name": "stderr"
        }
      ]
    },
    {
      "cell_type": "code",
      "metadata": {
        "id": "EU1i8ruLjl_5",
        "colab": {
          "base_uri": "https://localhost:8080/",
          "height": 0
        },
        "outputId": "b27b9e73-23fd-40b8-b310-8dc90b0c66d7"
      },
      "source": [
        "df.head(1)"
      ],
      "execution_count": 14,
      "outputs": [
        {
          "output_type": "execute_result",
          "data": {
            "text/html": [
              "<div>\n",
              "<style scoped>\n",
              "    .dataframe tbody tr th:only-of-type {\n",
              "        vertical-align: middle;\n",
              "    }\n",
              "\n",
              "    .dataframe tbody tr th {\n",
              "        vertical-align: top;\n",
              "    }\n",
              "\n",
              "    .dataframe thead th {\n",
              "        text-align: right;\n",
              "    }\n",
              "</style>\n",
              "<table border=\"1\" class=\"dataframe\">\n",
              "  <thead>\n",
              "    <tr style=\"text-align: right;\">\n",
              "      <th></th>\n",
              "      <th>acousticness</th>\n",
              "      <th>danceability</th>\n",
              "      <th>duration_ms</th>\n",
              "      <th>energy</th>\n",
              "      <th>instrumentalness</th>\n",
              "      <th>liveness</th>\n",
              "      <th>loudness</th>\n",
              "      <th>popularity</th>\n",
              "      <th>speechiness</th>\n",
              "      <th>tempo</th>\n",
              "      <th>valence</th>\n",
              "      <th>billboard_appearance</th>\n",
              "      <th>explicit_0</th>\n",
              "      <th>explicit_1</th>\n",
              "      <th>key_0</th>\n",
              "      <th>key_1</th>\n",
              "      <th>key_2</th>\n",
              "      <th>key_3</th>\n",
              "      <th>key_4</th>\n",
              "      <th>key_5</th>\n",
              "      <th>key_6</th>\n",
              "      <th>key_7</th>\n",
              "      <th>key_8</th>\n",
              "      <th>key_9</th>\n",
              "      <th>key_10</th>\n",
              "      <th>key_11</th>\n",
              "      <th>mode_0</th>\n",
              "      <th>mode_1</th>\n",
              "      <th>Artist_Encoded</th>\n",
              "    </tr>\n",
              "    <tr>\n",
              "      <th>id</th>\n",
              "      <th></th>\n",
              "      <th></th>\n",
              "      <th></th>\n",
              "      <th></th>\n",
              "      <th></th>\n",
              "      <th></th>\n",
              "      <th></th>\n",
              "      <th></th>\n",
              "      <th></th>\n",
              "      <th></th>\n",
              "      <th></th>\n",
              "      <th></th>\n",
              "      <th></th>\n",
              "      <th></th>\n",
              "      <th></th>\n",
              "      <th></th>\n",
              "      <th></th>\n",
              "      <th></th>\n",
              "      <th></th>\n",
              "      <th></th>\n",
              "      <th></th>\n",
              "      <th></th>\n",
              "      <th></th>\n",
              "      <th></th>\n",
              "      <th></th>\n",
              "      <th></th>\n",
              "      <th></th>\n",
              "      <th></th>\n",
              "      <th></th>\n",
              "    </tr>\n",
              "  </thead>\n",
              "  <tbody>\n",
              "    <tr>\n",
              "      <th>03TzvVWdkVbLT9pzewYiDw</th>\n",
              "      <td>0.0785</td>\n",
              "      <td>0.587</td>\n",
              "      <td>200733</td>\n",
              "      <td>0.635</td>\n",
              "      <td>0.0</td>\n",
              "      <td>0.175</td>\n",
              "      <td>-6.369</td>\n",
              "      <td>64</td>\n",
              "      <td>0.422</td>\n",
              "      <td>82.517</td>\n",
              "      <td>0.758</td>\n",
              "      <td>0</td>\n",
              "      <td>0</td>\n",
              "      <td>1</td>\n",
              "      <td>0</td>\n",
              "      <td>0</td>\n",
              "      <td>0</td>\n",
              "      <td>0</td>\n",
              "      <td>0</td>\n",
              "      <td>0</td>\n",
              "      <td>0</td>\n",
              "      <td>0</td>\n",
              "      <td>1</td>\n",
              "      <td>0</td>\n",
              "      <td>0</td>\n",
              "      <td>0</td>\n",
              "      <td>0</td>\n",
              "      <td>1</td>\n",
              "      <td>51.097087</td>\n",
              "    </tr>\n",
              "  </tbody>\n",
              "</table>\n",
              "</div>"
            ],
            "text/plain": [
              "                        acousticness  danceability  ...  mode_1  Artist_Encoded\n",
              "id                                                  ...                        \n",
              "03TzvVWdkVbLT9pzewYiDw        0.0785         0.587  ...       1       51.097087\n",
              "\n",
              "[1 rows x 29 columns]"
            ]
          },
          "metadata": {
            "tags": []
          },
          "execution_count": 14
        }
      ]
    },
    {
      "cell_type": "code",
      "metadata": {
        "colab": {
          "base_uri": "https://localhost:8080/"
        },
        "id": "NuDNcks7zeMh",
        "outputId": "e0bbd59f-b3f3-427c-e12a-49b50452cf21"
      },
      "source": [
        "df.shape"
      ],
      "execution_count": 15,
      "outputs": [
        {
          "output_type": "execute_result",
          "data": {
            "text/plain": [
              "(40363, 29)"
            ]
          },
          "metadata": {
            "tags": []
          },
          "execution_count": 15
        }
      ]
    },
    {
      "cell_type": "code",
      "metadata": {
        "id": "7R-zjD5PPARs"
      },
      "source": [
        "numericalFeatures = ['acousticness','danceability','duration_ms','energy','instrumentalness','liveness','loudness', 'popularity', 'speechiness','tempo','valence']"
      ],
      "execution_count": 16,
      "outputs": []
    },
    {
      "cell_type": "code",
      "metadata": {
        "id": "iYr49_J2PUnr"
      },
      "source": [
        "min_max_scaler = MinMaxScaler()\n",
        "df[numericalFeatures] = min_max_scaler.fit_transform(df[numericalFeatures])"
      ],
      "execution_count": 17,
      "outputs": []
    },
    {
      "cell_type": "code",
      "metadata": {
        "colab": {
          "base_uri": "https://localhost:8080/"
        },
        "id": "4pZdqvmrV3R8",
        "outputId": "b813d917-5bec-44e1-f750-0a1bebe485ec"
      },
      "source": [
        "df_test = df[df['billboard_appearance'] == 1]\n",
        "df_test.shape"
      ],
      "execution_count": 18,
      "outputs": [
        {
          "output_type": "execute_result",
          "data": {
            "text/plain": [
              "(4182, 29)"
            ]
          },
          "metadata": {
            "tags": []
          },
          "execution_count": 18
        }
      ]
    },
    {
      "cell_type": "markdown",
      "metadata": {
        "id": "--g04nzCkCvO"
      },
      "source": [
        "## Initialize train, validation, and test data"
      ]
    },
    {
      "cell_type": "code",
      "metadata": {
        "id": "s5MGZP5ijyyC"
      },
      "source": [
        "X = df.drop('billboard_appearance', axis=1)"
      ],
      "execution_count": 19,
      "outputs": []
    },
    {
      "cell_type": "code",
      "metadata": {
        "id": "Tl0TpLKbkmyv"
      },
      "source": [
        "y = df['billboard_appearance']"
      ],
      "execution_count": 20,
      "outputs": []
    },
    {
      "cell_type": "code",
      "metadata": {
        "id": "ZzQmpI6sn__Q"
      },
      "source": [
        "X_train, X_test, y_train, y_test = train_test_split(X,y,test_size=0.2)"
      ],
      "execution_count": 21,
      "outputs": []
    },
    {
      "cell_type": "code",
      "metadata": {
        "colab": {
          "base_uri": "https://localhost:8080/"
        },
        "id": "daXOaKCuoCVr",
        "outputId": "49edc347-d3ea-4c58-9475-6cf29a887019"
      },
      "source": [
        "#Perfrom undersampling for improved training\n",
        "re_sampler = RandomUnderSampler()\n",
        "X_train, y_train = re_sampler.fit_resample(X_train, y_train)"
      ],
      "execution_count": 22,
      "outputs": [
        {
          "output_type": "stream",
          "text": [
            "/usr/local/lib/python3.6/dist-packages/sklearn/utils/deprecation.py:87: FutureWarning: Function safe_indexing is deprecated; safe_indexing is deprecated in version 0.22 and will be removed in version 0.24.\n",
            "  warnings.warn(msg, category=FutureWarning)\n"
          ],
          "name": "stderr"
        }
      ]
    },
    {
      "cell_type": "markdown",
      "metadata": {
        "id": "XXNr5XCFH_9V"
      },
      "source": [
        "#Dimensionality Reduction"
      ]
    },
    {
      "cell_type": "code",
      "metadata": {
        "colab": {
          "base_uri": "https://localhost:8080/",
          "height": 0
        },
        "id": "SqTrvslOIDxf",
        "outputId": "a5a1ac5d-42fd-4e17-a082-38cf01c05f24"
      },
      "source": [
        "pca = PCA()\n",
        "pca_X_train = pca.fit_transform(X_train)\n",
        "plt.plot(np.cumsum(pca.explained_variance_ratio_))\n",
        "plt.title('Explained Variance vs Number of Components')\n",
        "plt.ylabel('Explained Variance')\n",
        "plt.xlabel('Number of Components')\n",
        "plt.axvline(x=20, lw=0.5, c='black')"
      ],
      "execution_count": 23,
      "outputs": [
        {
          "output_type": "execute_result",
          "data": {
            "text/plain": [
              "<matplotlib.lines.Line2D at 0x7f2fe9028a20>"
            ]
          },
          "metadata": {
            "tags": []
          },
          "execution_count": 23
        },
        {
          "output_type": "display_data",
          "data": {
            "image/png": "[encoded data removed]",
            "text/plain": [
              "<Figure size 432x288 with 1 Axes>"
            ]
          },
          "metadata": {
            "tags": [],
            "needs_background": "light"
          }
        }
      ]
    },
    {
      "cell_type": "code",
      "metadata": {
        "id": "YBGSoNmfIiIF"
      },
      "source": [
        "pca = PCA(n_components=22)\n",
        "\n",
        "X_train = pca.fit_transform(X_train)\n",
        "X_test = pca.fit_transform(X_test)"
      ],
      "execution_count": 24,
      "outputs": []
    },
    {
      "cell_type": "markdown",
      "metadata": {
        "id": "resG2EsZohTz"
      },
      "source": [
        "#Model Building"
      ]
    },
    {
      "cell_type": "markdown",
      "metadata": {
        "id": "TaiHBJe0pItU"
      },
      "source": [
        "##Helper Functions"
      ]
    },
    {
      "cell_type": "code",
      "metadata": {
        "id": "gErHLXCkoUqQ"
      },
      "source": [
        "# return all metrics for determining quality of model\n",
        "def get_classification_metrics(actual, pred):\n",
        "  print(confusion_matrix(actual, pred))\n",
        "  print('Accuracy: {}, Precision: {}, Recall: {}, F1 Score: {}'.format(\n",
        "      accuracy_score(actual, pred),\n",
        "      precision_score(actual, pred),\n",
        "      recall_score(actual, pred),\n",
        "      f1_score(actual, pred)))"
      ],
      "execution_count": 25,
      "outputs": []
    },
    {
      "cell_type": "code",
      "metadata": {
        "id": "jyyUW17Yqrf0"
      },
      "source": [
        "def hyp_tuning(model_list, param_grid_list, X_train, y_train, X_test, y_test):\n",
        "    \n",
        "    for i in range(len(model_list)):\n",
        "        print(model_list[i])\n",
        "        grid_search = GridSearchCV(model_list[i], param_grid_list[i], cv = 5, scoring = 'accuracy')\n",
        "        grid_search.fit(X_train, y_train)\n",
        "        print('Best Parameters: {}'.format(grid_search.best_params_))\n",
        "        best_cross_val_score = grid_search.best_score_\n",
        "        print('Best Cross Validation Score: {}'.format(best_cross_val_score))\n",
        "        # Score on the test set\n",
        "        test_score = grid_search.score(X_test, y_test)\n",
        "        print('Validation Set Score: {}'.format(test_score))"
      ],
      "execution_count": 26,
      "outputs": []
    },
    {
      "cell_type": "markdown",
      "metadata": {
        "id": "ZRjZzA1Lp2D-"
      },
      "source": [
        "##Logistic Regression"
      ]
    },
    {
      "cell_type": "markdown",
      "metadata": {
        "id": "4Cx40U5UqbdA"
      },
      "source": [
        "Hyperparameter Tuning"
      ]
    },
    {
      "cell_type": "code",
      "metadata": {
        "colab": {
          "base_uri": "https://localhost:8080/"
        },
        "id": "4_5sXsryNViU",
        "outputId": "61090694-cbdf-4df1-faaf-b4889fc51686"
      },
      "source": [
        "param_grid_logistic = {'C': [3,4,5,6]}\n",
        "\n",
        "model_list = [LogisticRegression(max_iter = 1000)]\n",
        "param_grid_list = [param_grid_logistic]\n",
        "\n",
        "hyp_tuning(model_list, param_grid_list, X_train, y_train, X_test, y_test)"
      ],
      "execution_count": 27,
      "outputs": [
        {
          "output_type": "stream",
          "text": [
            "LogisticRegression(C=1.0, class_weight=None, dual=False, fit_intercept=True,\n",
            "                   intercept_scaling=1, l1_ratio=None, max_iter=1000,\n",
            "                   multi_class='auto', n_jobs=None, penalty='l2',\n",
            "                   random_state=None, solver='lbfgs', tol=0.0001, verbose=0,\n",
            "                   warm_start=False)\n",
            "Best Parameters: {'C': 5}\n",
            "Best Cross Validation Score: 0.6306292099118593\n",
            "Validation Set Score: 0.5180230397621702\n"
          ],
          "name": "stdout"
        }
      ]
    },
    {
      "cell_type": "markdown",
      "metadata": {
        "id": "ngYPJp1LrNaN"
      },
      "source": [
        "Fitting and Predicting"
      ]
    },
    {
      "cell_type": "code",
      "metadata": {
        "id": "uFvRQIvkpT_z"
      },
      "source": [
        "clf = LogisticRegression(C=5, random_state=0, max_iter=1000)\n",
        "clf.fit(X_train, y_train)\n",
        "y_train_pred_log = clf.predict(X_train)\n",
        "y_test_pred_log = clf.predict(X_test)"
      ],
      "execution_count": 28,
      "outputs": []
    },
    {
      "cell_type": "code",
      "metadata": {
        "id": "Lxe3wiX7fvYS"
      },
      "source": [
        "# Save the predictions\n",
        "log_predictions_train = y_train_pred_log\n",
        "log_predictions_test = y_test_pred_log"
      ],
      "execution_count": 29,
      "outputs": []
    },
    {
      "cell_type": "markdown",
      "metadata": {
        "id": "k6Pl4xF6q-sk"
      },
      "source": [
        "Classification Metrics"
      ]
    },
    {
      "cell_type": "code",
      "metadata": {
        "colab": {
          "base_uri": "https://localhost:8080/"
        },
        "id": "Qk97DLWsq-DI",
        "outputId": "b64cdbbd-2feb-419c-8b58-29dc22c714f3"
      },
      "source": [
        "# Classification metrics for training data\n",
        "print('Training')\n",
        "get_classification_metrics(y_train, y_train_pred_log)\n",
        "\n",
        "print(\"\")\n",
        "\n",
        "# Classification metrics for test data\n",
        "print('Test')\n",
        "get_classification_metrics(y_test, y_test_pred_log)"
      ],
      "execution_count": 30,
      "outputs": [
        {
          "output_type": "stream",
          "text": [
            "Training\n",
            "[[1779 1574]\n",
            " [ 876 2477]]\n",
            "Accuracy: 0.6346555323590815, Precision: 0.6114539619846951, Recall: 0.7387414255890248, F1 Score: 0.6690977849810913\n",
            "\n",
            "Test\n",
            "[[3629 3615]\n",
            " [ 276  553]]\n",
            "Accuracy: 0.5180230397621702, Precision: 0.1326775431861804, Recall: 0.6670687575392038, F1 Score: 0.22133279967980787\n"
          ],
          "name": "stdout"
        }
      ]
    },
    {
      "cell_type": "markdown",
      "metadata": {
        "id": "wqSjreg4tP4x"
      },
      "source": [
        "##Random Forest"
      ]
    },
    {
      "cell_type": "markdown",
      "metadata": {
        "id": "8k5v8z9oyz-r"
      },
      "source": [
        "Hyperparameter Tuning"
      ]
    },
    {
      "cell_type": "code",
      "metadata": {
        "colab": {
          "base_uri": "https://localhost:8080/"
        },
        "id": "-q_upvTENnX4",
        "outputId": "9498ed57-6fb0-4319-ef2f-04fec10a10f8"
      },
      "source": [
        "# define hyperparameter grid\n",
        "param_grid_rf = [\n",
        "    {'max_depth': [9, 10, 11], 'n_estimators': [100, 110, 120]}\n",
        "]\n",
        "\n",
        "model_list = [RandomForestClassifier()]\n",
        "param_grid_list = [param_grid_rf]\n",
        "\n",
        "hyp_tuning(model_list, param_grid_list, X_train, y_train, X_test, y_test)"
      ],
      "execution_count": 33,
      "outputs": [
        {
          "output_type": "stream",
          "text": [
            "RandomForestClassifier(bootstrap=True, ccp_alpha=0.0, class_weight=None,\n",
            "                       criterion='gini', max_depth=None, max_features='auto',\n",
            "                       max_leaf_nodes=None, max_samples=None,\n",
            "                       min_impurity_decrease=0.0, min_impurity_split=None,\n",
            "                       min_samples_leaf=1, min_samples_split=2,\n",
            "                       min_weight_fraction_leaf=0.0, n_estimators=100,\n",
            "                       n_jobs=None, oob_score=False, random_state=None,\n",
            "                       verbose=0, warm_start=False)\n",
            "Best Parameters: {'max_depth': 11, 'n_estimators': 120}\n",
            "Best Cross Validation Score: 0.6576206558932932\n",
            "Validation Set Score: 0.7013501796110492\n"
          ],
          "name": "stdout"
        }
      ]
    },
    {
      "cell_type": "markdown",
      "metadata": {
        "id": "i17UZtaj-owd"
      },
      "source": [
        "Fitting and Predicting"
      ]
    },
    {
      "cell_type": "code",
      "metadata": {
        "id": "FbRyiGyUzWnd"
      },
      "source": [
        "clf = RandomForestClassifier(max_depth=11, n_estimators=120)\n",
        "clf.fit(X_train, y_train)\n",
        "y_train_pred_rf = clf.predict(X_train)\n",
        "y_test_pred_rf = clf.predict(X_test)"
      ],
      "execution_count": 34,
      "outputs": []
    },
    {
      "cell_type": "code",
      "metadata": {
        "id": "Nfb2bg_Mf05E"
      },
      "source": [
        "# Save the predictions\n",
        "rf_predictions_train = y_train_pred_rf\n",
        "rf_predictions_test = y_test_pred_rf"
      ],
      "execution_count": 35,
      "outputs": []
    },
    {
      "cell_type": "markdown",
      "metadata": {
        "id": "yCo8utuS_dhI"
      },
      "source": [
        "Classification Metrics"
      ]
    },
    {
      "cell_type": "code",
      "metadata": {
        "colab": {
          "base_uri": "https://localhost:8080/"
        },
        "id": "gPaLtdGW--xL",
        "outputId": "cca1b19c-741f-4a3a-dd4a-8502c06bbfbb"
      },
      "source": [
        "# Classification metrics for training data\n",
        "print('Training')\n",
        "get_classification_metrics(y_train, y_train_pred_rf)\n",
        "\n",
        "print(\"\")\n",
        "\n",
        "# Classification metrics for test data\n",
        "print('Test')\n",
        "get_classification_metrics(y_test, y_test_pred_rf)"
      ],
      "execution_count": 36,
      "outputs": [
        {
          "output_type": "stream",
          "text": [
            "Training\n",
            "[[2627  726]\n",
            " [  44 3309]]\n",
            "Accuracy: 0.8851774530271399, Precision: 0.8200743494423792, Recall: 0.9868774232031017, F1 Score: 0.8957769355711965\n",
            "\n",
            "Test\n",
            "[[5235 2009]\n",
            " [ 469  360]]\n",
            "Accuracy: 0.6930509104422148, Precision: 0.15196285352469396, Recall: 0.43425814234016885, F1 Score: 0.225140712945591\n"
          ],
          "name": "stdout"
        }
      ]
    },
    {
      "cell_type": "markdown",
      "metadata": {
        "id": "6DsvtRIn_Sev"
      },
      "source": [
        "##Adaboost"
      ]
    },
    {
      "cell_type": "markdown",
      "metadata": {
        "id": "I2aDO5sdBwS1"
      },
      "source": [
        "Hyperparameter Tuning"
      ]
    },
    {
      "cell_type": "code",
      "metadata": {
        "colab": {
          "base_uri": "https://localhost:8080/"
        },
        "id": "U9JH0vM6R0LD",
        "outputId": "598190d0-8922-4a23-8176-d0b6cdf4bbbc"
      },
      "source": [
        "param_grid_ada={'learning_rate':[0.3, 0.4, 0.5], 'n_estimators':[150, 170, 190]}\n",
        "\n",
        "model_list = [AdaBoostClassifier()]\n",
        "param_grid_list = [param_grid_ada]\n",
        "\n",
        "hyp_tuning(model_list, param_grid_list, X_train, y_train, X_test, y_test)"
      ],
      "execution_count": 38,
      "outputs": [
        {
          "output_type": "stream",
          "text": [
            "AdaBoostClassifier(algorithm='SAMME.R', base_estimator=None, learning_rate=1.0,\n",
            "                   n_estimators=50, random_state=None)\n",
            "Best Parameters: {'learning_rate': 0.4, 'n_estimators': 170}\n",
            "Best Cross Validation Score: 0.654488664841839\n",
            "Validation Set Score: 0.6955283042239564\n"
          ],
          "name": "stdout"
        }
      ]
    },
    {
      "cell_type": "markdown",
      "metadata": {
        "id": "7PFYMzXjBe5K"
      },
      "source": [
        "Fitting and Predicting"
      ]
    },
    {
      "cell_type": "code",
      "metadata": {
        "id": "EEpAdjy7BZle"
      },
      "source": [
        "clf = AdaBoostClassifier(n_estimators=170, learning_rate=0.4, random_state=20)\n",
        "clf.fit(X_train, y_train)\n",
        "y_train_pred_ada = clf.predict(X_train)\n",
        "y_test_pred_ada = clf.predict(X_test)"
      ],
      "execution_count": 42,
      "outputs": []
    },
    {
      "cell_type": "code",
      "metadata": {
        "id": "e-9TnkjXf4BR"
      },
      "source": [
        "# Save the predictions\n",
        "ada_predictions_train = y_train_pred_ada\n",
        "ada_predictions_test = y_test_pred_ada"
      ],
      "execution_count": 43,
      "outputs": []
    },
    {
      "cell_type": "markdown",
      "metadata": {
        "id": "e7VASBn6BhkR"
      },
      "source": [
        "Classification Metrics"
      ]
    },
    {
      "cell_type": "code",
      "metadata": {
        "colab": {
          "base_uri": "https://localhost:8080/"
        },
        "id": "pF0ZLAKqBaAj",
        "outputId": "b7fc6771-4de6-44c9-da8a-51c512d9e66e"
      },
      "source": [
        "# Classification metrics for training data\n",
        "print('Training')\n",
        "get_classification_metrics(y_train, y_train_pred_ada)\n",
        "\n",
        "print(\"\")\n",
        "\n",
        "# Classification metrics for test data\n",
        "print('Test')\n",
        "get_classification_metrics(y_test, y_test_pred_ada)"
      ],
      "execution_count": 44,
      "outputs": [
        {
          "output_type": "stream",
          "text": [
            "Training\n",
            "[[2033 1320]\n",
            " [ 727 2626]]\n",
            "Accuracy: 0.6947509692812407, Precision: 0.6654840344652813, Recall: 0.7831792424694304, F1 Score: 0.7195506233730649\n",
            "\n",
            "Test\n",
            "[[5246 1998]\n",
            " [ 460  369]]\n",
            "Accuracy: 0.6955283042239564, Precision: 0.155893536121673, Recall: 0.4451145958986731, F1 Score: 0.2309136420525657\n"
          ],
          "name": "stdout"
        }
      ]
    },
    {
      "cell_type": "markdown",
      "metadata": {
        "id": "_8lFL167BEPA"
      },
      "source": [
        "##SVM"
      ]
    },
    {
      "cell_type": "markdown",
      "metadata": {
        "id": "OzaIgeX1GCfJ"
      },
      "source": [
        "Hyperparameter Tuning"
      ]
    },
    {
      "cell_type": "code",
      "metadata": {
        "colab": {
          "base_uri": "https://localhost:8080/"
        },
        "id": "i8gOpmr2BFK9",
        "outputId": "d4f78d4d-1d9c-4646-f3fc-e026f398e615"
      },
      "source": [
        "list_kernel_type = ['linear', 'poly', 'rbf']\n",
        "random_state = 20\n",
        "\n",
        "objs_KSVM = [SVC(kernel=kernel_type, random_state=random_state) for kernel_type in list_kernel_type]\n",
        "\n",
        "for model in objs_KSVM:\n",
        "  model.fit(X_train, y_train)\n",
        "  print(model.score(X_test, y_test))"
      ],
      "execution_count": 45,
      "outputs": [
        {
          "output_type": "stream",
          "text": [
            "0.46636937941285767\n",
            "0.2598786077046947\n",
            "0.43057103926669144\n"
          ],
          "name": "stdout"
        }
      ]
    },
    {
      "cell_type": "markdown",
      "metadata": {
        "id": "2IzDV0BsGRgE"
      },
      "source": [
        "Fitting and Predicting"
      ]
    },
    {
      "cell_type": "code",
      "metadata": {
        "id": "BqOI4ZlAGLr1"
      },
      "source": [
        "clf = SVC(kernel='linear', random_state=20)\n",
        "clf.fit(X_train, y_train)\n",
        "y_train_pred_svm = clf.predict(X_train)\n",
        "y_test_pred_svm = clf.predict(X_test)"
      ],
      "execution_count": 47,
      "outputs": []
    },
    {
      "cell_type": "code",
      "metadata": {
        "id": "0vfb7daWf7Za"
      },
      "source": [
        "# Save the predictions\n",
        "svm_predictions_train = y_train_pred_svm\n",
        "svm_predictions_test = y_test_pred_svm"
      ],
      "execution_count": 48,
      "outputs": []
    },
    {
      "cell_type": "markdown",
      "metadata": {
        "id": "Veyg4uhzGO2N"
      },
      "source": [
        "Classification Metrics"
      ]
    },
    {
      "cell_type": "code",
      "metadata": {
        "colab": {
          "base_uri": "https://localhost:8080/"
        },
        "id": "nOZRf1L3GOkJ",
        "outputId": "d52da9fa-1eaa-4d1e-a627-71ceecfecde0"
      },
      "source": [
        "# Classification metrics for training data\n",
        "print('Training')\n",
        "get_classification_metrics(y_train, y_train_pred_svm)\n",
        "\n",
        "print(\"\")\n",
        "\n",
        "# Classification metrics for test data\n",
        "print('Test')\n",
        "get_classification_metrics(y_test, y_test_pred_svm)"
      ],
      "execution_count": 49,
      "outputs": [
        {
          "output_type": "stream",
          "text": [
            "Training\n",
            "[[1496 1857]\n",
            " [ 656 2697]]\n",
            "Accuracy: 0.6252609603340292, Precision: 0.5922266139657444, Recall: 0.8043543095735163, F1 Score: 0.6821803465283924\n",
            "\n",
            "Test\n",
            "[[3170 4074]\n",
            " [ 234  595]]\n",
            "Accuracy: 0.46636937941285767, Precision: 0.12743628185907047, Recall: 0.7177322074788902, F1 Score: 0.21644234267006182\n"
          ],
          "name": "stdout"
        }
      ]
    },
    {
      "cell_type": "markdown",
      "metadata": {
        "id": "lOg94l1UapM2"
      },
      "source": [
        "##kNN"
      ]
    },
    {
      "cell_type": "markdown",
      "metadata": {
        "id": "tqfhkvRVgAUi"
      },
      "source": [
        "Hyperparameter Tuning"
      ]
    },
    {
      "cell_type": "code",
      "metadata": {
        "colab": {
          "base_uri": "https://localhost:8080/"
        },
        "id": "GZg8magIasMq",
        "outputId": "c02a2894-278a-40bf-d0bd-2ee85b37a205"
      },
      "source": [
        "param_grid_knn={'n_neighbors':[8, 9, 10]}\n",
        "\n",
        "model_list = [KNeighborsClassifier()]\n",
        "param_grid_list = [param_grid_knn]\n",
        "\n",
        "hyp_tuning(model_list, param_grid_list, X_train, y_train, X_test, y_test)"
      ],
      "execution_count": 51,
      "outputs": [
        {
          "output_type": "stream",
          "text": [
            "KNeighborsClassifier(algorithm='auto', leaf_size=30, metric='minkowski',\n",
            "                     metric_params=None, n_jobs=None, n_neighbors=5, p=2,\n",
            "                     weights='uniform')\n",
            "Best Parameters: {'n_neighbors': 9}\n",
            "Best Cross Validation Score: 0.5808231950931919\n",
            "Validation Set Score: 0.43874643874643876\n"
          ],
          "name": "stdout"
        }
      ]
    },
    {
      "cell_type": "markdown",
      "metadata": {
        "id": "VoVhm2bUgDKe"
      },
      "source": [
        "Fitting and Predicting"
      ]
    },
    {
      "cell_type": "code",
      "metadata": {
        "id": "uUzZ13Ije650"
      },
      "source": [
        "clf = KNeighborsClassifier(n_neighbors=9)\n",
        "clf.fit(X_train, y_train)\n",
        "y_train_pred_knn = clf.predict(X_train)\n",
        "y_test_pred_knn = clf.predict(X_test)"
      ],
      "execution_count": 52,
      "outputs": []
    },
    {
      "cell_type": "code",
      "metadata": {
        "id": "laUBvSAuf9UJ"
      },
      "source": [
        "# Save the predictions\n",
        "knn_predictions_train = y_train_pred_knn\n",
        "knn_predictions_test = y_test_pred_knn"
      ],
      "execution_count": 53,
      "outputs": []
    },
    {
      "cell_type": "markdown",
      "metadata": {
        "id": "ms-T4pvtgGVU"
      },
      "source": [
        "Classification Metrics"
      ]
    },
    {
      "cell_type": "code",
      "metadata": {
        "colab": {
          "base_uri": "https://localhost:8080/"
        },
        "id": "CsgwOPfke-3h",
        "outputId": "01de85b6-e917-4ca5-82df-8347b40af5c8"
      },
      "source": [
        "# Classification metrics for training data\n",
        "print('Training')\n",
        "get_classification_metrics(y_train, y_train_pred_knn)\n",
        "\n",
        "print(\"\")\n",
        "\n",
        "# Classification metrics for test data\n",
        "print('Test')\n",
        "get_classification_metrics(y_test, y_test_pred_knn)"
      ],
      "execution_count": 54,
      "outputs": [
        {
          "output_type": "stream",
          "text": [
            "Training\n",
            "[[1969 1384]\n",
            " [ 750 2603]]\n",
            "Accuracy: 0.6817775126752162, Precision: 0.6528718334587409, Recall: 0.7763197136892335, F1 Score: 0.7092643051771117\n",
            "\n",
            "Test\n",
            "[[2978 4266]\n",
            " [ 265  564]]\n",
            "Accuracy: 0.43874643874643876, Precision: 0.11677018633540373, Recall: 0.6803377563329313, F1 Score: 0.19932850326912885\n"
          ],
          "name": "stdout"
        }
      ]
    },
    {
      "cell_type": "markdown",
      "metadata": {
        "id": "EZ_QotuSfUWg"
      },
      "source": [
        "#Ensemble"
      ]
    },
    {
      "cell_type": "markdown",
      "metadata": {
        "id": "HNGEJ3Sggauv"
      },
      "source": [
        "##Dataframe Assembly"
      ]
    },
    {
      "cell_type": "code",
      "metadata": {
        "id": "j6LLUNCYfVvD"
      },
      "source": [
        "# initialize dataframe of supervised results with log predictions\n",
        "supervised_train_df = pd.DataFrame(log_predictions_train, columns = ['log_predictions_train'])\n",
        "supervised_train_df['rf_predictions_train'] = rf_predictions_train\n",
        "supervised_train_df['ada_predictions_train'] = ada_predictions_train\n",
        "supervised_train_df['svm_predictions_train'] = svm_predictions_train\n",
        "supervised_train_df['knn_predictions_train'] = knn_predictions_train"
      ],
      "execution_count": 55,
      "outputs": []
    },
    {
      "cell_type": "code",
      "metadata": {
        "id": "fiFPC_Xkgcx_"
      },
      "source": [
        "# initialize dataframe of supervised results with log predictions\n",
        "supervised_test_df = pd.DataFrame(log_predictions_test, columns = ['log_predictions_test'])\n",
        "supervised_test_df['rf_predictions_test'] = rf_predictions_test\n",
        "supervised_test_df['ada_predictions_test'] = ada_predictions_test\n",
        "supervised_test_df['svm_predictions_test'] = svm_predictions_test\n",
        "supervised_test_df['knn_predictions_test'] = knn_predictions_test"
      ],
      "execution_count": 56,
      "outputs": []
    },
    {
      "cell_type": "code",
      "metadata": {
        "colab": {
          "base_uri": "https://localhost:8080/",
          "height": 197
        },
        "id": "LEuFRxD4gcqW",
        "outputId": "5b534af6-46ac-4967-8d68-9ce5645c2dc9"
      },
      "source": [
        "supervised_train_df.head()"
      ],
      "execution_count": 57,
      "outputs": [
        {
          "output_type": "execute_result",
          "data": {
            "text/html": [
              "<div>\n",
              "<style scoped>\n",
              "    .dataframe tbody tr th:only-of-type {\n",
              "        vertical-align: middle;\n",
              "    }\n",
              "\n",
              "    .dataframe tbody tr th {\n",
              "        vertical-align: top;\n",
              "    }\n",
              "\n",
              "    .dataframe thead th {\n",
              "        text-align: right;\n",
              "    }\n",
              "</style>\n",
              "<table border=\"1\" class=\"dataframe\">\n",
              "  <thead>\n",
              "    <tr style=\"text-align: right;\">\n",
              "      <th></th>\n",
              "      <th>log_predictions_train</th>\n",
              "      <th>rf_predictions_train</th>\n",
              "      <th>ada_predictions_train</th>\n",
              "      <th>svm_predictions_train</th>\n",
              "      <th>knn_predictions_train</th>\n",
              "    </tr>\n",
              "  </thead>\n",
              "  <tbody>\n",
              "    <tr>\n",
              "      <th>0</th>\n",
              "      <td>1</td>\n",
              "      <td>1</td>\n",
              "      <td>1</td>\n",
              "      <td>1</td>\n",
              "      <td>1</td>\n",
              "    </tr>\n",
              "    <tr>\n",
              "      <th>1</th>\n",
              "      <td>1</td>\n",
              "      <td>0</td>\n",
              "      <td>0</td>\n",
              "      <td>1</td>\n",
              "      <td>0</td>\n",
              "    </tr>\n",
              "    <tr>\n",
              "      <th>2</th>\n",
              "      <td>0</td>\n",
              "      <td>0</td>\n",
              "      <td>0</td>\n",
              "      <td>0</td>\n",
              "      <td>0</td>\n",
              "    </tr>\n",
              "    <tr>\n",
              "      <th>3</th>\n",
              "      <td>1</td>\n",
              "      <td>0</td>\n",
              "      <td>1</td>\n",
              "      <td>1</td>\n",
              "      <td>0</td>\n",
              "    </tr>\n",
              "    <tr>\n",
              "      <th>4</th>\n",
              "      <td>1</td>\n",
              "      <td>0</td>\n",
              "      <td>1</td>\n",
              "      <td>1</td>\n",
              "      <td>0</td>\n",
              "    </tr>\n",
              "  </tbody>\n",
              "</table>\n",
              "</div>"
            ],
            "text/plain": [
              "   log_predictions_train  ...  knn_predictions_train\n",
              "0                      1  ...                      1\n",
              "1                      1  ...                      0\n",
              "2                      0  ...                      0\n",
              "3                      1  ...                      0\n",
              "4                      1  ...                      0\n",
              "\n",
              "[5 rows x 5 columns]"
            ]
          },
          "metadata": {
            "tags": []
          },
          "execution_count": 57
        }
      ]
    },
    {
      "cell_type": "code",
      "metadata": {
        "colab": {
          "base_uri": "https://localhost:8080/",
          "height": 197
        },
        "id": "98hK_ZgshDLo",
        "outputId": "e6b7bf32-a5a4-4e9f-8162-d0cadbb2ba18"
      },
      "source": [
        "supervised_test_df.head()"
      ],
      "execution_count": 58,
      "outputs": [
        {
          "output_type": "execute_result",
          "data": {
            "text/html": [
              "<div>\n",
              "<style scoped>\n",
              "    .dataframe tbody tr th:only-of-type {\n",
              "        vertical-align: middle;\n",
              "    }\n",
              "\n",
              "    .dataframe tbody tr th {\n",
              "        vertical-align: top;\n",
              "    }\n",
              "\n",
              "    .dataframe thead th {\n",
              "        text-align: right;\n",
              "    }\n",
              "</style>\n",
              "<table border=\"1\" class=\"dataframe\">\n",
              "  <thead>\n",
              "    <tr style=\"text-align: right;\">\n",
              "      <th></th>\n",
              "      <th>log_predictions_test</th>\n",
              "      <th>rf_predictions_test</th>\n",
              "      <th>ada_predictions_test</th>\n",
              "      <th>svm_predictions_test</th>\n",
              "      <th>knn_predictions_test</th>\n",
              "    </tr>\n",
              "  </thead>\n",
              "  <tbody>\n",
              "    <tr>\n",
              "      <th>0</th>\n",
              "      <td>0</td>\n",
              "      <td>0</td>\n",
              "      <td>0</td>\n",
              "      <td>1</td>\n",
              "      <td>1</td>\n",
              "    </tr>\n",
              "    <tr>\n",
              "      <th>1</th>\n",
              "      <td>1</td>\n",
              "      <td>0</td>\n",
              "      <td>0</td>\n",
              "      <td>1</td>\n",
              "      <td>1</td>\n",
              "    </tr>\n",
              "    <tr>\n",
              "      <th>2</th>\n",
              "      <td>1</td>\n",
              "      <td>0</td>\n",
              "      <td>0</td>\n",
              "      <td>1</td>\n",
              "      <td>1</td>\n",
              "    </tr>\n",
              "    <tr>\n",
              "      <th>3</th>\n",
              "      <td>1</td>\n",
              "      <td>1</td>\n",
              "      <td>1</td>\n",
              "      <td>1</td>\n",
              "      <td>1</td>\n",
              "    </tr>\n",
              "    <tr>\n",
              "      <th>4</th>\n",
              "      <td>1</td>\n",
              "      <td>1</td>\n",
              "      <td>1</td>\n",
              "      <td>1</td>\n",
              "      <td>1</td>\n",
              "    </tr>\n",
              "  </tbody>\n",
              "</table>\n",
              "</div>"
            ],
            "text/plain": [
              "   log_predictions_test  ...  knn_predictions_test\n",
              "0                     0  ...                     1\n",
              "1                     1  ...                     1\n",
              "2                     1  ...                     1\n",
              "3                     1  ...                     1\n",
              "4                     1  ...                     1\n",
              "\n",
              "[5 rows x 5 columns]"
            ]
          },
          "metadata": {
            "tags": []
          },
          "execution_count": 58
        }
      ]
    },
    {
      "cell_type": "markdown",
      "metadata": {
        "id": "j8CJYvXpiRxf"
      },
      "source": [
        "##Random Forest on Individual Learners"
      ]
    },
    {
      "cell_type": "code",
      "metadata": {
        "colab": {
          "base_uri": "https://localhost:8080/"
        },
        "id": "2kiyQ625iS3b",
        "outputId": "c465227c-77a2-4087-f493-a70f6e0eca9c"
      },
      "source": [
        "# define hyperparameter grid\n",
        "param_grid_rf = [\n",
        "    {'max_depth': [2, 3], 'min_samples_split': [2,3]}\n",
        "]\n",
        "\n",
        "model_list = [RandomForestClassifier()]\n",
        "param_grid_list = [param_grid_rf]\n",
        "\n",
        "hyp_tuning(model_list, param_grid_list, supervised_train_df, y_train, supervised_test_df, y_test)"
      ],
      "execution_count": 63,
      "outputs": [
        {
          "output_type": "stream",
          "text": [
            "RandomForestClassifier(bootstrap=True, ccp_alpha=0.0, class_weight=None,\n",
            "                       criterion='gini', max_depth=None, max_features='auto',\n",
            "                       max_leaf_nodes=None, max_samples=None,\n",
            "                       min_impurity_decrease=0.0, min_impurity_split=None,\n",
            "                       min_samples_leaf=1, min_samples_split=2,\n",
            "                       min_weight_fraction_leaf=0.0, n_estimators=100,\n",
            "                       n_jobs=None, oob_score=False, random_state=None,\n",
            "                       verbose=0, warm_start=False)\n",
            "Best Parameters: {'max_depth': 2, 'min_samples_split': 2}\n",
            "Best Cross Validation Score: 0.88517699828075\n",
            "Validation Set Score: 0.6930509104422148\n"
          ],
          "name": "stdout"
        }
      ]
    },
    {
      "cell_type": "code",
      "metadata": {
        "id": "tX8H8pj7lxBq"
      },
      "source": [
        "clf = RandomForestClassifier(max_depth=2, min_samples_split=2)\n",
        "clf.fit(supervised_train_df, y_train)\n",
        "y_train_pred_ensemble = clf.predict(supervised_train_df)\n",
        "y_test_pred_ensemble = clf.predict(supervised_test_df)"
      ],
      "execution_count": 64,
      "outputs": []
    },
    {
      "cell_type": "code",
      "metadata": {
        "colab": {
          "base_uri": "https://localhost:8080/"
        },
        "id": "157ufR-OiWrL",
        "outputId": "04dcd2ed-276c-45b5-aa84-d52761c7d7e5"
      },
      "source": [
        "# Classification metrics for training data\n",
        "print('Training')\n",
        "get_classification_metrics(y_train, y_train_pred_ensemble)\n",
        "\n",
        "print(\"\")\n",
        "\n",
        "# Classification metrics for test data\n",
        "print('Test')\n",
        "get_classification_metrics(y_test, y_test_pred_ensemble)"
      ],
      "execution_count": 65,
      "outputs": [
        {
          "output_type": "stream",
          "text": [
            "Training\n",
            "[[2627  726]\n",
            " [  44 3309]]\n",
            "Accuracy: 0.8851774530271399, Precision: 0.8200743494423792, Recall: 0.9868774232031017, F1 Score: 0.8957769355711965\n",
            "\n",
            "Test\n",
            "[[5235 2009]\n",
            " [ 469  360]]\n",
            "Accuracy: 0.6930509104422148, Precision: 0.15196285352469396, Recall: 0.43425814234016885, F1 Score: 0.225140712945591\n"
          ],
          "name": "stdout"
        }
      ]
    }
  ]
}